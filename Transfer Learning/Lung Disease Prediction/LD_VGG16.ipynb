{
  "nbformat": 4,
  "nbformat_minor": 0,
  "metadata": {
    "colab": {
      "name": "LD_VGG16.ipynb",
      "provenance": [],
      "collapsed_sections": []
    },
    "kernelspec": {
      "name": "python3",
      "display_name": "Python 3"
    },
    "language_info": {
      "name": "python"
    },
    "accelerator": "GPU"
  },
  "cells": [
    {
      "cell_type": "code",
      "metadata": {
        "id": "Bgwaznu8Pb6P"
      },
      "source": [
        "import pandas as pd\n",
        "import numpy as np\n",
        "import matplotlib.pyplot as plt\n",
        "import os\n",
        "\n",
        "from tensorflow import keras\n",
        "from tensorflow.keras.models import Model\n",
        "from keras.layers import Dense, Dropout\n",
        "from keras.layers import Flatten\n",
        "from tensorflow.keras.preprocessing.image import ImageDataGenerator\n",
        "from keras.applications.vgg16 import VGG16\n",
        "from keras.applications.vgg16 import preprocess_input\n",
        "from keras.callbacks import ModelCheckpoint, EarlyStopping\n",
        "from sklearn.metrics import classification_report, confusion_matrix"
      ],
      "execution_count": null,
      "outputs": []
    },
    {
      "cell_type": "code",
      "metadata": {
        "id": "dNpbdNj6PcKS"
      },
      "source": [
        "train_path = '/content/drive/MyDrive/Colab Notebooks/data_covid/NonAugmentedTrain'\n",
        "val_path = '/content/drive/MyDrive/Colab Notebooks/data_covid/ValData'"
      ],
      "execution_count": null,
      "outputs": []
    },
    {
      "cell_type": "code",
      "metadata": {
        "colab": {
          "base_uri": "https://localhost:8080/"
        },
        "id": "pX0OEdYCYITx",
        "outputId": "69da72ad-0e61-47d0-c09b-9e99563a5d43"
      },
      "source": [
        "num_classes_train = len(os.listdir(train_path))\n",
        "print(\"There are %d classes in the train dataset.\" %num_classes_train)"
      ],
      "execution_count": null,
      "outputs": [
        {
          "output_type": "stream",
          "text": [
            "There are 4 classes in the train dataset.\n"
          ],
          "name": "stdout"
        }
      ]
    },
    {
      "cell_type": "code",
      "metadata": {
        "colab": {
          "base_uri": "https://localhost:8080/"
        },
        "id": "kj-U__37YIV0",
        "outputId": "d24af696-dfeb-42c4-a5f3-9c8857d82ed4"
      },
      "source": [
        "num_classes_val = len(os.listdir(val_path))\n",
        "print(\"There are %d classes in the validation dataset.\" %num_classes_val)"
      ],
      "execution_count": null,
      "outputs": [
        {
          "output_type": "stream",
          "text": [
            "There are 4 classes in the validation dataset.\n"
          ],
          "name": "stdout"
        }
      ]
    },
    {
      "cell_type": "code",
      "metadata": {
        "colab": {
          "base_uri": "https://localhost:8080/"
        },
        "id": "hnwRWEc_YIZF",
        "outputId": "9172b350-633c-48a5-ded6-0699d9b4178c"
      },
      "source": [
        "##  we'll explore more of the train dataset..\n",
        "\n",
        "BP_path = '/content/drive/MyDrive/Colab Notebooks/data_covid/NonAugmentedTrain/BacterialPneumonia'\n",
        "img_list_bp = os.listdir(BP_path)\n",
        "\n",
        "print('There are %d images of Bacterial Pneumonia present in the Train dataste.' %(len(img_list_bp)))"
      ],
      "execution_count": null,
      "outputs": [
        {
          "output_type": "stream",
          "text": [
            "There are 650 images of Bacterial Pneumonia present in the Train dataste.\n"
          ],
          "name": "stdout"
        }
      ]
    },
    {
      "cell_type": "code",
      "metadata": {
        "colab": {
          "base_uri": "https://localhost:8080/"
        },
        "id": "KJzgui4RY2Xr",
        "outputId": "1386460e-0317-4230-db68-b0572eeb2000"
      },
      "source": [
        "covid_path = '/content/drive/MyDrive/Colab Notebooks/data_covid/NonAugmentedTrain/COVID-19'\n",
        "img_list_covid = os.listdir(covid_path)\n",
        "\n",
        "print('There are %d images of COVID-19 present in the Train dataste.' %(len(img_list_covid)))"
      ],
      "execution_count": null,
      "outputs": [
        {
          "output_type": "stream",
          "text": [
            "There are 60 images of COVID-19 present in the Train dataste.\n"
          ],
          "name": "stdout"
        }
      ]
    },
    {
      "cell_type": "code",
      "metadata": {
        "colab": {
          "base_uri": "https://localhost:8080/"
        },
        "id": "edYGPVNRY2am",
        "outputId": "2cc3ec8e-ed30-4841-c4d5-d7d827426a0e"
      },
      "source": [
        "normal_path = '/content/drive/MyDrive/Colab Notebooks/data_covid/NonAugmentedTrain/Normal'\n",
        "img_list_normal = os.listdir(normal_path)\n",
        "\n",
        "print('There are %d images of Normal lung present in the Train dataste.' %(len(img_list_normal)))"
      ],
      "execution_count": null,
      "outputs": [
        {
          "output_type": "stream",
          "text": [
            "There are 880 images of Normal lung present in the Train dataste.\n"
          ],
          "name": "stdout"
        }
      ]
    },
    {
      "cell_type": "code",
      "metadata": {
        "colab": {
          "base_uri": "https://localhost:8080/"
        },
        "id": "4JmbW6PHY2dh",
        "outputId": "8221b374-4298-4e3b-ef30-9c0a4dbe77fd"
      },
      "source": [
        "VP_path = '/content/drive/MyDrive/Colab Notebooks/data_covid/NonAugmentedTrain/ViralPneumonia'\n",
        "img_list_vp = os.listdir(VP_path)\n",
        "\n",
        "print('There are %d images of Viral Pneumonia present in the Train dataste.' %(len(img_list_vp)))"
      ],
      "execution_count": null,
      "outputs": [
        {
          "output_type": "stream",
          "text": [
            "There are 412 images of Viral Pneumonia present in the Train dataste.\n"
          ],
          "name": "stdout"
        }
      ]
    },
    {
      "cell_type": "code",
      "metadata": {
        "id": "uL5jSNidY2f0"
      },
      "source": [
        "batch_size = 32\n",
        "image_size = (224, 224)"
      ],
      "execution_count": null,
      "outputs": []
    },
    {
      "cell_type": "code",
      "metadata": {
        "id": "GSV7z4bJY2ic"
      },
      "source": [
        "train_gen = ImageDataGenerator(                                                            \n",
        "                                width_shift_range=0.1,\n",
        "                                height_shift_range=0.1,\n",
        "                                shear_range=0.2,\n",
        "                                zoom_range=0.2,\n",
        "                                horizontal_flip=True,\n",
        "                                preprocessing_function=preprocess_input,\n",
        "                                fill_mode='nearest')"
      ],
      "execution_count": null,
      "outputs": []
    },
    {
      "cell_type": "code",
      "metadata": {
        "id": "-9FhnJh1Y2lc"
      },
      "source": [
        "val_gen = ImageDataGenerator(preprocessing_function=preprocess_input)"
      ],
      "execution_count": null,
      "outputs": []
    },
    {
      "cell_type": "code",
      "metadata": {
        "colab": {
          "base_uri": "https://localhost:8080/"
        },
        "id": "nzGY6QP3dH6A",
        "outputId": "5e4186a3-9125-488a-b6ce-c3548e97ce58"
      },
      "source": [
        "train_ds = train_gen.flow_from_directory(train_path,\n",
        "                                         target_size=image_size,\n",
        "                                         class_mode='sparse',\n",
        "                                         batch_size=batch_size,\n",
        "                                         shuffle=True)"
      ],
      "execution_count": null,
      "outputs": [
        {
          "output_type": "stream",
          "text": [
            "Found 2002 images belonging to 4 classes.\n"
          ],
          "name": "stdout"
        }
      ]
    },
    {
      "cell_type": "code",
      "metadata": {
        "colab": {
          "base_uri": "https://localhost:8080/"
        },
        "id": "cQoB3zGmxnN9",
        "outputId": "e26592e2-0604-4b87-b3e8-0462061909cc"
      },
      "source": [
        "images, labels = next(iter(train_ds))\n",
        "print(images.shape, labels.shape)"
      ],
      "execution_count": null,
      "outputs": [
        {
          "output_type": "stream",
          "text": [
            "(32, 224, 224, 3) (32,)\n"
          ],
          "name": "stdout"
        }
      ]
    },
    {
      "cell_type": "code",
      "metadata": {
        "colab": {
          "base_uri": "https://localhost:8080/"
        },
        "id": "iALvtqn5dH8V",
        "outputId": "7d0b9fad-88c3-4f92-aba3-3d7f91a7c3f6"
      },
      "source": [
        "val_ds = val_gen.flow_from_directory(val_path,\n",
        "                                     target_size=image_size,\n",
        "                                     class_mode='sparse',\n",
        "                                     batch_size=batch_size,\n",
        "                                     shuffle=True)"
      ],
      "execution_count": null,
      "outputs": [
        {
          "output_type": "stream",
          "text": [
            "Found 988 images belonging to 4 classes.\n"
          ],
          "name": "stdout"
        }
      ]
    },
    {
      "cell_type": "code",
      "metadata": {
        "colab": {
          "base_uri": "https://localhost:8080/"
        },
        "id": "0ofPDMSquMyX",
        "outputId": "2d52320b-eba5-492d-e177-963267e08c48"
      },
      "source": [
        "num_classes = train_ds.num_classes\n",
        "num_classes"
      ],
      "execution_count": null,
      "outputs": [
        {
          "output_type": "execute_result",
          "data": {
            "text/plain": [
              "4"
            ]
          },
          "metadata": {
            "tags": []
          },
          "execution_count": 16
        }
      ]
    },
    {
      "cell_type": "code",
      "metadata": {
        "colab": {
          "base_uri": "https://localhost:8080/"
        },
        "id": "cy-3lyf9Gouh",
        "outputId": "95153efc-ce47-435e-bc9f-d3afb519f61e"
      },
      "source": [
        "train_ds.class_indices"
      ],
      "execution_count": null,
      "outputs": [
        {
          "output_type": "execute_result",
          "data": {
            "text/plain": [
              "{'BacterialPneumonia': 0, 'COVID-19': 1, 'Normal': 2, 'ViralPneumonia': 3}"
            ]
          },
          "metadata": {
            "tags": []
          },
          "execution_count": 17
        }
      ]
    },
    {
      "cell_type": "code",
      "metadata": {
        "colab": {
          "base_uri": "https://localhost:8080/"
        },
        "id": "VmU1FqChStV4",
        "outputId": "bde131d6-0c33-4497-916a-76724507d8a9"
      },
      "source": [
        "class_labels = list(train_ds.class_indices.keys())\n",
        "class_labels\n"
      ],
      "execution_count": null,
      "outputs": [
        {
          "output_type": "execute_result",
          "data": {
            "text/plain": [
              "['BacterialPneumonia', 'COVID-19', 'Normal', 'ViralPneumonia']"
            ]
          },
          "metadata": {
            "tags": []
          },
          "execution_count": 19
        }
      ]
    },
    {
      "cell_type": "code",
      "metadata": {
        "id": "wfAJQlwjZRlM",
        "colab": {
          "base_uri": "https://localhost:8080/"
        },
        "outputId": "f100a2ac-08e2-484c-88d8-be4723dec750"
      },
      "source": [
        "## defining the  base Vgg16 model..\n",
        "\n",
        "img_shape = image_size + (3,)\n",
        "\n",
        "basemodel_vgg16 = VGG16(include_top=False,\n",
        "                        weights='imagenet',\n",
        "                        input_shape=img_shape)"
      ],
      "execution_count": null,
      "outputs": [
        {
          "output_type": "stream",
          "text": [
            "Downloading data from https://storage.googleapis.com/tensorflow/keras-applications/vgg16/vgg16_weights_tf_dim_ordering_tf_kernels_notop.h5\n",
            "58892288/58889256 [==============================] - 0s 0us/step\n"
          ],
          "name": "stdout"
        }
      ]
    },
    {
      "cell_type": "code",
      "metadata": {
        "id": "fxJx555y-z18"
      },
      "source": [
        "basemodel_vgg16.trainable = False"
      ],
      "execution_count": null,
      "outputs": []
    },
    {
      "cell_type": "code",
      "metadata": {
        "colab": {
          "base_uri": "https://localhost:8080/"
        },
        "id": "tt-GML58_EBP",
        "outputId": "9f9b920c-e0be-4526-fd3e-4d6a8796946c"
      },
      "source": [
        "basemodel_vgg16.summary()"
      ],
      "execution_count": null,
      "outputs": [
        {
          "output_type": "stream",
          "text": [
            "Model: \"vgg16\"\n",
            "_________________________________________________________________\n",
            "Layer (type)                 Output Shape              Param #   \n",
            "=================================================================\n",
            "input_1 (InputLayer)         [(None, 224, 224, 3)]     0         \n",
            "_________________________________________________________________\n",
            "block1_conv1 (Conv2D)        (None, 224, 224, 64)      1792      \n",
            "_________________________________________________________________\n",
            "block1_conv2 (Conv2D)        (None, 224, 224, 64)      36928     \n",
            "_________________________________________________________________\n",
            "block1_pool (MaxPooling2D)   (None, 112, 112, 64)      0         \n",
            "_________________________________________________________________\n",
            "block2_conv1 (Conv2D)        (None, 112, 112, 128)     73856     \n",
            "_________________________________________________________________\n",
            "block2_conv2 (Conv2D)        (None, 112, 112, 128)     147584    \n",
            "_________________________________________________________________\n",
            "block2_pool (MaxPooling2D)   (None, 56, 56, 128)       0         \n",
            "_________________________________________________________________\n",
            "block3_conv1 (Conv2D)        (None, 56, 56, 256)       295168    \n",
            "_________________________________________________________________\n",
            "block3_conv2 (Conv2D)        (None, 56, 56, 256)       590080    \n",
            "_________________________________________________________________\n",
            "block3_conv3 (Conv2D)        (None, 56, 56, 256)       590080    \n",
            "_________________________________________________________________\n",
            "block3_pool (MaxPooling2D)   (None, 28, 28, 256)       0         \n",
            "_________________________________________________________________\n",
            "block4_conv1 (Conv2D)        (None, 28, 28, 512)       1180160   \n",
            "_________________________________________________________________\n",
            "block4_conv2 (Conv2D)        (None, 28, 28, 512)       2359808   \n",
            "_________________________________________________________________\n",
            "block4_conv3 (Conv2D)        (None, 28, 28, 512)       2359808   \n",
            "_________________________________________________________________\n",
            "block4_pool (MaxPooling2D)   (None, 14, 14, 512)       0         \n",
            "_________________________________________________________________\n",
            "block5_conv1 (Conv2D)        (None, 14, 14, 512)       2359808   \n",
            "_________________________________________________________________\n",
            "block5_conv2 (Conv2D)        (None, 14, 14, 512)       2359808   \n",
            "_________________________________________________________________\n",
            "block5_conv3 (Conv2D)        (None, 14, 14, 512)       2359808   \n",
            "_________________________________________________________________\n",
            "block5_pool (MaxPooling2D)   (None, 7, 7, 512)         0         \n",
            "=================================================================\n",
            "Total params: 14,714,688\n",
            "Trainable params: 0\n",
            "Non-trainable params: 14,714,688\n",
            "_________________________________________________________________\n"
          ],
          "name": "stdout"
        }
      ]
    },
    {
      "cell_type": "code",
      "metadata": {
        "id": "jPNjfbvhqhV8"
      },
      "source": [
        "## Constructing a new model by adding the classification layer on top of the base model \n",
        "\n",
        "x = basemodel_vgg16.output\n",
        "x = Flatten(name=\"flatten\")(x)\n",
        "x = Dense(512, activation='relu')(x)\n",
        "x = Dropout(0.5)(x)\n",
        "x = Dense(256, activation='relu')(x)\n",
        "x = Dropout(0.2)(x)\n",
        "output = Dense(num_classes, activation='softmax')(x)\n",
        "\n",
        "#define new model\n",
        "model = Model(inputs=basemodel_vgg16.input, outputs=output)"
      ],
      "execution_count": null,
      "outputs": []
    },
    {
      "cell_type": "code",
      "metadata": {
        "id": "jMUGml1IlGJJ"
      },
      "source": [
        "base_lr = 0.0001\n",
        "\n",
        "model.compile(optimizer=tf.keras.optimizers.Adam(lr=base_lr),\n",
        "                loss='sparse_categorical_crossentropy',\n",
        "                metrics=['accuracy'])"
      ],
      "execution_count": null,
      "outputs": []
    },
    {
      "cell_type": "code",
      "metadata": {
        "colab": {
          "base_uri": "https://localhost:8080/"
        },
        "id": "RRvprWjelGMS",
        "outputId": "d41e26f7-587f-489a-dba2-5b82b1bb746a"
      },
      "source": [
        "model.summary()"
      ],
      "execution_count": null,
      "outputs": [
        {
          "output_type": "stream",
          "text": [
            "Model: \"functional_1\"\n",
            "_________________________________________________________________\n",
            "Layer (type)                 Output Shape              Param #   \n",
            "=================================================================\n",
            "input_1 (InputLayer)         [(None, 224, 224, 3)]     0         \n",
            "_________________________________________________________________\n",
            "block1_conv1 (Conv2D)        (None, 224, 224, 64)      1792      \n",
            "_________________________________________________________________\n",
            "block1_conv2 (Conv2D)        (None, 224, 224, 64)      36928     \n",
            "_________________________________________________________________\n",
            "block1_pool (MaxPooling2D)   (None, 112, 112, 64)      0         \n",
            "_________________________________________________________________\n",
            "block2_conv1 (Conv2D)        (None, 112, 112, 128)     73856     \n",
            "_________________________________________________________________\n",
            "block2_conv2 (Conv2D)        (None, 112, 112, 128)     147584    \n",
            "_________________________________________________________________\n",
            "block2_pool (MaxPooling2D)   (None, 56, 56, 128)       0         \n",
            "_________________________________________________________________\n",
            "block3_conv1 (Conv2D)        (None, 56, 56, 256)       295168    \n",
            "_________________________________________________________________\n",
            "block3_conv2 (Conv2D)        (None, 56, 56, 256)       590080    \n",
            "_________________________________________________________________\n",
            "block3_conv3 (Conv2D)        (None, 56, 56, 256)       590080    \n",
            "_________________________________________________________________\n",
            "block3_pool (MaxPooling2D)   (None, 28, 28, 256)       0         \n",
            "_________________________________________________________________\n",
            "block4_conv1 (Conv2D)        (None, 28, 28, 512)       1180160   \n",
            "_________________________________________________________________\n",
            "block4_conv2 (Conv2D)        (None, 28, 28, 512)       2359808   \n",
            "_________________________________________________________________\n",
            "block4_conv3 (Conv2D)        (None, 28, 28, 512)       2359808   \n",
            "_________________________________________________________________\n",
            "block4_pool (MaxPooling2D)   (None, 14, 14, 512)       0         \n",
            "_________________________________________________________________\n",
            "block5_conv1 (Conv2D)        (None, 14, 14, 512)       2359808   \n",
            "_________________________________________________________________\n",
            "block5_conv2 (Conv2D)        (None, 14, 14, 512)       2359808   \n",
            "_________________________________________________________________\n",
            "block5_conv3 (Conv2D)        (None, 14, 14, 512)       2359808   \n",
            "_________________________________________________________________\n",
            "block5_pool (MaxPooling2D)   (None, 7, 7, 512)         0         \n",
            "_________________________________________________________________\n",
            "flatten (Flatten)            (None, 25088)             0         \n",
            "_________________________________________________________________\n",
            "dense_1 (Dense)              (None, 512)               12845568  \n",
            "_________________________________________________________________\n",
            "dropout (Dropout)            (None, 512)               0         \n",
            "_________________________________________________________________\n",
            "dense_2 (Dense)              (None, 256)               131328    \n",
            "_________________________________________________________________\n",
            "dropout_1 (Dropout)          (None, 256)               0         \n",
            "_________________________________________________________________\n",
            "dense_3 (Dense)              (None, 4)                 1028      \n",
            "=================================================================\n",
            "Total params: 27,692,612\n",
            "Trainable params: 12,977,924\n",
            "Non-trainable params: 14,714,688\n",
            "_________________________________________________________________\n"
          ],
          "name": "stdout"
        }
      ]
    },
    {
      "cell_type": "code",
      "metadata": {
        "colab": {
          "base_uri": "https://localhost:8080/"
        },
        "id": "AxXAb_YalGlq",
        "outputId": "9bbfe9cd-ebda-450c-be4d-ae1ef8ced85a"
      },
      "source": [
        "## lets train the model with the new added classifier for 10 epochs\n",
        "\n",
        "init_epoch = 10\n",
        "\n",
        "history = model.fit(train_ds,\n",
        "                    steps_per_epoch=len(train_ds),\n",
        "                    epochs=init_epoch,\n",
        "                    validation_data=val_ds,\n",
        "                    validation_steps=len(val_ds))"
      ],
      "execution_count": null,
      "outputs": [
        {
          "output_type": "stream",
          "text": [
            "Epoch 1/10\n",
            "63/63 [==============================] - 693s 11s/step - loss: 4.0439 - accuracy: 0.6259 - val_loss: 2.2090 - val_accuracy: 0.7227\n",
            "Epoch 2/10\n",
            "63/63 [==============================] - 43s 685ms/step - loss: 1.9387 - accuracy: 0.6973 - val_loss: 1.9359 - val_accuracy: 0.7277\n",
            "Epoch 3/10\n",
            "63/63 [==============================] - 43s 689ms/step - loss: 1.2989 - accuracy: 0.7078 - val_loss: 1.2805 - val_accuracy: 0.7429\n",
            "Epoch 4/10\n",
            "63/63 [==============================] - 43s 688ms/step - loss: 0.9996 - accuracy: 0.7163 - val_loss: 1.0073 - val_accuracy: 0.7500\n",
            "Epoch 5/10\n",
            "63/63 [==============================] - 43s 685ms/step - loss: 0.8069 - accuracy: 0.7098 - val_loss: 0.9883 - val_accuracy: 0.7368\n",
            "Epoch 6/10\n",
            "63/63 [==============================] - 43s 687ms/step - loss: 0.6845 - accuracy: 0.7163 - val_loss: 1.1617 - val_accuracy: 0.7328\n",
            "Epoch 7/10\n",
            "63/63 [==============================] - 43s 686ms/step - loss: 0.6245 - accuracy: 0.7537 - val_loss: 1.1259 - val_accuracy: 0.7308\n",
            "Epoch 8/10\n",
            "63/63 [==============================] - 43s 687ms/step - loss: 0.6625 - accuracy: 0.7328 - val_loss: 0.9254 - val_accuracy: 0.7379\n",
            "Epoch 9/10\n",
            "63/63 [==============================] - 44s 691ms/step - loss: 0.6523 - accuracy: 0.7473 - val_loss: 0.9586 - val_accuracy: 0.7490\n",
            "Epoch 10/10\n",
            "63/63 [==============================] - 44s 691ms/step - loss: 0.5950 - accuracy: 0.7562 - val_loss: 0.9728 - val_accuracy: 0.7632\n"
          ],
          "name": "stdout"
        }
      ]
    },
    {
      "cell_type": "code",
      "metadata": {
        "colab": {
          "base_uri": "https://localhost:8080/",
          "height": 513
        },
        "id": "LwiB1NY41QBq",
        "outputId": "6ed6e89e-7349-4415-8377-c63cd77afc18"
      },
      "source": [
        "acc = history.history['accuracy']\n",
        "val_acc = history.history['val_accuracy']\n",
        "\n",
        "loss = history.history['loss']\n",
        "val_loss = history.history['val_loss']\n",
        "\n",
        "plt.figure(figsize=(8,8))\n",
        "plt.subplot(2,1,1)\n",
        "plt.plot(acc, label='Training accuracy')\n",
        "plt.plot(val_acc, label='Validation accuracy')\n",
        "plt.legend(loc='lower right')\n",
        "plt.ylabel(\"Accuracy\")\n",
        "#plt.ylim([min(plt.ylim()),1])\n",
        "plt.title(\"Training and validation accuracy\")\n",
        "\n",
        "plt.subplot(2,1,2)\n",
        "plt.plot(loss, label='Training loss')\n",
        "plt.plot(val_loss, label='Validation loss')\n",
        "plt.legend(loc='upper right')\n",
        "plt.ylabel(\"loss\")\n",
        "#plt.ylim(0,1.0)\n",
        "plt.title(\"Training and validation loss\")\n",
        "plt.xlabel('epoch')\n",
        "plt.show()"
      ],
      "execution_count": null,
      "outputs": [
        {
          "output_type": "display_data",
          "data": {
            "image/png": "[encoded data removed]",
            "text/plain": [
              "<Figure size 576x576 with 2 Axes>"
            ]
          },
          "metadata": {
            "tags": [],
            "needs_background": "light"
          }
        }
      ]
    },
    {
      "cell_type": "code",
      "metadata": {
        "id": "p5GMy4OKHiw3"
      },
      "source": [
        "## lets do some fine tuning to see whether we can improve the model's accuracy"
      ],
      "execution_count": null,
      "outputs": []
    },
    {
      "cell_type": "code",
      "metadata": {
        "colab": {
          "base_uri": "https://localhost:8080/"
        },
        "id": "H945DLy6Hiz9",
        "outputId": "8b75faf9-5a2d-4406-910d-6439c339df97"
      },
      "source": [
        "# Let's take a look to see how many layers are in the base model vgg16\n",
        "\n",
        "print(\"Number of layers in the base model: \", len(basemodel_vgg16.layers))"
      ],
      "execution_count": null,
      "outputs": [
        {
          "output_type": "stream",
          "text": [
            "Number of layers in the base model:  19\n"
          ],
          "name": "stdout"
        }
      ]
    },
    {
      "cell_type": "code",
      "metadata": {
        "colab": {
          "base_uri": "https://localhost:8080/"
        },
        "id": "Ib2pNxNbISUo",
        "outputId": "061f5384-ff64-48e1-a1e7-aef0c2a50628"
      },
      "source": [
        "## lets check out the layers by name and the layers are trainable or not..\n",
        "\n",
        "for i , layer in enumerate(basemodel_vgg16.layers):\n",
        "  print(i, layer.name, layer.trainable)"
      ],
      "execution_count": null,
      "outputs": [
        {
          "output_type": "stream",
          "text": [
            "0 input_1 False\n",
            "1 block1_conv1 False\n",
            "2 block1_conv2 False\n",
            "3 block1_pool False\n",
            "4 block2_conv1 False\n",
            "5 block2_conv2 False\n",
            "6 block2_pool False\n",
            "7 block3_conv1 False\n",
            "8 block3_conv2 False\n",
            "9 block3_conv3 False\n",
            "10 block3_pool False\n",
            "11 block4_conv1 False\n",
            "12 block4_conv2 False\n",
            "13 block4_conv3 False\n",
            "14 block4_pool False\n",
            "15 block5_conv1 False\n",
            "16 block5_conv2 False\n",
            "17 block5_conv3 False\n",
            "18 block5_pool False\n"
          ],
          "name": "stdout"
        }
      ]
    },
    {
      "cell_type": "code",
      "metadata": {
        "id": "ZYcgpMg3ISXJ"
      },
      "source": [
        "## lets start fine tune from #15(i.e from block5)\n",
        "\n",
        "fine_tune_at = 15\n",
        "\n",
        "for layer in basemodel_vgg16.layers[:fine_tune_at]:\n",
        "  layer.trainable = False\n",
        "\n",
        "for layer in basemodel_vgg16.layers[fine_tune_at:]:\n",
        "  layer.trainable = True"
      ],
      "execution_count": null,
      "outputs": []
    },
    {
      "cell_type": "code",
      "metadata": {
        "id": "kACZSoxAISY-"
      },
      "source": [
        "## lets recompile the model\n",
        "\n",
        "base_lr = 0.00001\n",
        "\n",
        "model.compile(optimizer=tf.keras.optimizers.Adam(lr=base_lr),\n",
        "                loss='sparse_categorical_crossentropy',\n",
        "                metrics=['accuracy'])"
      ],
      "execution_count": null,
      "outputs": []
    },
    {
      "cell_type": "code",
      "metadata": {
        "colab": {
          "base_uri": "https://localhost:8080/"
        },
        "id": "rLY6ScsrISeh",
        "outputId": "6270e53b-72ae-4d7c-ed94-6c958848c8d6"
      },
      "source": [
        "fine_tune_epoch = 25\n",
        "\n",
        "filepath_checkpoint = 'best_VGG16_model.h5'\n",
        "\n",
        "checkpoint = ModelCheckpoint(filepath_checkpoint,\n",
        "                             monitor='val_accuracy',\n",
        "                             verbose=1,\n",
        "                             save_best_only=True,\n",
        "                             mode='max')\n",
        "\n",
        "early_stop = EarlyStopping(monitor='val_accuracy',\n",
        "                           patience=10,\n",
        "                           mode='max')\n",
        "\n",
        "callbacks_list = [checkpoint, early_stop]\n",
        "\n",
        "history_tuned = model.fit(train_ds,\n",
        "                          steps_per_epoch=len(train_ds),\n",
        "                          epochs=fine_tune_epoch,\n",
        "                          initial_epoch=history.epoch[-1],\n",
        "                          shuffle=True,\n",
        "                          validation_data=val_ds,\n",
        "                          validation_steps=len(val_ds),                                    \n",
        "                          callbacks=callbacks_list) "
      ],
      "execution_count": null,
      "outputs": [
        {
          "output_type": "stream",
          "text": [
            "Epoch 10/25\n",
            "63/63 [==============================] - ETA: 0s - loss: 0.5559 - accuracy: 0.7677\n",
            "Epoch 00010: val_accuracy improved from -inf to 0.74899, saving model to best_VGG16_model.h5\n",
            "63/63 [==============================] - 45s 714ms/step - loss: 0.5559 - accuracy: 0.7677 - val_loss: 0.7525 - val_accuracy: 0.7490\n",
            "Epoch 11/25\n",
            "63/63 [==============================] - ETA: 0s - loss: 0.5082 - accuracy: 0.7872\n",
            "Epoch 00011: val_accuracy improved from 0.74899 to 0.75304, saving model to best_VGG16_model.h5\n",
            "63/63 [==============================] - 44s 700ms/step - loss: 0.5082 - accuracy: 0.7872 - val_loss: 0.8537 - val_accuracy: 0.7530\n",
            "Epoch 12/25\n",
            "63/63 [==============================] - ETA: 0s - loss: 0.4999 - accuracy: 0.7927\n",
            "Epoch 00012: val_accuracy did not improve from 0.75304\n",
            "63/63 [==============================] - 44s 692ms/step - loss: 0.4999 - accuracy: 0.7927 - val_loss: 1.0935 - val_accuracy: 0.7530\n",
            "Epoch 13/25\n",
            "63/63 [==============================] - ETA: 0s - loss: 0.4719 - accuracy: 0.7942\n",
            "Epoch 00013: val_accuracy improved from 0.75304 to 0.75506, saving model to best_VGG16_model.h5\n",
            "63/63 [==============================] - 44s 703ms/step - loss: 0.4719 - accuracy: 0.7942 - val_loss: 0.9847 - val_accuracy: 0.7551\n",
            "Epoch 14/25\n",
            "63/63 [==============================] - ETA: 0s - loss: 0.4581 - accuracy: 0.8012\n",
            "Epoch 00014: val_accuracy improved from 0.75506 to 0.76619, saving model to best_VGG16_model.h5\n",
            "63/63 [==============================] - 44s 701ms/step - loss: 0.4581 - accuracy: 0.8012 - val_loss: 1.0283 - val_accuracy: 0.7662\n",
            "Epoch 15/25\n",
            "63/63 [==============================] - ETA: 0s - loss: 0.4632 - accuracy: 0.7877\n",
            "Epoch 00015: val_accuracy did not improve from 0.76619\n",
            "63/63 [==============================] - 43s 689ms/step - loss: 0.4632 - accuracy: 0.7877 - val_loss: 1.0690 - val_accuracy: 0.7460\n",
            "Epoch 16/25\n",
            "63/63 [==============================] - ETA: 0s - loss: 0.4591 - accuracy: 0.7942\n",
            "Epoch 00016: val_accuracy did not improve from 0.76619\n",
            "63/63 [==============================] - 43s 688ms/step - loss: 0.4591 - accuracy: 0.7942 - val_loss: 1.1681 - val_accuracy: 0.7460\n",
            "Epoch 17/25\n",
            "63/63 [==============================] - ETA: 0s - loss: 0.4609 - accuracy: 0.8092\n",
            "Epoch 00017: val_accuracy did not improve from 0.76619\n",
            "63/63 [==============================] - 43s 689ms/step - loss: 0.4609 - accuracy: 0.8092 - val_loss: 0.8783 - val_accuracy: 0.7561\n",
            "Epoch 18/25\n",
            "63/63 [==============================] - ETA: 0s - loss: 0.4400 - accuracy: 0.8057\n",
            "Epoch 00018: val_accuracy did not improve from 0.76619\n",
            "63/63 [==============================] - 43s 687ms/step - loss: 0.4400 - accuracy: 0.8057 - val_loss: 0.7921 - val_accuracy: 0.7540\n",
            "Epoch 19/25\n",
            "63/63 [==============================] - ETA: 0s - loss: 0.4108 - accuracy: 0.8192\n",
            "Epoch 00019: val_accuracy did not improve from 0.76619\n",
            "63/63 [==============================] - 43s 688ms/step - loss: 0.4108 - accuracy: 0.8192 - val_loss: 1.1096 - val_accuracy: 0.7470\n",
            "Epoch 20/25\n",
            "63/63 [==============================] - ETA: 0s - loss: 0.4248 - accuracy: 0.8147\n",
            "Epoch 00020: val_accuracy did not improve from 0.76619\n",
            "63/63 [==============================] - 43s 688ms/step - loss: 0.4248 - accuracy: 0.8147 - val_loss: 0.9885 - val_accuracy: 0.7530\n",
            "Epoch 21/25\n",
            "63/63 [==============================] - ETA: 0s - loss: 0.4267 - accuracy: 0.8117\n",
            "Epoch 00021: val_accuracy did not improve from 0.76619\n",
            "63/63 [==============================] - 43s 689ms/step - loss: 0.4267 - accuracy: 0.8117 - val_loss: 1.1480 - val_accuracy: 0.7571\n",
            "Epoch 22/25\n",
            "63/63 [==============================] - ETA: 0s - loss: 0.4086 - accuracy: 0.8087\n",
            "Epoch 00022: val_accuracy did not improve from 0.76619\n",
            "63/63 [==============================] - 43s 687ms/step - loss: 0.4086 - accuracy: 0.8087 - val_loss: 1.0106 - val_accuracy: 0.7551\n",
            "Epoch 23/25\n",
            "63/63 [==============================] - ETA: 0s - loss: 0.4152 - accuracy: 0.8062\n",
            "Epoch 00023: val_accuracy did not improve from 0.76619\n",
            "63/63 [==============================] - 43s 689ms/step - loss: 0.4152 - accuracy: 0.8062 - val_loss: 0.9644 - val_accuracy: 0.7500\n",
            "Epoch 24/25\n",
            "63/63 [==============================] - ETA: 0s - loss: 0.3879 - accuracy: 0.8192\n",
            "Epoch 00024: val_accuracy did not improve from 0.76619\n",
            "63/63 [==============================] - 43s 687ms/step - loss: 0.3879 - accuracy: 0.8192 - val_loss: 0.9740 - val_accuracy: 0.7652\n"
          ],
          "name": "stdout"
        }
      ]
    },
    {
      "cell_type": "code",
      "metadata": {
        "id": "7VS4WVy5ISs3"
      },
      "source": [
        "acc += history_tuned.history['accuracy']\n",
        "val_acc += history_tuned.history['val_accuracy']\n",
        "\n",
        "loss += history_tuned.history['loss']\n",
        "val_loss += history_tuned.history['val_loss']"
      ],
      "execution_count": null,
      "outputs": []
    },
    {
      "cell_type": "code",
      "metadata": {
        "colab": {
          "base_uri": "https://localhost:8080/",
          "height": 513
        },
        "id": "v8YYxEmBRDLJ",
        "outputId": "f7ffad1a-97ce-4c48-fa96-542c6500cb02"
      },
      "source": [
        "plt.figure(figsize=(8, 8))\n",
        "plt.subplot(2, 1, 1)\n",
        "plt.plot(acc, label='Training Accuracy')\n",
        "plt.plot(val_acc, label='Validation Accuracy')\n",
        "plt.ylim([0.6, 1])\n",
        "plt.plot([init_epoch-1,init_epoch-1],\n",
        "          plt.ylim(), label='Start Fine Tuning')\n",
        "plt.legend(loc='lower right')\n",
        "plt.title('Training and Validation Accuracy')\n",
        "\n",
        "plt.subplot(2, 1, 2)\n",
        "plt.plot(loss, label='Training Loss')\n",
        "plt.plot(val_loss, label='Validation Loss')\n",
        "plt.ylim([0, 1.5])\n",
        "plt.plot([init_epoch-1,init_epoch-1],\n",
        "         plt.ylim(), label='Start Fine Tuning')\n",
        "plt.legend(loc='upper right')\n",
        "plt.title('Training and Validation Loss')\n",
        "plt.xlabel('epoch')\n",
        "plt.show()"
      ],
      "execution_count": null,
      "outputs": [
        {
          "output_type": "display_data",
          "data": {
            "image/png": "[encoded data removed]",
            "text/plain": [
              "<Figure size 576x576 with 2 Axes>"
            ]
          },
          "metadata": {
            "tags": [],
            "needs_background": "light"
          }
        }
      ]
    },
    {
      "cell_type": "code",
      "metadata": {
        "id": "eiozfiw4RDOd"
      },
      "source": [
        "model = keras.models.load_model('best_VGG16_model.h5')"
      ],
      "execution_count": null,
      "outputs": []
    },
    {
      "cell_type": "code",
      "metadata": {
        "id": "m1MASx13ig4Y",
        "colab": {
          "base_uri": "https://localhost:8080/"
        },
        "outputId": "06d45b35-2b66-46a5-864a-e7fb36aca1b5"
      },
      "source": [
        "#class_names = ['BacterialPneumonia', 'COVID-19','Normal','ViralPneumonia']\n",
        "\n",
        "test_img = keras.preprocessing.image.load_img('/content/drive/MyDrive/Colab Notebooks/data_covid/NonAugmentedTrain/BacterialPneumonia/148.jpeg', target_size=(224,224)) \n",
        "img = keras.preprocessing.image.img_to_array(test_img)\n",
        "img = preprocess_input(img)\n",
        "img = tf.expand_dims(img, 0)\n",
        "\n",
        "prediction = model.predict(img)\n",
        "score = tf.nn.softmax(prediction[0])\n",
        "\n",
        "print(\"This image most likely belongs to {} with a {:.2f} percent confidence.\"\n",
        "       .format(class_labels[np.argmax(score)], 100*np.max(score))      \n",
        "      )"
      ],
      "execution_count": null,
      "outputs": [
        {
          "output_type": "stream",
          "text": [
            "This image most likely belongs to BacterialPneumonia with a 40.89 percent confidence.\n"
          ],
          "name": "stdout"
        }
      ]
    },
    {
      "cell_type": "code",
      "metadata": {
        "colab": {
          "base_uri": "https://localhost:8080/"
        },
        "id": "Lan3_wxlRsNt",
        "outputId": "e1e625b7-ae08-43bd-8263-0c3fd9e74d54"
      },
      "source": [
        "## classification report\n",
        "\n",
        "test_gen = ImageDataGenerator(preprocessing_function=preprocess_input)\n",
        "\n",
        "test_ds = test_gen.flow_from_directory(val_path,\n",
        "                                       target_size=image_size,\n",
        "                                       class_mode='sparse',\n",
        "                                       batch_size=batch_size,\n",
        "                                       shuffle=False)\n",
        "\n",
        "test_steps_per_epoch = len(test_ds)\n",
        "\n",
        "predictions = model.predict(test_ds, steps=test_steps_per_epoch)\n",
        "predicted_classes = np.argmax(predictions, axis=1)\n",
        "\n",
        "true_classes = test_ds.classes\n",
        "test_class_labels = list(test_ds.class_indices.keys())\n",
        "\n",
        "report = classification_report(true_classes, predicted_classes, target_names=test_class_labels)\n",
        "print(report)    \n",
        "\n",
        "\n"
      ],
      "execution_count": null,
      "outputs": [
        {
          "output_type": "stream",
          "text": [
            "Found 988 images belonging to 4 classes.\n",
            "                    precision    recall  f1-score   support\n",
            "\n",
            "BacterialPneumonia       0.69      0.78      0.74       324\n",
            "          COVID-19       0.75      0.67      0.71         9\n",
            "            Normal       0.81      1.00      0.90       450\n",
            "    ViralPneumonia       0.80      0.23      0.36       205\n",
            "\n",
            "          accuracy                           0.77       988\n",
            "         macro avg       0.76      0.67      0.67       988\n",
            "      weighted avg       0.77      0.77      0.73       988\n",
            "\n"
          ],
          "name": "stdout"
        }
      ]
    },
    {
      "cell_type": "code",
      "metadata": {
        "id": "N7loHYkbWGb6"
      },
      "source": [
        "## lets plot the confusion matrix"
      ],
      "execution_count": null,
      "outputs": []
    },
    {
      "cell_type": "code",
      "metadata": {
        "id": "d0TWh--_UYF8"
      },
      "source": [
        "def plot_confusion_matrix(cm,\n",
        "                          target_names,\n",
        "                          title='Confusion matrix',\n",
        "                          cmap=None,\n",
        "                          normalize=False):\n",
        "    \"\"\"\n",
        "    given a sklearn confusion matrix (cm), make a nice plot   \n",
        "\n",
        "    Usage\n",
        "    -----\n",
        "    plot_confusion_matrix(cm           = cm,                  # confusion matrix created by\n",
        "                                                              # sklearn.metrics.confusion_matrix\n",
        "                          normalize    = True,                # show proportions\n",
        "                          target_names = y_labels_vals,       # list of names of the classes\n",
        "                          title        = best_estimator_name) # title of graph\n",
        "\n",
        "    Citiation\n",
        "    ---------\n",
        "    http://scikit-learn.org/stable/auto_examples/model_selection/plot_confusion_matrix.html\n",
        "\n",
        "    \"\"\"\n",
        "    #import matplotlib.pyplot as plt\n",
        "    #import numpy as np\n",
        "    import itertools\n",
        "\n",
        "    accuracy = np.trace(cm) / float(np.sum(cm))\n",
        "    misclass = 1 - accuracy\n",
        "\n",
        "    if cmap is None:\n",
        "        cmap = plt.get_cmap('Blues')\n",
        "\n",
        "    plt.figure(figsize=(8, 6))\n",
        "    plt.imshow(cm, interpolation='nearest', cmap=cmap)\n",
        "    plt.title(title)\n",
        "    plt.colorbar()\n",
        "\n",
        "    if target_names is not None:\n",
        "        tick_marks = np.arange(len(target_names))\n",
        "        plt.xticks(tick_marks, target_names, rotation=45)\n",
        "        plt.yticks(tick_marks, target_names)\n",
        "\n",
        "    if normalize:\n",
        "        cm = cm.astype('float') / cm.sum(axis=1)[:, np.newaxis]\n",
        "\n",
        "\n",
        "    thresh = cm.max() / 1.5 if normalize else cm.max() / 2\n",
        "    for i, j in itertools.product(range(cm.shape[0]), range(cm.shape[1])):\n",
        "        if normalize:\n",
        "            plt.text(j, i, \"{:0.4f}\".format(cm[i, j]),\n",
        "                     horizontalalignment=\"center\",\n",
        "                     color=\"white\" if cm[i, j] > thresh else \"black\")\n",
        "        else:\n",
        "            plt.text(j, i, \"{:,}\".format(cm[i, j]),\n",
        "                     horizontalalignment=\"center\",\n",
        "                     color=\"white\" if cm[i, j] > thresh else \"black\")\n",
        "\n",
        "\n",
        "    plt.tight_layout()\n",
        "    plt.ylabel('True label')\n",
        "    plt.xlabel('Predicted label\\naccuracy={:0.4f}; misclass={:0.4f}'.format(accuracy, misclass))\n",
        "    plt.show()"
      ],
      "execution_count": null,
      "outputs": []
    },
    {
      "cell_type": "code",
      "metadata": {
        "colab": {
          "base_uri": "https://localhost:8080/",
          "height": 467
        },
        "id": "2QqCLoN_UYTO",
        "outputId": "4b3fa096-5ca2-4a0c-9ae9-88eb708e9187"
      },
      "source": [
        "prediction = model.predict(test_ds)\n",
        "y_pred = np.argmax(prediction, axis=1)\n",
        "\n",
        "cm = confusion_matrix(true_classes, y_pred)\n",
        "\n",
        "plot_confusion_matrix(cm,          \n",
        "                      normalize    = False,\n",
        "                      target_names = test_class_labels,\n",
        "                      title        = \"Confusion Matrix\")"
      ],
      "execution_count": null,
      "outputs": [
        {
          "output_type": "display_data",
          "data": {
            "image/png": "[encoded data removed]",
            "text/plain": [
              "<Figure size 576x432 with 2 Axes>"
            ]
          },
          "metadata": {
            "tags": [],
            "needs_background": "light"
          }
        }
      ]
    }
  ]
}