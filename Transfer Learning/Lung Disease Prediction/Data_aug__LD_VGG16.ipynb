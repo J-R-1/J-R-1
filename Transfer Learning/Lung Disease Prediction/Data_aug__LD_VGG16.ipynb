{
  "nbformat": 4,
  "nbformat_minor": 0,
  "metadata": {
    "colab": {
      "name": "Data_aug_ LD_VGG16.ipynb",
      "provenance": [],
      "collapsed_sections": []
    },
    "kernelspec": {
      "name": "python3",
      "display_name": "Python 3"
    },
    "language_info": {
      "name": "python"
    },
    "accelerator": "GPU"
  },
  "cells": [
    {
      "cell_type": "code",
      "source": [
        "!pip install tensorflow==2.3.0"
      ],
      "metadata": {
        "colab": {
          "base_uri": "https://localhost:8080/"
        },
        "id": "J1Z6P5-FSBn2",
        "outputId": "d7afe0a8-7f9b-41a4-b80b-72682f147de7"
      },
      "execution_count": 3,
      "outputs": [
        {
          "output_type": "stream",
          "name": "stdout",
          "text": [
            "Requirement already satisfied: tensorflow==2.3.0 in /usr/local/lib/python3.7/dist-packages (2.3.0)\n",
            "Requirement already satisfied: scipy==1.4.1 in /usr/local/lib/python3.7/dist-packages (from tensorflow==2.3.0) (1.4.1)\n",
            "Requirement already satisfied: termcolor>=1.1.0 in /usr/local/lib/python3.7/dist-packages (from tensorflow==2.3.0) (1.1.0)\n",
            "Requirement already satisfied: grpcio>=1.8.6 in /usr/local/lib/python3.7/dist-packages (from tensorflow==2.3.0) (1.44.0)\n",
            "Requirement already satisfied: keras-preprocessing<1.2,>=1.1.1 in /usr/local/lib/python3.7/dist-packages (from tensorflow==2.3.0) (1.1.2)\n",
            "Requirement already satisfied: tensorboard<3,>=2.3.0 in /usr/local/lib/python3.7/dist-packages (from tensorflow==2.3.0) (2.8.0)\n",
            "Requirement already satisfied: tensorflow-estimator<2.4.0,>=2.3.0 in /usr/local/lib/python3.7/dist-packages (from tensorflow==2.3.0) (2.3.0)\n",
            "Requirement already satisfied: astunparse==1.6.3 in /usr/local/lib/python3.7/dist-packages (from tensorflow==2.3.0) (1.6.3)\n",
            "Requirement already satisfied: google-pasta>=0.1.8 in /usr/local/lib/python3.7/dist-packages (from tensorflow==2.3.0) (0.2.0)\n",
            "Requirement already satisfied: wrapt>=1.11.1 in /usr/local/lib/python3.7/dist-packages (from tensorflow==2.3.0) (1.14.0)\n",
            "Requirement already satisfied: h5py<2.11.0,>=2.10.0 in /usr/local/lib/python3.7/dist-packages (from tensorflow==2.3.0) (2.10.0)\n",
            "Requirement already satisfied: numpy<1.19.0,>=1.16.0 in /usr/local/lib/python3.7/dist-packages (from tensorflow==2.3.0) (1.18.5)\n",
            "Requirement already satisfied: opt-einsum>=2.3.2 in /usr/local/lib/python3.7/dist-packages (from tensorflow==2.3.0) (3.3.0)\n",
            "Requirement already satisfied: protobuf>=3.9.2 in /usr/local/lib/python3.7/dist-packages (from tensorflow==2.3.0) (3.17.3)\n",
            "Requirement already satisfied: wheel>=0.26 in /usr/local/lib/python3.7/dist-packages (from tensorflow==2.3.0) (0.37.1)\n",
            "Requirement already satisfied: gast==0.3.3 in /usr/local/lib/python3.7/dist-packages (from tensorflow==2.3.0) (0.3.3)\n",
            "Requirement already satisfied: six>=1.12.0 in /usr/local/lib/python3.7/dist-packages (from tensorflow==2.3.0) (1.15.0)\n",
            "Requirement already satisfied: absl-py>=0.7.0 in /usr/local/lib/python3.7/dist-packages (from tensorflow==2.3.0) (1.0.0)\n",
            "Requirement already satisfied: google-auth<3,>=1.6.3 in /usr/local/lib/python3.7/dist-packages (from tensorboard<3,>=2.3.0->tensorflow==2.3.0) (1.35.0)\n",
            "Requirement already satisfied: markdown>=2.6.8 in /usr/local/lib/python3.7/dist-packages (from tensorboard<3,>=2.3.0->tensorflow==2.3.0) (3.3.6)\n",
            "Requirement already satisfied: tensorboard-plugin-wit>=1.6.0 in /usr/local/lib/python3.7/dist-packages (from tensorboard<3,>=2.3.0->tensorflow==2.3.0) (1.8.1)\n",
            "Requirement already satisfied: setuptools>=41.0.0 in /usr/local/lib/python3.7/dist-packages (from tensorboard<3,>=2.3.0->tensorflow==2.3.0) (57.4.0)\n",
            "Requirement already satisfied: google-auth-oauthlib<0.5,>=0.4.1 in /usr/local/lib/python3.7/dist-packages (from tensorboard<3,>=2.3.0->tensorflow==2.3.0) (0.4.6)\n",
            "Requirement already satisfied: werkzeug>=0.11.15 in /usr/local/lib/python3.7/dist-packages (from tensorboard<3,>=2.3.0->tensorflow==2.3.0) (1.0.1)\n",
            "Requirement already satisfied: requests<3,>=2.21.0 in /usr/local/lib/python3.7/dist-packages (from tensorboard<3,>=2.3.0->tensorflow==2.3.0) (2.23.0)\n",
            "Requirement already satisfied: tensorboard-data-server<0.7.0,>=0.6.0 in /usr/local/lib/python3.7/dist-packages (from tensorboard<3,>=2.3.0->tensorflow==2.3.0) (0.6.1)\n",
            "Requirement already satisfied: rsa<5,>=3.1.4 in /usr/local/lib/python3.7/dist-packages (from google-auth<3,>=1.6.3->tensorboard<3,>=2.3.0->tensorflow==2.3.0) (4.8)\n",
            "Requirement already satisfied: cachetools<5.0,>=2.0.0 in /usr/local/lib/python3.7/dist-packages (from google-auth<3,>=1.6.3->tensorboard<3,>=2.3.0->tensorflow==2.3.0) (4.2.4)\n",
            "Requirement already satisfied: pyasn1-modules>=0.2.1 in /usr/local/lib/python3.7/dist-packages (from google-auth<3,>=1.6.3->tensorboard<3,>=2.3.0->tensorflow==2.3.0) (0.2.8)\n",
            "Requirement already satisfied: requests-oauthlib>=0.7.0 in /usr/local/lib/python3.7/dist-packages (from google-auth-oauthlib<0.5,>=0.4.1->tensorboard<3,>=2.3.0->tensorflow==2.3.0) (1.3.1)\n",
            "Requirement already satisfied: importlib-metadata>=4.4 in /usr/local/lib/python3.7/dist-packages (from markdown>=2.6.8->tensorboard<3,>=2.3.0->tensorflow==2.3.0) (4.11.3)\n",
            "Requirement already satisfied: zipp>=0.5 in /usr/local/lib/python3.7/dist-packages (from importlib-metadata>=4.4->markdown>=2.6.8->tensorboard<3,>=2.3.0->tensorflow==2.3.0) (3.8.0)\n",
            "Requirement already satisfied: typing-extensions>=3.6.4 in /usr/local/lib/python3.7/dist-packages (from importlib-metadata>=4.4->markdown>=2.6.8->tensorboard<3,>=2.3.0->tensorflow==2.3.0) (4.2.0)\n",
            "Requirement already satisfied: pyasn1<0.5.0,>=0.4.6 in /usr/local/lib/python3.7/dist-packages (from pyasn1-modules>=0.2.1->google-auth<3,>=1.6.3->tensorboard<3,>=2.3.0->tensorflow==2.3.0) (0.4.8)\n",
            "Requirement already satisfied: idna<3,>=2.5 in /usr/local/lib/python3.7/dist-packages (from requests<3,>=2.21.0->tensorboard<3,>=2.3.0->tensorflow==2.3.0) (2.10)\n",
            "Requirement already satisfied: certifi>=2017.4.17 in /usr/local/lib/python3.7/dist-packages (from requests<3,>=2.21.0->tensorboard<3,>=2.3.0->tensorflow==2.3.0) (2021.10.8)\n",
            "Requirement already satisfied: urllib3!=1.25.0,!=1.25.1,<1.26,>=1.21.1 in /usr/local/lib/python3.7/dist-packages (from requests<3,>=2.21.0->tensorboard<3,>=2.3.0->tensorflow==2.3.0) (1.24.3)\n",
            "Requirement already satisfied: chardet<4,>=3.0.2 in /usr/local/lib/python3.7/dist-packages (from requests<3,>=2.21.0->tensorboard<3,>=2.3.0->tensorflow==2.3.0) (3.0.4)\n",
            "Requirement already satisfied: oauthlib>=3.0.0 in /usr/local/lib/python3.7/dist-packages (from requests-oauthlib>=0.7.0->google-auth-oauthlib<0.5,>=0.4.1->tensorboard<3,>=2.3.0->tensorflow==2.3.0) (3.2.0)\n"
          ]
        }
      ]
    },
    {
      "cell_type": "code",
      "metadata": {
        "id": "Bgwaznu8Pb6P"
      },
      "source": [
        "import pandas as pd\n",
        "import numpy as np\n",
        "import matplotlib.pyplot as plt\n",
        "import os\n",
        "\n",
        "from tensorflow import keras\n",
        "from tensorflow.keras.models import Model\n",
        "from tensorflow.keras.layers import Dense, Dropout\n",
        "from tensorflow.keras.layers import Flatten\n",
        "from tensorflow.keras.optimizers import Adam\n",
        "from tensorflow.keras.preprocessing.image import ImageDataGenerator\n",
        "from tensorflow.keras.applications.vgg16 import VGG16\n",
        "from tensorflow.keras.applications.vgg16 import preprocess_input\n",
        "from tensorflow.keras.callbacks import ModelCheckpoint, EarlyStopping\n",
        "from sklearn.metrics import classification_report, confusion_matrix\n",
        "\n",
        "from sklearn.utils import class_weight\n"
      ],
      "execution_count": 4,
      "outputs": []
    },
    {
      "cell_type": "code",
      "metadata": {
        "id": "dNpbdNj6PcKS"
      },
      "source": [
        "train_path = '/content/drive/MyDrive/Colab Notebooks/data_covid/NonAugmentedTrain'\n",
        "val_path = '/content/drive/MyDrive/Colab Notebooks/data_covid/ValData'"
      ],
      "execution_count": 5,
      "outputs": []
    },
    {
      "cell_type": "code",
      "metadata": {
        "colab": {
          "base_uri": "https://localhost:8080/"
        },
        "id": "pX0OEdYCYITx",
        "outputId": "52bca928-092a-4177-8b5b-81b0479f474a"
      },
      "source": [
        "num_classes_train = len(os.listdir(train_path))\n",
        "print(\"There are %d classes in the train dataset.\" %num_classes_train)"
      ],
      "execution_count": 6,
      "outputs": [
        {
          "output_type": "stream",
          "name": "stdout",
          "text": [
            "There are 4 classes in the train dataset.\n"
          ]
        }
      ]
    },
    {
      "cell_type": "code",
      "metadata": {
        "colab": {
          "base_uri": "https://localhost:8080/"
        },
        "id": "kj-U__37YIV0",
        "outputId": "f6d3b4f1-0288-429b-8d91-ed90d57fe41c"
      },
      "source": [
        "num_classes_val = len(os.listdir(val_path))\n",
        "print(\"There are %d classes in the validation dataset.\" %num_classes_val)"
      ],
      "execution_count": 7,
      "outputs": [
        {
          "output_type": "stream",
          "name": "stdout",
          "text": [
            "There are 4 classes in the validation dataset.\n"
          ]
        }
      ]
    },
    {
      "cell_type": "code",
      "metadata": {
        "colab": {
          "base_uri": "https://localhost:8080/"
        },
        "id": "hnwRWEc_YIZF",
        "outputId": "a00e4f71-2795-4342-b9f4-fc8b4d7bc5c5"
      },
      "source": [
        "##  we'll explore more of the train dataset..\n",
        "\n",
        "BP_path = '/content/drive/MyDrive/Colab Notebooks/data_covid/NonAugmentedTrain/BacterialPneumonia'\n",
        "img_list_bp = os.listdir(BP_path)\n",
        "\n",
        "print('There are %d images of Bacterial Pneumonia present in the Train dataste.' %(len(img_list_bp)))"
      ],
      "execution_count": 8,
      "outputs": [
        {
          "output_type": "stream",
          "name": "stdout",
          "text": [
            "There are 650 images of Bacterial Pneumonia present in the Train dataste.\n"
          ]
        }
      ]
    },
    {
      "cell_type": "code",
      "metadata": {
        "colab": {
          "base_uri": "https://localhost:8080/"
        },
        "id": "KJzgui4RY2Xr",
        "outputId": "ede812a4-b053-4efd-db67-ad832cb7aa2a"
      },
      "source": [
        "covid_path = '/content/drive/MyDrive/Colab Notebooks/data_covid/NonAugmentedTrain/COVID-19'\n",
        "img_list_covid = os.listdir(covid_path)\n",
        "\n",
        "print('There are %d images of COVID-19 present in the Train dataste.' %(len(img_list_covid)))"
      ],
      "execution_count": 9,
      "outputs": [
        {
          "output_type": "stream",
          "name": "stdout",
          "text": [
            "There are 60 images of COVID-19 present in the Train dataste.\n"
          ]
        }
      ]
    },
    {
      "cell_type": "code",
      "metadata": {
        "colab": {
          "base_uri": "https://localhost:8080/"
        },
        "id": "edYGPVNRY2am",
        "outputId": "2b37955d-9117-475f-810d-d3de29af6c27"
      },
      "source": [
        "normal_path = '/content/drive/MyDrive/Colab Notebooks/data_covid/NonAugmentedTrain/Normal'\n",
        "img_list_normal = os.listdir(normal_path)\n",
        "\n",
        "print('There are %d images of Normal lung present in the Train dataste.' %(len(img_list_normal)))"
      ],
      "execution_count": 10,
      "outputs": [
        {
          "output_type": "stream",
          "name": "stdout",
          "text": [
            "There are 880 images of Normal lung present in the Train dataste.\n"
          ]
        }
      ]
    },
    {
      "cell_type": "code",
      "metadata": {
        "colab": {
          "base_uri": "https://localhost:8080/"
        },
        "id": "4JmbW6PHY2dh",
        "outputId": "6cb9e015-afbf-451d-829a-7245343c086f"
      },
      "source": [
        "VP_path = '/content/drive/MyDrive/Colab Notebooks/data_covid/NonAugmentedTrain/ViralPneumonia'\n",
        "img_list_vp = os.listdir(VP_path)\n",
        "\n",
        "print('There are %d images of Viral Pneumonia present in the Train dataste.' %(len(img_list_vp)))"
      ],
      "execution_count": 11,
      "outputs": [
        {
          "output_type": "stream",
          "name": "stdout",
          "text": [
            "There are 412 images of Viral Pneumonia present in the Train dataste.\n"
          ]
        }
      ]
    },
    {
      "cell_type": "code",
      "metadata": {
        "id": "uL5jSNidY2f0"
      },
      "source": [
        "batch_size = 32\n",
        "image_size = (224, 224)"
      ],
      "execution_count": 12,
      "outputs": []
    },
    {
      "cell_type": "code",
      "metadata": {
        "id": "GSV7z4bJY2ic"
      },
      "source": [
        "train_gen = ImageDataGenerator(                                                            \n",
        "                                width_shift_range=0.1,\n",
        "                                height_shift_range=0.1,\n",
        "                                shear_range=0.2,\n",
        "                                zoom_range=0.2,\n",
        "                                horizontal_flip=True,\n",
        "                                preprocessing_function=preprocess_input,\n",
        "                                fill_mode='nearest')"
      ],
      "execution_count": 13,
      "outputs": []
    },
    {
      "cell_type": "code",
      "metadata": {
        "id": "-9FhnJh1Y2lc"
      },
      "source": [
        "val_gen = ImageDataGenerator(preprocessing_function=preprocess_input)"
      ],
      "execution_count": 14,
      "outputs": []
    },
    {
      "cell_type": "code",
      "metadata": {
        "colab": {
          "base_uri": "https://localhost:8080/"
        },
        "id": "nzGY6QP3dH6A",
        "outputId": "055da8cd-b6ff-4d99-bfc4-c0b5137048d6"
      },
      "source": [
        "train_ds = train_gen.flow_from_directory(train_path,\n",
        "                                         target_size=image_size,\n",
        "                                         class_mode='sparse',\n",
        "                                         batch_size=batch_size,\n",
        "                                         shuffle=True)"
      ],
      "execution_count": 15,
      "outputs": [
        {
          "output_type": "stream",
          "name": "stdout",
          "text": [
            "Found 2002 images belonging to 4 classes.\n"
          ]
        }
      ]
    },
    {
      "cell_type": "code",
      "metadata": {
        "colab": {
          "base_uri": "https://localhost:8080/"
        },
        "id": "cQoB3zGmxnN9",
        "outputId": "842164ed-e3f1-46d3-8fd0-788c0d85809b"
      },
      "source": [
        "images, labels = next(iter(train_ds))\n",
        "print(images.shape, labels.shape)"
      ],
      "execution_count": 16,
      "outputs": [
        {
          "output_type": "stream",
          "name": "stdout",
          "text": [
            "(32, 224, 224, 3) (32,)\n"
          ]
        }
      ]
    },
    {
      "cell_type": "code",
      "metadata": {
        "colab": {
          "base_uri": "https://localhost:8080/"
        },
        "id": "iALvtqn5dH8V",
        "outputId": "4522b34b-e601-44da-9e32-5b7c188635a5"
      },
      "source": [
        "val_ds = val_gen.flow_from_directory(val_path,\n",
        "                                     target_size=image_size,\n",
        "                                     class_mode='sparse',\n",
        "                                     batch_size=batch_size,\n",
        "                                     shuffle=True)"
      ],
      "execution_count": 17,
      "outputs": [
        {
          "output_type": "stream",
          "name": "stdout",
          "text": [
            "Found 988 images belonging to 4 classes.\n"
          ]
        }
      ]
    },
    {
      "cell_type": "code",
      "metadata": {
        "colab": {
          "base_uri": "https://localhost:8080/"
        },
        "id": "0ofPDMSquMyX",
        "outputId": "d0b1163c-23d1-4dba-8632-ce99c2ad832a"
      },
      "source": [
        "num_classes = train_ds.num_classes\n",
        "num_classes"
      ],
      "execution_count": 18,
      "outputs": [
        {
          "output_type": "execute_result",
          "data": {
            "text/plain": [
              "4"
            ]
          },
          "metadata": {},
          "execution_count": 18
        }
      ]
    },
    {
      "cell_type": "code",
      "metadata": {
        "colab": {
          "base_uri": "https://localhost:8080/"
        },
        "id": "cy-3lyf9Gouh",
        "outputId": "756bcd7a-1892-4953-efa4-8c5312a4d71e"
      },
      "source": [
        "train_ds.class_indices"
      ],
      "execution_count": 19,
      "outputs": [
        {
          "output_type": "execute_result",
          "data": {
            "text/plain": [
              "{'BacterialPneumonia': 0, 'COVID-19': 1, 'Normal': 2, 'ViralPneumonia': 3}"
            ]
          },
          "metadata": {},
          "execution_count": 19
        }
      ]
    },
    {
      "cell_type": "code",
      "metadata": {
        "colab": {
          "base_uri": "https://localhost:8080/"
        },
        "id": "VmU1FqChStV4",
        "outputId": "7d954b32-0044-4f18-e2a1-d23900a4e802"
      },
      "source": [
        "class_labels = list(train_ds.class_indices.keys())\n",
        "class_labels\n"
      ],
      "execution_count": 20,
      "outputs": [
        {
          "output_type": "execute_result",
          "data": {
            "text/plain": [
              "['BacterialPneumonia', 'COVID-19', 'Normal', 'ViralPneumonia']"
            ]
          },
          "metadata": {},
          "execution_count": 20
        }
      ]
    },
    {
      "cell_type": "code",
      "metadata": {
        "id": "wfAJQlwjZRlM",
        "colab": {
          "base_uri": "https://localhost:8080/"
        },
        "outputId": "d05e8972-04e2-4f3a-b2fd-cd2a468200d4"
      },
      "source": [
        "## defining the  base Vgg16 model..\n",
        "\n",
        "img_shape = image_size + (3,)\n",
        "\n",
        "basemodel_vgg16 = VGG16(include_top=False,\n",
        "                        weights='imagenet',\n",
        "                        input_shape=img_shape)"
      ],
      "execution_count": 21,
      "outputs": [
        {
          "output_type": "stream",
          "name": "stdout",
          "text": [
            "Downloading data from https://storage.googleapis.com/tensorflow/keras-applications/vgg16/vgg16_weights_tf_dim_ordering_tf_kernels_notop.h5\n",
            "58892288/58889256 [==============================] - 0s 0us/step\n"
          ]
        }
      ]
    },
    {
      "cell_type": "code",
      "metadata": {
        "id": "fxJx555y-z18"
      },
      "source": [
        "basemodel_vgg16.trainable = False"
      ],
      "execution_count": 22,
      "outputs": []
    },
    {
      "cell_type": "code",
      "metadata": {
        "colab": {
          "base_uri": "https://localhost:8080/"
        },
        "id": "tt-GML58_EBP",
        "outputId": "ffb95678-14f3-4d31-8d58-fcf2910f5306"
      },
      "source": [
        "basemodel_vgg16.summary()"
      ],
      "execution_count": 23,
      "outputs": [
        {
          "output_type": "stream",
          "name": "stdout",
          "text": [
            "Model: \"vgg16\"\n",
            "_________________________________________________________________\n",
            "Layer (type)                 Output Shape              Param #   \n",
            "=================================================================\n",
            "input_1 (InputLayer)         [(None, 224, 224, 3)]     0         \n",
            "_________________________________________________________________\n",
            "block1_conv1 (Conv2D)        (None, 224, 224, 64)      1792      \n",
            "_________________________________________________________________\n",
            "block1_conv2 (Conv2D)        (None, 224, 224, 64)      36928     \n",
            "_________________________________________________________________\n",
            "block1_pool (MaxPooling2D)   (None, 112, 112, 64)      0         \n",
            "_________________________________________________________________\n",
            "block2_conv1 (Conv2D)        (None, 112, 112, 128)     73856     \n",
            "_________________________________________________________________\n",
            "block2_conv2 (Conv2D)        (None, 112, 112, 128)     147584    \n",
            "_________________________________________________________________\n",
            "block2_pool (MaxPooling2D)   (None, 56, 56, 128)       0         \n",
            "_________________________________________________________________\n",
            "block3_conv1 (Conv2D)        (None, 56, 56, 256)       295168    \n",
            "_________________________________________________________________\n",
            "block3_conv2 (Conv2D)        (None, 56, 56, 256)       590080    \n",
            "_________________________________________________________________\n",
            "block3_conv3 (Conv2D)        (None, 56, 56, 256)       590080    \n",
            "_________________________________________________________________\n",
            "block3_pool (MaxPooling2D)   (None, 28, 28, 256)       0         \n",
            "_________________________________________________________________\n",
            "block4_conv1 (Conv2D)        (None, 28, 28, 512)       1180160   \n",
            "_________________________________________________________________\n",
            "block4_conv2 (Conv2D)        (None, 28, 28, 512)       2359808   \n",
            "_________________________________________________________________\n",
            "block4_conv3 (Conv2D)        (None, 28, 28, 512)       2359808   \n",
            "_________________________________________________________________\n",
            "block4_pool (MaxPooling2D)   (None, 14, 14, 512)       0         \n",
            "_________________________________________________________________\n",
            "block5_conv1 (Conv2D)        (None, 14, 14, 512)       2359808   \n",
            "_________________________________________________________________\n",
            "block5_conv2 (Conv2D)        (None, 14, 14, 512)       2359808   \n",
            "_________________________________________________________________\n",
            "block5_conv3 (Conv2D)        (None, 14, 14, 512)       2359808   \n",
            "_________________________________________________________________\n",
            "block5_pool (MaxPooling2D)   (None, 7, 7, 512)         0         \n",
            "=================================================================\n",
            "Total params: 14,714,688\n",
            "Trainable params: 0\n",
            "Non-trainable params: 14,714,688\n",
            "_________________________________________________________________\n"
          ]
        }
      ]
    },
    {
      "cell_type": "code",
      "metadata": {
        "id": "jPNjfbvhqhV8"
      },
      "source": [
        "## Constructing a new model by adding the classification layer on top of the base model \n",
        "\n",
        "x = basemodel_vgg16.output\n",
        "x = Flatten(name=\"flatten\")(x)\n",
        "x = Dense(512, activation='relu')(x)\n",
        "x = Dropout(0.5)(x)\n",
        "x = Dense(256, activation='relu')(x)\n",
        "x = Dropout(0.2)(x)\n",
        "output = Dense(num_classes, activation='softmax')(x)\n",
        "\n",
        "#define new model\n",
        "model = Model(inputs=basemodel_vgg16.input, outputs=output)"
      ],
      "execution_count": 24,
      "outputs": []
    },
    {
      "cell_type": "code",
      "metadata": {
        "id": "jMUGml1IlGJJ"
      },
      "source": [
        "base_lr = 0.0001\n",
        "\n",
        "model.compile(optimizer= Adam(lr=base_lr),\n",
        "                loss='sparse_categorical_crossentropy',\n",
        "                metrics=['accuracy'])"
      ],
      "execution_count": 25,
      "outputs": []
    },
    {
      "cell_type": "code",
      "metadata": {
        "colab": {
          "base_uri": "https://localhost:8080/"
        },
        "id": "RRvprWjelGMS",
        "outputId": "37050921-2060-498a-df12-154e2b34d48e"
      },
      "source": [
        "model.summary()"
      ],
      "execution_count": 26,
      "outputs": [
        {
          "output_type": "stream",
          "name": "stdout",
          "text": [
            "Model: \"functional_1\"\n",
            "_________________________________________________________________\n",
            "Layer (type)                 Output Shape              Param #   \n",
            "=================================================================\n",
            "input_1 (InputLayer)         [(None, 224, 224, 3)]     0         \n",
            "_________________________________________________________________\n",
            "block1_conv1 (Conv2D)        (None, 224, 224, 64)      1792      \n",
            "_________________________________________________________________\n",
            "block1_conv2 (Conv2D)        (None, 224, 224, 64)      36928     \n",
            "_________________________________________________________________\n",
            "block1_pool (MaxPooling2D)   (None, 112, 112, 64)      0         \n",
            "_________________________________________________________________\n",
            "block2_conv1 (Conv2D)        (None, 112, 112, 128)     73856     \n",
            "_________________________________________________________________\n",
            "block2_conv2 (Conv2D)        (None, 112, 112, 128)     147584    \n",
            "_________________________________________________________________\n",
            "block2_pool (MaxPooling2D)   (None, 56, 56, 128)       0         \n",
            "_________________________________________________________________\n",
            "block3_conv1 (Conv2D)        (None, 56, 56, 256)       295168    \n",
            "_________________________________________________________________\n",
            "block3_conv2 (Conv2D)        (None, 56, 56, 256)       590080    \n",
            "_________________________________________________________________\n",
            "block3_conv3 (Conv2D)        (None, 56, 56, 256)       590080    \n",
            "_________________________________________________________________\n",
            "block3_pool (MaxPooling2D)   (None, 28, 28, 256)       0         \n",
            "_________________________________________________________________\n",
            "block4_conv1 (Conv2D)        (None, 28, 28, 512)       1180160   \n",
            "_________________________________________________________________\n",
            "block4_conv2 (Conv2D)        (None, 28, 28, 512)       2359808   \n",
            "_________________________________________________________________\n",
            "block4_conv3 (Conv2D)        (None, 28, 28, 512)       2359808   \n",
            "_________________________________________________________________\n",
            "block4_pool (MaxPooling2D)   (None, 14, 14, 512)       0         \n",
            "_________________________________________________________________\n",
            "block5_conv1 (Conv2D)        (None, 14, 14, 512)       2359808   \n",
            "_________________________________________________________________\n",
            "block5_conv2 (Conv2D)        (None, 14, 14, 512)       2359808   \n",
            "_________________________________________________________________\n",
            "block5_conv3 (Conv2D)        (None, 14, 14, 512)       2359808   \n",
            "_________________________________________________________________\n",
            "block5_pool (MaxPooling2D)   (None, 7, 7, 512)         0         \n",
            "_________________________________________________________________\n",
            "flatten (Flatten)            (None, 25088)             0         \n",
            "_________________________________________________________________\n",
            "dense (Dense)                (None, 512)               12845568  \n",
            "_________________________________________________________________\n",
            "dropout (Dropout)            (None, 512)               0         \n",
            "_________________________________________________________________\n",
            "dense_1 (Dense)              (None, 256)               131328    \n",
            "_________________________________________________________________\n",
            "dropout_1 (Dropout)          (None, 256)               0         \n",
            "_________________________________________________________________\n",
            "dense_2 (Dense)              (None, 4)                 1028      \n",
            "=================================================================\n",
            "Total params: 27,692,612\n",
            "Trainable params: 12,977,924\n",
            "Non-trainable params: 14,714,688\n",
            "_________________________________________________________________\n"
          ]
        }
      ]
    },
    {
      "cell_type": "code",
      "source": [
        "class_weights = class_weight.compute_class_weight(\n",
        "               'balanced',\n",
        "                classes=np.unique(train_ds.classes), \n",
        "                y=train_ds.classes)\n",
        "train_class_weights = dict(enumerate(class_weights))\n",
        "\n",
        "print(train_class_weights)"
      ],
      "metadata": {
        "colab": {
          "base_uri": "https://localhost:8080/"
        },
        "id": "SjaGYcf7cpIN",
        "outputId": "08d1fcb7-fbd9-4e8a-8893-f4f7d5716995"
      },
      "execution_count": 27,
      "outputs": [
        {
          "output_type": "stream",
          "name": "stdout",
          "text": [
            "{0: 0.77, 1: 8.341666666666667, 2: 0.56875, 3: 1.2148058252427185}\n"
          ]
        }
      ]
    },
    {
      "cell_type": "code",
      "metadata": {
        "colab": {
          "base_uri": "https://localhost:8080/"
        },
        "id": "AxXAb_YalGlq",
        "outputId": "86235c7e-533b-4ffe-980c-d4746e09f91d"
      },
      "source": [
        "## lets train the model with the new added classifier for 10 epochs\n",
        "\n",
        "init_epoch = 10\n",
        "\n",
        "history = model.fit(train_ds,\n",
        "                    steps_per_epoch=len(train_ds),\n",
        "                    epochs=init_epoch,\n",
        "                    validation_data=val_ds,\n",
        "                    validation_steps=len(val_ds),\n",
        "                    class_weight=train_class_weights)"
      ],
      "execution_count": 28,
      "outputs": [
        {
          "output_type": "stream",
          "name": "stdout",
          "text": [
            "Epoch 1/10\n",
            "63/63 [==============================] - 574s 9s/step - loss: 4.7858 - accuracy: 0.5739 - val_loss: 1.3642 - val_accuracy: 0.7662\n",
            "Epoch 2/10\n",
            "63/63 [==============================] - 49s 779ms/step - loss: 2.1507 - accuracy: 0.6643 - val_loss: 1.4925 - val_accuracy: 0.7490\n",
            "Epoch 3/10\n",
            "63/63 [==============================] - 49s 773ms/step - loss: 1.5174 - accuracy: 0.6703 - val_loss: 1.1074 - val_accuracy: 0.7298\n",
            "Epoch 4/10\n",
            "63/63 [==============================] - 48s 767ms/step - loss: 1.2337 - accuracy: 0.6698 - val_loss: 0.8096 - val_accuracy: 0.7561\n",
            "Epoch 5/10\n",
            "63/63 [==============================] - 49s 773ms/step - loss: 0.8249 - accuracy: 0.6998 - val_loss: 0.7120 - val_accuracy: 0.7763\n",
            "Epoch 6/10\n",
            "63/63 [==============================] - 48s 767ms/step - loss: 0.7533 - accuracy: 0.7068 - val_loss: 0.7218 - val_accuracy: 0.7561\n",
            "Epoch 7/10\n",
            "63/63 [==============================] - 48s 766ms/step - loss: 0.7283 - accuracy: 0.7163 - val_loss: 0.7282 - val_accuracy: 0.7601\n",
            "Epoch 8/10\n",
            "63/63 [==============================] - 49s 777ms/step - loss: 0.7439 - accuracy: 0.7018 - val_loss: 0.6539 - val_accuracy: 0.7723\n",
            "Epoch 9/10\n",
            "63/63 [==============================] - 48s 765ms/step - loss: 0.6776 - accuracy: 0.7118 - val_loss: 0.7666 - val_accuracy: 0.7672\n",
            "Epoch 10/10\n",
            "63/63 [==============================] - 49s 770ms/step - loss: 0.6542 - accuracy: 0.7233 - val_loss: 0.7921 - val_accuracy: 0.7551\n"
          ]
        }
      ]
    },
    {
      "cell_type": "code",
      "metadata": {
        "colab": {
          "base_uri": "https://localhost:8080/",
          "height": 513
        },
        "id": "LwiB1NY41QBq",
        "outputId": "1322862f-3506-44fc-e202-5d27b79e199d"
      },
      "source": [
        "acc = history.history['accuracy']\n",
        "val_acc = history.history['val_accuracy']\n",
        "\n",
        "loss = history.history['loss']\n",
        "val_loss = history.history['val_loss']\n",
        "\n",
        "plt.figure(figsize=(8,8))\n",
        "plt.subplot(2,1,1)\n",
        "plt.plot(acc, label='Training accuracy')\n",
        "plt.plot(val_acc, label='Validation accuracy')\n",
        "plt.legend(loc='lower right')\n",
        "plt.ylabel(\"Accuracy\")\n",
        "#plt.ylim([min(plt.ylim()),1])\n",
        "plt.title(\"Training and validation accuracy\")\n",
        "\n",
        "plt.subplot(2,1,2)\n",
        "plt.plot(loss, label='Training loss')\n",
        "plt.plot(val_loss, label='Validation loss')\n",
        "plt.legend(loc='upper right')\n",
        "plt.ylabel(\"loss\")\n",
        "#plt.ylim(0,1.0)\n",
        "plt.title(\"Training and validation loss\")\n",
        "plt.xlabel('epoch')\n",
        "plt.show()"
      ],
      "execution_count": 29,
      "outputs": [
        {
          "output_type": "display_data",
          "data": {
            "text/plain": [
              "<Figure size 576x576 with 2 Axes>"
            ],
            "image/png": "[encoded data removed]"
          },
          "metadata": {
            "needs_background": "light"
          }
        }
      ]
    },
    {
      "cell_type": "code",
      "metadata": {
        "id": "p5GMy4OKHiw3"
      },
      "source": [
        "## lets do some fine tuning to see whether we can improve the model's accuracy"
      ],
      "execution_count": 30,
      "outputs": []
    },
    {
      "cell_type": "code",
      "metadata": {
        "colab": {
          "base_uri": "https://localhost:8080/"
        },
        "id": "H945DLy6Hiz9",
        "outputId": "dde82b0c-f4e6-4f74-b5ce-e142e30bcc62"
      },
      "source": [
        "# Let's take a look to see how many layers are in the base model vgg16\n",
        "\n",
        "print(\"Number of layers in the base model: \", len(basemodel_vgg16.layers))"
      ],
      "execution_count": 31,
      "outputs": [
        {
          "output_type": "stream",
          "name": "stdout",
          "text": [
            "Number of layers in the base model:  19\n"
          ]
        }
      ]
    },
    {
      "cell_type": "code",
      "metadata": {
        "colab": {
          "base_uri": "https://localhost:8080/"
        },
        "id": "Ib2pNxNbISUo",
        "outputId": "851f574c-f6d4-48e2-b65b-daafbf9a47f3"
      },
      "source": [
        "## lets check out the layers by name and the layers are trainable or not..\n",
        "\n",
        "for i , layer in enumerate(basemodel_vgg16.layers):\n",
        "  print(i, layer.name, layer.trainable)"
      ],
      "execution_count": 32,
      "outputs": [
        {
          "output_type": "stream",
          "name": "stdout",
          "text": [
            "0 input_1 False\n",
            "1 block1_conv1 False\n",
            "2 block1_conv2 False\n",
            "3 block1_pool False\n",
            "4 block2_conv1 False\n",
            "5 block2_conv2 False\n",
            "6 block2_pool False\n",
            "7 block3_conv1 False\n",
            "8 block3_conv2 False\n",
            "9 block3_conv3 False\n",
            "10 block3_pool False\n",
            "11 block4_conv1 False\n",
            "12 block4_conv2 False\n",
            "13 block4_conv3 False\n",
            "14 block4_pool False\n",
            "15 block5_conv1 False\n",
            "16 block5_conv2 False\n",
            "17 block5_conv3 False\n",
            "18 block5_pool False\n"
          ]
        }
      ]
    },
    {
      "cell_type": "code",
      "metadata": {
        "id": "ZYcgpMg3ISXJ"
      },
      "source": [
        "## lets start fine tune from #15(i.e from block5)\n",
        "\n",
        "fine_tune_at = 15\n",
        "\n",
        "for layer in basemodel_vgg16.layers[:fine_tune_at]:\n",
        "  layer.trainable = False\n",
        "\n",
        "for layer in basemodel_vgg16.layers[fine_tune_at:]:\n",
        "  layer.trainable = True"
      ],
      "execution_count": 33,
      "outputs": []
    },
    {
      "cell_type": "code",
      "metadata": {
        "id": "kACZSoxAISY-"
      },
      "source": [
        "## lets recompile the model\n",
        "\n",
        "base_lr = 0.00001\n",
        "\n",
        "model.compile(optimizer= Adam(lr=base_lr),\n",
        "                loss='sparse_categorical_crossentropy',\n",
        "                metrics=['accuracy'])"
      ],
      "execution_count": 34,
      "outputs": []
    },
    {
      "cell_type": "code",
      "metadata": {
        "colab": {
          "base_uri": "https://localhost:8080/"
        },
        "id": "rLY6ScsrISeh",
        "outputId": "76fdb9b7-e0d3-4946-a810-b07f47841268"
      },
      "source": [
        "fine_tune_epoch = 35\n",
        "\n",
        "filepath_checkpoint = 'VGG16_model_w_classWgt.h5'\n",
        "\n",
        "checkpoint = ModelCheckpoint(filepath_checkpoint,\n",
        "                             monitor='val_accuracy',\n",
        "                             verbose=1,\n",
        "                             save_best_only=True,\n",
        "                             mode='max')\n",
        "\n",
        "early_stop = EarlyStopping(monitor='val_accuracy',\n",
        "                           patience=10,\n",
        "                           mode='max')\n",
        "\n",
        "callbacks_list = [checkpoint, early_stop]\n",
        "\n",
        "history_tuned = model.fit(train_ds,\n",
        "                          class_weight=train_class_weights,\n",
        "                          steps_per_epoch=len(train_ds),\n",
        "                          epochs=fine_tune_epoch,\n",
        "                          initial_epoch=history.epoch[-1],\n",
        "                          shuffle=True,\n",
        "                          validation_data=val_ds,\n",
        "                          validation_steps=len(val_ds),                                    \n",
        "                          callbacks=callbacks_list) "
      ],
      "execution_count": 35,
      "outputs": [
        {
          "output_type": "stream",
          "name": "stdout",
          "text": [
            "Epoch 10/35\n",
            "63/63 [==============================] - ETA: 0s - loss: 0.5823 - accuracy: 0.7408\n",
            "Epoch 00010: val_accuracy improved from -inf to 0.75506, saving model to VGG16_model_w_classWgt.h5\n",
            "63/63 [==============================] - 50s 799ms/step - loss: 0.5823 - accuracy: 0.7408 - val_loss: 0.7590 - val_accuracy: 0.7551\n",
            "Epoch 11/35\n",
            "63/63 [==============================] - ETA: 0s - loss: 0.5524 - accuracy: 0.7502\n",
            "Epoch 00011: val_accuracy improved from 0.75506 to 0.76012, saving model to VGG16_model_w_classWgt.h5\n",
            "63/63 [==============================] - 50s 789ms/step - loss: 0.5524 - accuracy: 0.7502 - val_loss: 0.7513 - val_accuracy: 0.7601\n",
            "Epoch 12/35\n",
            "63/63 [==============================] - ETA: 0s - loss: 0.5600 - accuracy: 0.7418\n",
            "Epoch 00012: val_accuracy did not improve from 0.76012\n",
            "63/63 [==============================] - 49s 776ms/step - loss: 0.5600 - accuracy: 0.7418 - val_loss: 0.6953 - val_accuracy: 0.7389\n",
            "Epoch 13/35\n",
            "63/63 [==============================] - ETA: 0s - loss: 0.4956 - accuracy: 0.7607\n",
            "Epoch 00013: val_accuracy did not improve from 0.76012\n",
            "63/63 [==============================] - 49s 778ms/step - loss: 0.4956 - accuracy: 0.7607 - val_loss: 0.8046 - val_accuracy: 0.7551\n",
            "Epoch 14/35\n",
            "63/63 [==============================] - ETA: 0s - loss: 0.4745 - accuracy: 0.7752\n",
            "Epoch 00014: val_accuracy did not improve from 0.76012\n",
            "63/63 [==============================] - 49s 780ms/step - loss: 0.4745 - accuracy: 0.7752 - val_loss: 0.7533 - val_accuracy: 0.7561\n",
            "Epoch 15/35\n",
            "63/63 [==============================] - ETA: 0s - loss: 0.4972 - accuracy: 0.7667\n",
            "Epoch 00015: val_accuracy did not improve from 0.76012\n",
            "63/63 [==============================] - 49s 777ms/step - loss: 0.4972 - accuracy: 0.7667 - val_loss: 0.9026 - val_accuracy: 0.7379\n",
            "Epoch 16/35\n",
            "63/63 [==============================] - ETA: 0s - loss: 0.4688 - accuracy: 0.7857\n",
            "Epoch 00016: val_accuracy improved from 0.76012 to 0.76518, saving model to VGG16_model_w_classWgt.h5\n",
            "63/63 [==============================] - 50s 793ms/step - loss: 0.4688 - accuracy: 0.7857 - val_loss: 0.7294 - val_accuracy: 0.7652\n",
            "Epoch 17/35\n",
            "63/63 [==============================] - ETA: 0s - loss: 0.4444 - accuracy: 0.7892\n",
            "Epoch 00017: val_accuracy improved from 0.76518 to 0.77227, saving model to VGG16_model_w_classWgt.h5\n",
            "63/63 [==============================] - 50s 792ms/step - loss: 0.4444 - accuracy: 0.7892 - val_loss: 0.7024 - val_accuracy: 0.7723\n",
            "Epoch 18/35\n",
            "63/63 [==============================] - ETA: 0s - loss: 0.4583 - accuracy: 0.7872\n",
            "Epoch 00018: val_accuracy did not improve from 0.77227\n",
            "63/63 [==============================] - 49s 780ms/step - loss: 0.4583 - accuracy: 0.7872 - val_loss: 0.7801 - val_accuracy: 0.7692\n",
            "Epoch 19/35\n",
            "63/63 [==============================] - ETA: 0s - loss: 0.4543 - accuracy: 0.7887\n",
            "Epoch 00019: val_accuracy did not improve from 0.77227\n",
            "63/63 [==============================] - 49s 780ms/step - loss: 0.4543 - accuracy: 0.7887 - val_loss: 0.7776 - val_accuracy: 0.7571\n",
            "Epoch 20/35\n",
            "63/63 [==============================] - ETA: 0s - loss: 0.4553 - accuracy: 0.7832\n",
            "Epoch 00020: val_accuracy improved from 0.77227 to 0.77834, saving model to VGG16_model_w_classWgt.h5\n",
            "63/63 [==============================] - 50s 797ms/step - loss: 0.4553 - accuracy: 0.7832 - val_loss: 0.6974 - val_accuracy: 0.7783\n",
            "Epoch 21/35\n",
            "63/63 [==============================] - ETA: 0s - loss: 0.4430 - accuracy: 0.7742\n",
            "Epoch 00021: val_accuracy did not improve from 0.77834\n",
            "63/63 [==============================] - 49s 780ms/step - loss: 0.4430 - accuracy: 0.7742 - val_loss: 0.8820 - val_accuracy: 0.7591\n",
            "Epoch 22/35\n",
            "63/63 [==============================] - ETA: 0s - loss: 0.4773 - accuracy: 0.7707\n",
            "Epoch 00022: val_accuracy did not improve from 0.77834\n",
            "63/63 [==============================] - 49s 782ms/step - loss: 0.4773 - accuracy: 0.7707 - val_loss: 0.8044 - val_accuracy: 0.7662\n",
            "Epoch 23/35\n",
            "63/63 [==============================] - ETA: 0s - loss: 0.4389 - accuracy: 0.7852\n",
            "Epoch 00023: val_accuracy did not improve from 0.77834\n",
            "63/63 [==============================] - 49s 779ms/step - loss: 0.4389 - accuracy: 0.7852 - val_loss: 0.8563 - val_accuracy: 0.7621\n",
            "Epoch 24/35\n",
            "63/63 [==============================] - ETA: 0s - loss: 0.4405 - accuracy: 0.7857\n",
            "Epoch 00024: val_accuracy did not improve from 0.77834\n",
            "63/63 [==============================] - 49s 776ms/step - loss: 0.4405 - accuracy: 0.7857 - val_loss: 0.8249 - val_accuracy: 0.7652\n",
            "Epoch 25/35\n",
            "63/63 [==============================] - ETA: 0s - loss: 0.3904 - accuracy: 0.7962\n",
            "Epoch 00025: val_accuracy did not improve from 0.77834\n",
            "63/63 [==============================] - 49s 779ms/step - loss: 0.3904 - accuracy: 0.7962 - val_loss: 0.9465 - val_accuracy: 0.7632\n",
            "Epoch 26/35\n",
            "63/63 [==============================] - ETA: 0s - loss: 0.3998 - accuracy: 0.8192\n",
            "Epoch 00026: val_accuracy did not improve from 0.77834\n",
            "63/63 [==============================] - 50s 790ms/step - loss: 0.3998 - accuracy: 0.8192 - val_loss: 0.9904 - val_accuracy: 0.7601\n",
            "Epoch 27/35\n",
            "63/63 [==============================] - ETA: 0s - loss: 0.3882 - accuracy: 0.8027\n",
            "Epoch 00027: val_accuracy did not improve from 0.77834\n",
            "63/63 [==============================] - 49s 782ms/step - loss: 0.3882 - accuracy: 0.8027 - val_loss: 0.9317 - val_accuracy: 0.7713\n",
            "Epoch 28/35\n",
            "63/63 [==============================] - ETA: 0s - loss: 0.3891 - accuracy: 0.8067\n",
            "Epoch 00028: val_accuracy did not improve from 0.77834\n",
            "63/63 [==============================] - 49s 785ms/step - loss: 0.3891 - accuracy: 0.8067 - val_loss: 0.8414 - val_accuracy: 0.7763\n",
            "Epoch 29/35\n",
            "63/63 [==============================] - ETA: 0s - loss: 0.3902 - accuracy: 0.8077\n",
            "Epoch 00029: val_accuracy did not improve from 0.77834\n",
            "63/63 [==============================] - 49s 783ms/step - loss: 0.3902 - accuracy: 0.8077 - val_loss: 0.9763 - val_accuracy: 0.7632\n",
            "Epoch 30/35\n",
            "63/63 [==============================] - ETA: 0s - loss: 0.4064 - accuracy: 0.8127\n",
            "Epoch 00030: val_accuracy did not improve from 0.77834\n",
            "63/63 [==============================] - 49s 779ms/step - loss: 0.4064 - accuracy: 0.8127 - val_loss: 0.8145 - val_accuracy: 0.7713\n"
          ]
        }
      ]
    },
    {
      "cell_type": "code",
      "metadata": {
        "id": "7VS4WVy5ISs3"
      },
      "source": [
        "acc += history_tuned.history['accuracy']\n",
        "val_acc += history_tuned.history['val_accuracy']\n",
        "\n",
        "loss += history_tuned.history['loss']\n",
        "val_loss += history_tuned.history['val_loss']"
      ],
      "execution_count": 36,
      "outputs": []
    },
    {
      "cell_type": "code",
      "metadata": {
        "colab": {
          "base_uri": "https://localhost:8080/",
          "height": 513
        },
        "id": "v8YYxEmBRDLJ",
        "outputId": "618255c2-04a9-4a6c-bcca-655029d27b65"
      },
      "source": [
        "plt.figure(figsize=(8, 8))\n",
        "plt.subplot(2, 1, 1)\n",
        "plt.plot(acc, label='Training Accuracy')\n",
        "plt.plot(val_acc, label='Validation Accuracy')\n",
        "plt.ylim([0.6, 1])\n",
        "plt.plot([init_epoch-1,init_epoch-1],\n",
        "          plt.ylim(), label='Start Fine Tuning')\n",
        "plt.legend(loc='lower right')\n",
        "plt.title('Training and Validation Accuracy')\n",
        "\n",
        "plt.subplot(2, 1, 2)\n",
        "plt.plot(loss, label='Training Loss')\n",
        "plt.plot(val_loss, label='Validation Loss')\n",
        "plt.ylim([0, 1.5])\n",
        "plt.plot([init_epoch-1,init_epoch-1],\n",
        "         plt.ylim(), label='Start Fine Tuning')\n",
        "plt.legend(loc='upper right')\n",
        "plt.title('Training and Validation Loss')\n",
        "plt.xlabel('epoch')\n",
        "plt.show()"
      ],
      "execution_count": 37,
      "outputs": [
        {
          "output_type": "display_data",
          "data": {
            "text/plain": [
              "<Figure size 576x576 with 2 Axes>"
            ],
            "image/png": "[encoded data removed]"
          },
          "metadata": {
            "needs_background": "light"
          }
        }
      ]
    },
    {
      "cell_type": "code",
      "metadata": {
        "id": "eiozfiw4RDOd"
      },
      "source": [
        "model = keras.models.load_model('VGG16_model_w_classWgt.h5')"
      ],
      "execution_count": 38,
      "outputs": []
    },
    {
      "cell_type": "code",
      "metadata": {
        "id": "m1MASx13ig4Y",
        "colab": {
          "base_uri": "https://localhost:8080/"
        },
        "outputId": "57e51d75-d391-4e05-fca5-863da74297e3"
      },
      "source": [
        "#class_names = ['BacterialPneumonia', 'COVID-19','Normal','ViralPneumonia']\n",
        "import tensorflow as tf\n",
        "\n",
        "test_img = keras.preprocessing.image.load_img('/content/drive/MyDrive/Colab Notebooks/data_covid/NonAugmentedTrain/BacterialPneumonia/148.jpeg', target_size=(224,224)) \n",
        "img = keras.preprocessing.image.img_to_array(test_img)\n",
        "img = preprocess_input(img)\n",
        "img = tf.expand_dims(img, 0)\n",
        "\n",
        "prediction = model.predict(img)\n",
        "score = tf.nn.softmax(prediction[0])\n",
        "\n",
        "print(\"This image most likely belongs to {} with a {:.2f} percent confidence.\"\n",
        "       .format(class_labels[np.argmax(score)], 100*np.max(score))      \n",
        "      )"
      ],
      "execution_count": 39,
      "outputs": [
        {
          "output_type": "stream",
          "name": "stdout",
          "text": [
            "This image most likely belongs to BacterialPneumonia with a 45.31 percent confidence.\n"
          ]
        }
      ]
    },
    {
      "cell_type": "code",
      "metadata": {
        "colab": {
          "base_uri": "https://localhost:8080/"
        },
        "id": "Lan3_wxlRsNt",
        "outputId": "69b5fd9c-38e2-4d43-d091-54a767933cef"
      },
      "source": [
        "## classification report\n",
        "\n",
        "test_gen = ImageDataGenerator(preprocessing_function=preprocess_input)\n",
        "\n",
        "test_ds = test_gen.flow_from_directory(val_path,\n",
        "                                       target_size=image_size,\n",
        "                                       class_mode='sparse',\n",
        "                                       batch_size=batch_size,\n",
        "                                       shuffle=False)\n",
        "\n",
        "test_steps_per_epoch = len(test_ds)\n",
        "\n",
        "predictions = model.predict(test_ds, steps=test_steps_per_epoch)\n",
        "predicted_classes = np.argmax(predictions, axis=1)\n",
        "\n",
        "true_classes = test_ds.classes\n",
        "test_class_labels = list(test_ds.class_indices.keys())\n",
        "\n",
        "report = classification_report(true_classes, predicted_classes, target_names=test_class_labels)\n",
        "print(report)    \n",
        "\n",
        "\n"
      ],
      "execution_count": 40,
      "outputs": [
        {
          "output_type": "stream",
          "name": "stdout",
          "text": [
            "Found 988 images belonging to 4 classes.\n",
            "                    precision    recall  f1-score   support\n",
            "\n",
            "BacterialPneumonia       0.69      0.75      0.72       324\n",
            "          COVID-19       0.64      0.78      0.70         9\n",
            "            Normal       0.86      1.00      0.93       450\n",
            "    ViralPneumonia       0.67      0.33      0.44       205\n",
            "\n",
            "          accuracy                           0.78       988\n",
            "         macro avg       0.71      0.72      0.70       988\n",
            "      weighted avg       0.76      0.78      0.76       988\n",
            "\n"
          ]
        }
      ]
    },
    {
      "cell_type": "code",
      "metadata": {
        "id": "N7loHYkbWGb6"
      },
      "source": [
        "## lets plot the confusion matrix"
      ],
      "execution_count": 41,
      "outputs": []
    },
    {
      "cell_type": "code",
      "metadata": {
        "id": "d0TWh--_UYF8"
      },
      "source": [
        "def plot_confusion_matrix(cm,\n",
        "                          target_names,\n",
        "                          title='Confusion matrix',\n",
        "                          cmap=None,\n",
        "                          normalize=False):\n",
        "    \"\"\"\n",
        "    given a sklearn confusion matrix (cm), make a nice plot   \n",
        "\n",
        "    Usage\n",
        "    -----\n",
        "    plot_confusion_matrix(cm           = cm,                  # confusion matrix created by\n",
        "                                                              # sklearn.metrics.confusion_matrix\n",
        "                          normalize    = True,                # show proportions\n",
        "                          target_names = y_labels_vals,       # list of names of the classes\n",
        "                          title        = best_estimator_name) # title of graph\n",
        "\n",
        "    Citiation\n",
        "    ---------\n",
        "    http://scikit-learn.org/stable/auto_examples/model_selection/plot_confusion_matrix.html\n",
        "\n",
        "    \"\"\"\n",
        "    #import matplotlib.pyplot as plt\n",
        "    #import numpy as np\n",
        "    import itertools\n",
        "\n",
        "    accuracy = np.trace(cm) / float(np.sum(cm))\n",
        "    misclass = 1 - accuracy\n",
        "\n",
        "    if cmap is None:\n",
        "        cmap = plt.get_cmap('Blues')\n",
        "\n",
        "    plt.figure(figsize=(8, 6))\n",
        "    plt.imshow(cm, interpolation='nearest', cmap=cmap)\n",
        "    plt.title(title)\n",
        "    plt.colorbar()\n",
        "\n",
        "    if target_names is not None:\n",
        "        tick_marks = np.arange(len(target_names))\n",
        "        plt.xticks(tick_marks, target_names, rotation=45)\n",
        "        plt.yticks(tick_marks, target_names)\n",
        "\n",
        "    if normalize:\n",
        "        cm = cm.astype('float') / cm.sum(axis=1)[:, np.newaxis]\n",
        "\n",
        "\n",
        "    thresh = cm.max() / 1.5 if normalize else cm.max() / 2\n",
        "    for i, j in itertools.product(range(cm.shape[0]), range(cm.shape[1])):\n",
        "        if normalize:\n",
        "            plt.text(j, i, \"{:0.4f}\".format(cm[i, j]),\n",
        "                     horizontalalignment=\"center\",\n",
        "                     color=\"white\" if cm[i, j] > thresh else \"black\")\n",
        "        else:\n",
        "            plt.text(j, i, \"{:,}\".format(cm[i, j]),\n",
        "                     horizontalalignment=\"center\",\n",
        "                     color=\"white\" if cm[i, j] > thresh else \"black\")\n",
        "\n",
        "\n",
        "    plt.tight_layout()\n",
        "    plt.ylabel('True label')\n",
        "    plt.xlabel('Predicted label\\naccuracy={:0.4f}; misclass={:0.4f}'.format(accuracy, misclass))\n",
        "    plt.show()"
      ],
      "execution_count": 42,
      "outputs": []
    },
    {
      "cell_type": "code",
      "metadata": {
        "colab": {
          "base_uri": "https://localhost:8080/",
          "height": 467
        },
        "id": "2QqCLoN_UYTO",
        "outputId": "18d1d85c-b765-4078-b5cc-02b2c89a3dec"
      },
      "source": [
        "prediction = model.predict(test_ds)\n",
        "y_pred = np.argmax(prediction, axis=1)\n",
        "\n",
        "cm = confusion_matrix(true_classes, y_pred)\n",
        "\n",
        "plot_confusion_matrix(cm,          \n",
        "                      normalize    = False,\n",
        "                      target_names = test_class_labels,\n",
        "                      title        = \"Confusion Matrix\")"
      ],
      "execution_count": 43,
      "outputs": [
        {
          "output_type": "display_data",
          "data": {
            "text/plain": [
              "<Figure size 576x432 with 2 Axes>"
            ],
            "image/png": "[encoded data removed]"
          },
          "metadata": {
            "needs_background": "light"
          }
        }
      ]
    }
  ]
}