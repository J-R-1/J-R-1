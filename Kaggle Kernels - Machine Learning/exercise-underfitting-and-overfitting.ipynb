{
 "cells": [
  {
   "cell_type": "markdown",
   "id": "82aa32ee",
   "metadata": {
    "papermill": {
     "duration": 0.011241,
     "end_time": "2021-11-01T18:45:24.782566",
     "exception": false,
     "start_time": "2021-11-01T18:45:24.771325",
     "status": "completed"
    },
    "tags": []
   },
   "source": [
    "**This notebook is an exercise in the [Introduction to Machine Learning](https://www.kaggle.com/learn/intro-to-machine-learning) course.  You can reference the tutorial at [this link](https://www.kaggle.com/dansbecker/underfitting-and-overfitting).**\n",
    "\n",
    "---\n"
   ]
  },
  {
   "cell_type": "markdown",
   "id": "979b8e59",
   "metadata": {
    "papermill": {
     "duration": 0.009464,
     "end_time": "2021-11-01T18:45:24.804094",
     "exception": false,
     "start_time": "2021-11-01T18:45:24.794630",
     "status": "completed"
    },
    "tags": []
   },
   "source": [
    "## Recap\n",
    "You've built your first model, and now it's time to optimize the size of the tree to make better predictions. Run this cell to set up your coding environment where the previous step left off."
   ]
  },
  {
   "cell_type": "code",
   "execution_count": 1,
   "id": "e3dc2e47",
   "metadata": {
    "execution": {
     "iopub.execute_input": "2021-11-01T18:45:24.828378Z",
     "iopub.status.busy": "2021-11-01T18:45:24.827163Z",
     "iopub.status.idle": "2021-11-01T18:45:26.142002Z",
     "shell.execute_reply": "2021-11-01T18:45:26.141290Z",
     "shell.execute_reply.started": "2021-11-01T18:41:59.900538Z"
    },
    "papermill": {
     "duration": 1.32813,
     "end_time": "2021-11-01T18:45:26.142237",
     "exception": false,
     "start_time": "2021-11-01T18:45:24.814107",
     "status": "completed"
    },
    "tags": []
   },
   "outputs": [
    {
     "name": "stdout",
     "output_type": "stream",
     "text": [
      "Validation MAE: 29,653\n",
      "\n",
      "Setup complete\n"
     ]
    }
   ],
   "source": [
    "# Code you have previously used to load data\n",
    "import pandas as pd\n",
    "from sklearn.metrics import mean_absolute_error\n",
    "from sklearn.model_selection import train_test_split\n",
    "from sklearn.tree import DecisionTreeRegressor\n",
    "\n",
    "\n",
    "# Path of the file to read\n",
    "iowa_file_path = '../input/home-data-for-ml-course/train.csv'\n",
    "\n",
    "home_data = pd.read_csv(iowa_file_path)\n",
    "# Create target object and call it y\n",
    "y = home_data.SalePrice\n",
    "# Create X\n",
    "features = ['LotArea', 'YearBuilt', '1stFlrSF', '2ndFlrSF', 'FullBath', 'BedroomAbvGr', 'TotRmsAbvGrd']\n",
    "X = home_data[features]\n",
    "\n",
    "# Split into validation and training data\n",
    "train_X, val_X, train_y, val_y = train_test_split(X, y, random_state=1)\n",
    "\n",
    "# Specify Model\n",
    "iowa_model = DecisionTreeRegressor(random_state=1)\n",
    "# Fit Model\n",
    "iowa_model.fit(train_X, train_y)\n",
    "\n",
    "# Make validation predictions and calculate mean absolute error\n",
    "val_predictions = iowa_model.predict(val_X)\n",
    "val_mae = mean_absolute_error(val_predictions, val_y)\n",
    "print(\"Validation MAE: {:,.0f}\".format(val_mae))\n",
    "\n",
    "# Set up code checking\n",
    "from learntools.core import binder\n",
    "binder.bind(globals())\n",
    "from learntools.machine_learning.ex5 import *\n",
    "print(\"\\nSetup complete\")"
   ]
  },
  {
   "cell_type": "markdown",
   "id": "547ea9c6",
   "metadata": {
    "papermill": {
     "duration": 0.009505,
     "end_time": "2021-11-01T18:45:26.164714",
     "exception": false,
     "start_time": "2021-11-01T18:45:26.155209",
     "status": "completed"
    },
    "tags": []
   },
   "source": [
    "# Exercises\n",
    "You could write the function `get_mae` yourself. For now, we'll supply it. This is the same function you read about in the previous lesson. Just run the cell below."
   ]
  },
  {
   "cell_type": "code",
   "execution_count": 2,
   "id": "14f1fc03",
   "metadata": {
    "execution": {
     "iopub.execute_input": "2021-11-01T18:45:26.191897Z",
     "iopub.status.busy": "2021-11-01T18:45:26.190881Z",
     "iopub.status.idle": "2021-11-01T18:45:26.193453Z",
     "shell.execute_reply": "2021-11-01T18:45:26.192884Z",
     "shell.execute_reply.started": "2021-11-01T18:42:01.050853Z"
    },
    "papermill": {
     "duration": 0.019044,
     "end_time": "2021-11-01T18:45:26.193621",
     "exception": false,
     "start_time": "2021-11-01T18:45:26.174577",
     "status": "completed"
    },
    "tags": []
   },
   "outputs": [],
   "source": [
    "def get_mae(max_leaf_nodes, train_X, val_X, train_y, val_y):\n",
    "    model = DecisionTreeRegressor(max_leaf_nodes=max_leaf_nodes, random_state=0)\n",
    "    model.fit(train_X, train_y)\n",
    "    preds_val = model.predict(val_X)\n",
    "    mae = mean_absolute_error(val_y, preds_val)\n",
    "    return(mae)"
   ]
  },
  {
   "cell_type": "markdown",
   "id": "87207b89",
   "metadata": {
    "papermill": {
     "duration": 0.009624,
     "end_time": "2021-11-01T18:45:26.213179",
     "exception": false,
     "start_time": "2021-11-01T18:45:26.203555",
     "status": "completed"
    },
    "tags": []
   },
   "source": [
    "## Step 1: Compare Different Tree Sizes\n",
    "Write a loop that tries the following values for *max_leaf_nodes* from a set of possible values.\n",
    "\n",
    "Call the *get_mae* function on each value of max_leaf_nodes. Store the output in some way that allows you to select the value of `max_leaf_nodes` that gives the most accurate model on your data."
   ]
  },
  {
   "cell_type": "code",
   "execution_count": 3,
   "id": "4929ddf6",
   "metadata": {
    "execution": {
     "iopub.execute_input": "2021-11-01T18:45:26.236664Z",
     "iopub.status.busy": "2021-11-01T18:45:26.235955Z",
     "iopub.status.idle": "2021-11-01T18:45:26.291051Z",
     "shell.execute_reply": "2021-11-01T18:45:26.291572Z",
     "shell.execute_reply.started": "2021-11-01T18:43:31.839910Z"
    },
    "papermill": {
     "duration": 0.068771,
     "end_time": "2021-11-01T18:45:26.291779",
     "exception": false,
     "start_time": "2021-11-01T18:45:26.223008",
     "status": "completed"
    },
    "tags": []
   },
   "outputs": [
    {
     "name": "stdout",
     "output_type": "stream",
     "text": [
      "{5: 35044.51299744237, 25: 29016.41319191076, 50: 27405.930473214907, 100: 27282.50803885739, 250: 27893.822225701646, 500: 29454.18598068598}\n"
     ]
    },
    {
     "data": {
      "application/javascript": [
       "parent.postMessage({\"jupyterEvent\": \"custom.exercise_interaction\", \"data\": {\"outcomeType\": 1, \"valueTowardsCompletion\": 0.5, \"interactionType\": 1, \"questionType\": 1, \"questionId\": \"1_BestTreeSize\", \"learnToolsVersion\": \"0.3.4\", \"failureMessage\": \"\", \"exceptionClass\": \"\", \"trace\": \"\"}}, \"*\")"
      ],
      "text/plain": [
       "<IPython.core.display.Javascript object>"
      ]
     },
     "metadata": {},
     "output_type": "display_data"
    },
    {
     "data": {
      "text/markdown": [
       "<span style=\"color:#33cc33\">Correct</span>"
      ],
      "text/plain": [
       "Correct"
      ]
     },
     "metadata": {},
     "output_type": "display_data"
    }
   ],
   "source": [
    "candidate_max_leaf_nodes = [5, 25, 50, 100, 250, 500]\n",
    "leaf_dict = {node:get_mae(node, train_X, val_X, train_y, val_y) for node in candidate_max_leaf_nodes}\n",
    "print(leaf_dict)\n",
    "#best_node = min(leaf_dict, key=leaf_dict.get)\n",
    "#print(\"best_node:\", best_node)\n",
    "    \n",
    "\n",
    "# Store the best value of max_leaf_nodes (it will be either 5, 25, 50, 100, 250 or 500)\n",
    "best_tree_size = min(leaf_dict, key=leaf_dict.get)\n",
    "\n",
    "# Check your answer\n",
    "step_1.check()"
   ]
  },
  {
   "cell_type": "code",
   "execution_count": 4,
   "id": "f72463b2",
   "metadata": {
    "execution": {
     "iopub.execute_input": "2021-11-01T18:45:26.321546Z",
     "iopub.status.busy": "2021-11-01T18:45:26.320709Z",
     "iopub.status.idle": "2021-11-01T18:45:26.329418Z",
     "shell.execute_reply": "2021-11-01T18:45:26.329936Z"
    },
    "papermill": {
     "duration": 0.026756,
     "end_time": "2021-11-01T18:45:26.330150",
     "exception": false,
     "start_time": "2021-11-01T18:45:26.303394",
     "status": "completed"
    },
    "tags": []
   },
   "outputs": [
    {
     "data": {
      "application/javascript": [
       "parent.postMessage({\"jupyterEvent\": \"custom.exercise_interaction\", \"data\": {\"interactionType\": 2, \"questionType\": 1, \"questionId\": \"1_BestTreeSize\", \"learnToolsVersion\": \"0.3.4\", \"valueTowardsCompletion\": 0.0, \"failureMessage\": \"\", \"exceptionClass\": \"\", \"trace\": \"\", \"outcomeType\": 4}}, \"*\")"
      ],
      "text/plain": [
       "<IPython.core.display.Javascript object>"
      ]
     },
     "metadata": {},
     "output_type": "display_data"
    },
    {
     "data": {
      "text/markdown": [
       "<span style=\"color:#3366cc\">Hint:</span> You will call get_mae in the loop. You'll need to map the names of your data structure to the names in get_mae"
      ],
      "text/plain": [
       "Hint: You will call get_mae in the loop. You'll need to map the names of your data structure to the names in get_mae"
      ]
     },
     "metadata": {},
     "output_type": "display_data"
    },
    {
     "data": {
      "application/javascript": [
       "parent.postMessage({\"jupyterEvent\": \"custom.exercise_interaction\", \"data\": {\"interactionType\": 3, \"questionType\": 1, \"questionId\": \"1_BestTreeSize\", \"learnToolsVersion\": \"0.3.4\", \"valueTowardsCompletion\": 0.0, \"failureMessage\": \"\", \"exceptionClass\": \"\", \"trace\": \"\", \"outcomeType\": 4}}, \"*\")"
      ],
      "text/plain": [
       "<IPython.core.display.Javascript object>"
      ]
     },
     "metadata": {},
     "output_type": "display_data"
    },
    {
     "data": {
      "text/markdown": [
       "<span style=\"color:#33cc99\">Solution:</span> \n",
       "```python\n",
       "# Here is a short solution with a dict comprehension.\n",
       "# The lesson gives an example of how to do this with an explicit loop.\n",
       "scores = {leaf_size: get_mae(leaf_size, train_X, val_X, train_y, val_y) for leaf_size in candidate_max_leaf_nodes}\n",
       "best_tree_size = min(scores, key=scores.get)\n",
       "\n",
       "```"
      ],
      "text/plain": [
       "Solution: \n",
       "```python\n",
       "# Here is a short solution with a dict comprehension.\n",
       "# The lesson gives an example of how to do this with an explicit loop.\n",
       "scores = {leaf_size: get_mae(leaf_size, train_X, val_X, train_y, val_y) for leaf_size in candidate_max_leaf_nodes}\n",
       "best_tree_size = min(scores, key=scores.get)\n",
       "\n",
       "```"
      ]
     },
     "metadata": {},
     "output_type": "display_data"
    }
   ],
   "source": [
    "# The lines below will show you a hint or the solution.\n",
    "step_1.hint() \n",
    "step_1.solution()"
   ]
  },
  {
   "cell_type": "markdown",
   "id": "53a686dd",
   "metadata": {
    "papermill": {
     "duration": 0.01291,
     "end_time": "2021-11-01T18:45:26.356488",
     "exception": false,
     "start_time": "2021-11-01T18:45:26.343578",
     "status": "completed"
    },
    "tags": []
   },
   "source": [
    "## Step 2: Fit Model Using All Data\n",
    "You know the best tree size. If you were going to deploy this model in practice, you would make it even more accurate by using all of the data and keeping that tree size.  That is, you don't need to hold out the validation data now that you've made all your modeling decisions."
   ]
  },
  {
   "cell_type": "code",
   "execution_count": 5,
   "id": "856ea99a",
   "metadata": {
    "execution": {
     "iopub.execute_input": "2021-11-01T18:45:26.391643Z",
     "iopub.status.busy": "2021-11-01T18:45:26.390925Z",
     "iopub.status.idle": "2021-11-01T18:45:26.404905Z",
     "shell.execute_reply": "2021-11-01T18:45:26.405593Z",
     "shell.execute_reply.started": "2021-11-01T18:44:53.573741Z"
    },
    "papermill": {
     "duration": 0.03589,
     "end_time": "2021-11-01T18:45:26.405802",
     "exception": false,
     "start_time": "2021-11-01T18:45:26.369912",
     "status": "completed"
    },
    "tags": []
   },
   "outputs": [
    {
     "data": {
      "application/javascript": [
       "parent.postMessage({\"jupyterEvent\": \"custom.exercise_interaction\", \"data\": {\"outcomeType\": 1, \"valueTowardsCompletion\": 0.5, \"interactionType\": 1, \"questionType\": 2, \"questionId\": \"2_FitModelWithAllData\", \"learnToolsVersion\": \"0.3.4\", \"failureMessage\": \"\", \"exceptionClass\": \"\", \"trace\": \"\"}}, \"*\")"
      ],
      "text/plain": [
       "<IPython.core.display.Javascript object>"
      ]
     },
     "metadata": {},
     "output_type": "display_data"
    },
    {
     "data": {
      "text/markdown": [
       "<span style=\"color:#33cc33\">Correct</span>"
      ],
      "text/plain": [
       "Correct"
      ]
     },
     "metadata": {},
     "output_type": "display_data"
    }
   ],
   "source": [
    "# Fill in argument to make optimal size and uncomment\n",
    "final_model = DecisionTreeRegressor(max_leaf_nodes=100,random_state=0)\n",
    "\n",
    "# fit the final model and uncomment the next two lines\n",
    "final_model.fit(X, y)\n",
    "\n",
    "# Check your answer\n",
    "step_2.check()"
   ]
  },
  {
   "cell_type": "code",
   "execution_count": 6,
   "id": "2c3a124f",
   "metadata": {
    "execution": {
     "iopub.execute_input": "2021-11-01T18:45:26.440159Z",
     "iopub.status.busy": "2021-11-01T18:45:26.439355Z",
     "iopub.status.idle": "2021-11-01T18:45:26.442683Z",
     "shell.execute_reply": "2021-11-01T18:45:26.443232Z"
    },
    "papermill": {
     "duration": 0.022075,
     "end_time": "2021-11-01T18:45:26.443421",
     "exception": false,
     "start_time": "2021-11-01T18:45:26.421346",
     "status": "completed"
    },
    "tags": []
   },
   "outputs": [],
   "source": [
    "# step_2.hint()\n",
    "# step_2.solution()"
   ]
  },
  {
   "cell_type": "markdown",
   "id": "abca8aef",
   "metadata": {
    "papermill": {
     "duration": 0.014096,
     "end_time": "2021-11-01T18:45:26.472041",
     "exception": false,
     "start_time": "2021-11-01T18:45:26.457945",
     "status": "completed"
    },
    "tags": []
   },
   "source": [
    "You've tuned this model and improved your results. But we are still using Decision Tree models, which are not very sophisticated by modern machine learning standards. In the next step you will learn to use Random Forests to improve your models even more.\n",
    "\n",
    "# Keep Going\n",
    "\n",
    "You are ready for **[Random Forests](https://www.kaggle.com/dansbecker/random-forests).**\n"
   ]
  },
  {
   "cell_type": "markdown",
   "id": "3d9be2b8",
   "metadata": {
    "papermill": {
     "duration": 0.014079,
     "end_time": "2021-11-01T18:45:26.500662",
     "exception": false,
     "start_time": "2021-11-01T18:45:26.486583",
     "status": "completed"
    },
    "tags": []
   },
   "source": [
    "---\n",
    "\n",
    "\n",
    "\n",
    "\n",
    "*Have questions or comments? Visit the [Learn Discussion forum](https://www.kaggle.com/learn-forum/161285) to chat with other Learners.*"
   ]
  }
 ],
 "metadata": {
  "kernelspec": {
   "display_name": "Python 3",
   "language": "python",
   "name": "python3"
  },
  "language_info": {
   "codemirror_mode": {
    "name": "ipython",
    "version": 3
   },
   "file_extension": ".py",
   "mimetype": "text/x-python",
   "name": "python",
   "nbconvert_exporter": "python",
   "pygments_lexer": "ipython3",
   "version": "3.7.10"
  },
  "papermill": {
   "default_parameters": {},
   "duration": 12.938176,
   "end_time": "2021-11-01T18:45:27.529924",
   "environment_variables": {},
   "exception": null,
   "input_path": "__notebook__.ipynb",
   "output_path": "__notebook__.ipynb",
   "parameters": {},
   "start_time": "2021-11-01T18:45:14.591748",
   "version": "2.3.3"
  }
 },
 "nbformat": 4,
 "nbformat_minor": 5
}
