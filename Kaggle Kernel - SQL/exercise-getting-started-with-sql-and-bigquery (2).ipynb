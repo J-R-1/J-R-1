{
 "cells": [
  {
   "cell_type": "markdown",
   "id": "7a88bc06",
   "metadata": {
    "papermill": {
     "duration": 0.00953,
     "end_time": "2021-10-05T18:04:40.544702",
     "exception": false,
     "start_time": "2021-10-05T18:04:40.535172",
     "status": "completed"
    },
    "tags": []
   },
   "source": [
    "**[SQL Home Page](https://www.kaggle.com/learn/intro-to-sql)**\n",
    "\n",
    "---\n"
   ]
  },
  {
   "cell_type": "markdown",
   "id": "efccfea2",
   "metadata": {
    "papermill": {
     "duration": 0.00798,
     "end_time": "2021-10-05T18:04:40.563123",
     "exception": false,
     "start_time": "2021-10-05T18:04:40.555143",
     "status": "completed"
    },
    "tags": []
   },
   "source": [
    "# Introduction\n",
    "\n",
    "The first test of your new data exploration skills uses data describing crime in the city of Chicago.\n",
    "\n",
    "Before you get started, run the following cell. It sets up the automated feedback system to review your answers."
   ]
  },
  {
   "cell_type": "code",
   "execution_count": 1,
   "id": "a8ff39a6",
   "metadata": {
    "execution": {
     "iopub.execute_input": "2021-10-05T18:04:40.583606Z",
     "iopub.status.busy": "2021-10-05T18:04:40.582601Z",
     "iopub.status.idle": "2021-10-05T18:04:42.288294Z",
     "shell.execute_reply": "2021-10-05T18:04:42.289106Z",
     "shell.execute_reply.started": "2021-10-05T18:03:46.900740Z"
    },
    "papermill": {
     "duration": 1.717928,
     "end_time": "2021-10-05T18:04:42.289512",
     "exception": false,
     "start_time": "2021-10-05T18:04:40.571584",
     "status": "completed"
    },
    "tags": []
   },
   "outputs": [
    {
     "name": "stdout",
     "output_type": "stream",
     "text": [
      "Using Kaggle's public dataset BigQuery integration.\n",
      "Setup Complete\n"
     ]
    }
   ],
   "source": [
    "# Set up feedack system\n",
    "from learntools.core import binder\n",
    "binder.bind(globals())\n",
    "from learntools.sql.ex1 import *\n",
    "print(\"Setup Complete\")"
   ]
  },
  {
   "cell_type": "markdown",
   "id": "5bcb9861",
   "metadata": {
    "papermill": {
     "duration": 0.008447,
     "end_time": "2021-10-05T18:04:42.308152",
     "exception": false,
     "start_time": "2021-10-05T18:04:42.299705",
     "status": "completed"
    },
    "tags": []
   },
   "source": [
    "Use the next code cell to fetch the dataset."
   ]
  },
  {
   "cell_type": "code",
   "execution_count": 2,
   "id": "46176a93",
   "metadata": {
    "execution": {
     "iopub.execute_input": "2021-10-05T18:04:42.329298Z",
     "iopub.status.busy": "2021-10-05T18:04:42.328315Z",
     "iopub.status.idle": "2021-10-05T18:04:42.736296Z",
     "shell.execute_reply": "2021-10-05T18:04:42.735677Z",
     "shell.execute_reply.started": "2021-10-05T18:03:47.799474Z"
    },
    "papermill": {
     "duration": 0.41964,
     "end_time": "2021-10-05T18:04:42.736445",
     "exception": false,
     "start_time": "2021-10-05T18:04:42.316805",
     "status": "completed"
    },
    "tags": []
   },
   "outputs": [
    {
     "name": "stdout",
     "output_type": "stream",
     "text": [
      "Using Kaggle's public dataset BigQuery integration.\n"
     ]
    }
   ],
   "source": [
    "from google.cloud import bigquery\n",
    "\n",
    "# Create a \"Client\" object\n",
    "client = bigquery.Client()\n",
    "\n",
    "# Construct a reference to the \"chicago_crime\" dataset\n",
    "dataset_ref = client.dataset(\"chicago_crime\", project=\"bigquery-public-data\")\n",
    "\n",
    "# API request - fetch the dataset\n",
    "dataset = client.get_dataset(dataset_ref)"
   ]
  },
  {
   "cell_type": "markdown",
   "id": "5d49a61d",
   "metadata": {
    "papermill": {
     "duration": 0.011296,
     "end_time": "2021-10-05T18:04:42.757807",
     "exception": false,
     "start_time": "2021-10-05T18:04:42.746511",
     "status": "completed"
    },
    "tags": []
   },
   "source": [
    "# Exercises\n",
    "\n",
    "### 1) Count tables in the dataset\n",
    "\n",
    "How many tables are in the Chicago Crime dataset?"
   ]
  },
  {
   "cell_type": "code",
   "execution_count": 3,
   "id": "fce28bb5",
   "metadata": {
    "execution": {
     "iopub.execute_input": "2021-10-05T18:04:42.785040Z",
     "iopub.status.busy": "2021-10-05T18:04:42.784171Z",
     "iopub.status.idle": "2021-10-05T18:04:43.147169Z",
     "shell.execute_reply": "2021-10-05T18:04:43.147646Z",
     "shell.execute_reply.started": "2021-10-05T18:03:48.075870Z"
    },
    "papermill": {
     "duration": 0.378287,
     "end_time": "2021-10-05T18:04:43.147834",
     "exception": false,
     "start_time": "2021-10-05T18:04:42.769547",
     "status": "completed"
    },
    "tags": []
   },
   "outputs": [
    {
     "name": "stdout",
     "output_type": "stream",
     "text": [
      "num of tables : 1\n"
     ]
    }
   ],
   "source": [
    "# Number of tables in the Chicago Crime dataset\n",
    "tables = list(client.list_tables(dataset))\n",
    "num_tables = 0\n",
    "for table in tables:\n",
    "    num_tables +=1\n",
    "print(\"num of tables :\",num_tables)\n",
    "    "
   ]
  },
  {
   "cell_type": "markdown",
   "id": "52a6f29d",
   "metadata": {
    "papermill": {
     "duration": 0.009341,
     "end_time": "2021-10-05T18:04:43.167176",
     "exception": false,
     "start_time": "2021-10-05T18:04:43.157835",
     "status": "completed"
    },
    "tags": []
   },
   "source": [
    "### 2) Explore the table schema\n",
    "\n",
    "How many columns in the `crime` table have `TIMESTAMP` data?"
   ]
  },
  {
   "cell_type": "code",
   "execution_count": 4,
   "id": "3b6db0ac",
   "metadata": {
    "execution": {
     "iopub.execute_input": "2021-10-05T18:04:43.197845Z",
     "iopub.status.busy": "2021-10-05T18:04:43.197132Z",
     "iopub.status.idle": "2021-10-05T18:04:43.200159Z",
     "shell.execute_reply": "2021-10-05T18:04:43.200619Z",
     "shell.execute_reply.started": "2021-10-05T18:03:48.290690Z"
    },
    "papermill": {
     "duration": 0.023934,
     "end_time": "2021-10-05T18:04:43.200840",
     "exception": false,
     "start_time": "2021-10-05T18:04:43.176906",
     "status": "completed"
    },
    "tags": []
   },
   "outputs": [
    {
     "name": "stdout",
     "output_type": "stream",
     "text": [
      "crime\n"
     ]
    }
   ],
   "source": [
    "# listing the tables in the Chicago Crime dataset\n",
    "for table in tables:\n",
    "    print(table.table_id)"
   ]
  },
  {
   "cell_type": "code",
   "execution_count": 5,
   "id": "c6cd353c",
   "metadata": {
    "execution": {
     "iopub.execute_input": "2021-10-05T18:04:43.234910Z",
     "iopub.status.busy": "2021-10-05T18:04:43.234252Z",
     "iopub.status.idle": "2021-10-05T18:04:43.567140Z",
     "shell.execute_reply": "2021-10-05T18:04:43.567575Z",
     "shell.execute_reply.started": "2021-10-05T18:03:48.296761Z"
    },
    "papermill": {
     "duration": 0.352853,
     "end_time": "2021-10-05T18:04:43.567730",
     "exception": false,
     "start_time": "2021-10-05T18:04:43.214877",
     "status": "completed"
    },
    "tags": []
   },
   "outputs": [
    {
     "data": {
      "text/plain": [
       "[SchemaField('unique_key', 'INTEGER', 'REQUIRED', 'Unique identifier for the record.', (), None),\n",
       " SchemaField('case_number', 'STRING', 'NULLABLE', 'The Chicago Police Department RD Number (Records Division Number), which is unique to the incident.', (), None),\n",
       " SchemaField('date', 'TIMESTAMP', 'NULLABLE', 'Date when the incident occurred. this is sometimes a best estimate.', (), None),\n",
       " SchemaField('block', 'STRING', 'NULLABLE', 'The partially redacted address where the incident occurred, placing it on the same block as the actual address.', (), None),\n",
       " SchemaField('iucr', 'STRING', 'NULLABLE', 'The Illinois Unifrom Crime Reporting code. This is directly linked to the Primary Type and Description. See the list of IUCR codes at https://data.cityofchicago.org/d/c7ck-438e.', (), None),\n",
       " SchemaField('primary_type', 'STRING', 'NULLABLE', 'The primary description of the IUCR code.', (), None),\n",
       " SchemaField('description', 'STRING', 'NULLABLE', 'The secondary description of the IUCR code, a subcategory of the primary description.', (), None),\n",
       " SchemaField('location_description', 'STRING', 'NULLABLE', 'Description of the location where the incident occurred.', (), None),\n",
       " SchemaField('arrest', 'BOOLEAN', 'NULLABLE', 'Indicates whether an arrest was made.', (), None),\n",
       " SchemaField('domestic', 'BOOLEAN', 'NULLABLE', 'Indicates whether the incident was domestic-related as defined by the Illinois Domestic Violence Act.', (), None),\n",
       " SchemaField('beat', 'INTEGER', 'NULLABLE', 'Indicates the beat where the incident occurred. A beat is the smallest police geographic area – each beat has a dedicated police beat car. Three to five beats make up a police sector, and three sectors make up a police district. The Chicago Police Department has 22 police districts. See the beats at https://data.cityofchicago.org/d/aerh-rz74.', (), None),\n",
       " SchemaField('district', 'INTEGER', 'NULLABLE', 'Indicates the police district where the incident occurred. See the districts at https://data.cityofchicago.org/d/fthy-xz3r.', (), None),\n",
       " SchemaField('ward', 'INTEGER', 'NULLABLE', 'The ward (City Council district) where the incident occurred. See the wards at https://data.cityofchicago.org/d/sp34-6z76.', (), None),\n",
       " SchemaField('community_area', 'INTEGER', 'NULLABLE', 'Indicates the community area where the incident occurred. Chicago has 77 community areas. See the community areas at https://data.cityofchicago.org/d/cauq-8yn6.', (), None),\n",
       " SchemaField('fbi_code', 'STRING', 'NULLABLE', \"Indicates the crime classification as outlined in the FBI's National Incident-Based Reporting System (NIBRS). See the Chicago Police Department listing of these classifications at http://gis.chicagopolice.org/clearmap_crime_sums/crime_types.html.\", (), None),\n",
       " SchemaField('x_coordinate', 'FLOAT', 'NULLABLE', 'The x coordinate of the location where the incident occurred in State Plane Illinois East NAD 1983 projection. This location is shifted from the actual location for partial redaction but falls on the same block.', (), None),\n",
       " SchemaField('y_coordinate', 'FLOAT', 'NULLABLE', 'The y coordinate of the location where the incident occurred in State Plane Illinois East NAD 1983 projection. This location is shifted from the actual location for partial redaction but falls on the same block.', (), None),\n",
       " SchemaField('year', 'INTEGER', 'NULLABLE', 'Year the incident occurred.', (), None),\n",
       " SchemaField('updated_on', 'TIMESTAMP', 'NULLABLE', 'Date and time the record was last updated.', (), None),\n",
       " SchemaField('latitude', 'FLOAT', 'NULLABLE', 'The latitude of the location where the incident occurred. This location is shifted from the actual location for partial redaction but falls on the same block.', (), None),\n",
       " SchemaField('longitude', 'FLOAT', 'NULLABLE', 'The longitude of the location where the incident occurred. This location is shifted from the actual location for partial redaction but falls on the same block.', (), None),\n",
       " SchemaField('location', 'STRING', 'NULLABLE', 'The location where the incident occurred in a format that allows for creation of maps and other geographic operations on this data portal. This location is shifted from the actual location for partial redaction but falls on the same block.', (), None)]"
      ]
     },
     "execution_count": 5,
     "metadata": {},
     "output_type": "execute_result"
    }
   ],
   "source": [
    "table_ref = dataset_ref.table(\"crime\")\n",
    "table = client.get_table(table_ref)\n",
    "\n",
    "table.schema"
   ]
  },
  {
   "cell_type": "code",
   "execution_count": 6,
   "id": "58f5cc8d",
   "metadata": {
    "execution": {
     "iopub.execute_input": "2021-10-05T18:04:43.591680Z",
     "iopub.status.busy": "2021-10-05T18:04:43.591162Z",
     "iopub.status.idle": "2021-10-05T18:04:43.595499Z",
     "shell.execute_reply": "2021-10-05T18:04:43.595912Z",
     "shell.execute_reply.started": "2021-10-05T18:03:48.522068Z"
    },
    "papermill": {
     "duration": 0.018692,
     "end_time": "2021-10-05T18:04:43.596065",
     "exception": false,
     "start_time": "2021-10-05T18:04:43.577373",
     "status": "completed"
    },
    "tags": []
   },
   "outputs": [
    {
     "data": {
      "application/javascript": [
       "parent.postMessage({\"jupyterEvent\": \"custom.exercise_interaction\", \"data\": {\"outcomeType\": 1, \"valueTowardsCompletion\": 0.3333333333333333, \"interactionType\": 1, \"questionType\": 1, \"questionId\": \"2_CountTimestampFields\", \"learnToolsVersion\": \"0.3.4\", \"failureMessage\": \"\", \"exceptionClass\": \"\", \"trace\": \"\"}}, \"*\")"
      ],
      "text/plain": [
       "<IPython.core.display.Javascript object>"
      ]
     },
     "metadata": {},
     "output_type": "display_data"
    },
    {
     "data": {
      "text/markdown": [
       "<span style=\"color:#33cc33\">Correct</span>"
      ],
      "text/plain": [
       "Correct"
      ]
     },
     "metadata": {},
     "output_type": "display_data"
    }
   ],
   "source": [
    "## Number of fields with TimeStamp data\n",
    "num_timestamp_fields = 2 \n",
    "\n",
    "# Check your answer\n",
    "q_2.check()"
   ]
  },
  {
   "cell_type": "markdown",
   "id": "61ce46db",
   "metadata": {
    "papermill": {
     "duration": 0.010249,
     "end_time": "2021-10-05T18:04:43.617949",
     "exception": false,
     "start_time": "2021-10-05T18:04:43.607700",
     "status": "completed"
    },
    "tags": []
   },
   "source": [
    "### 3) Create a crime map\n",
    "\n",
    "If you wanted to create a map with a dot at the location of each crime, what are the names of the two fields you likely need to pull out of the `crime` table to plot the crimes on a map?"
   ]
  },
  {
   "cell_type": "code",
   "execution_count": 7,
   "id": "08864ecb",
   "metadata": {
    "execution": {
     "iopub.execute_input": "2021-10-05T18:04:43.646817Z",
     "iopub.status.busy": "2021-10-05T18:04:43.643096Z",
     "iopub.status.idle": "2021-10-05T18:04:44.187610Z",
     "shell.execute_reply": "2021-10-05T18:04:44.186718Z",
     "shell.execute_reply.started": "2021-10-05T18:03:48.531078Z"
    },
    "papermill": {
     "duration": 0.558981,
     "end_time": "2021-10-05T18:04:44.187794",
     "exception": false,
     "start_time": "2021-10-05T18:04:43.628813",
     "status": "completed"
    },
    "tags": []
   },
   "outputs": [
    {
     "name": "stderr",
     "output_type": "stream",
     "text": [
      "/opt/conda/lib/python3.7/site-packages/ipykernel_launcher.py:2: UserWarning: Cannot use bqstorage_client if max_results is set, reverting to fetching data with the tabledata.list endpoint.\n",
      "  \n"
     ]
    },
    {
     "data": {
      "text/html": [
       "<div>\n",
       "<style scoped>\n",
       "    .dataframe tbody tr th:only-of-type {\n",
       "        vertical-align: middle;\n",
       "    }\n",
       "\n",
       "    .dataframe tbody tr th {\n",
       "        vertical-align: top;\n",
       "    }\n",
       "\n",
       "    .dataframe thead th {\n",
       "        text-align: right;\n",
       "    }\n",
       "</style>\n",
       "<table border=\"1\" class=\"dataframe\">\n",
       "  <thead>\n",
       "    <tr style=\"text-align: right;\">\n",
       "      <th></th>\n",
       "      <th>unique_key</th>\n",
       "      <th>case_number</th>\n",
       "      <th>date</th>\n",
       "      <th>block</th>\n",
       "      <th>iucr</th>\n",
       "      <th>primary_type</th>\n",
       "      <th>description</th>\n",
       "      <th>location_description</th>\n",
       "      <th>arrest</th>\n",
       "      <th>domestic</th>\n",
       "      <th>...</th>\n",
       "      <th>ward</th>\n",
       "      <th>community_area</th>\n",
       "      <th>fbi_code</th>\n",
       "      <th>x_coordinate</th>\n",
       "      <th>y_coordinate</th>\n",
       "      <th>year</th>\n",
       "      <th>updated_on</th>\n",
       "      <th>latitude</th>\n",
       "      <th>longitude</th>\n",
       "      <th>location</th>\n",
       "    </tr>\n",
       "  </thead>\n",
       "  <tbody>\n",
       "    <tr>\n",
       "      <th>0</th>\n",
       "      <td>10233755</td>\n",
       "      <td>HY422081</td>\n",
       "      <td>2015-09-13 18:35:00+00:00</td>\n",
       "      <td>130XX S EVANS AVE</td>\n",
       "      <td>0470</td>\n",
       "      <td>PUBLIC PEACE VIOLATION</td>\n",
       "      <td>RECKLESS CONDUCT</td>\n",
       "      <td>STREET</td>\n",
       "      <td>True</td>\n",
       "      <td>False</td>\n",
       "      <td>...</td>\n",
       "      <td>9</td>\n",
       "      <td>54</td>\n",
       "      <td>24</td>\n",
       "      <td>1183713.0</td>\n",
       "      <td>1818780.0</td>\n",
       "      <td>2015</td>\n",
       "      <td>2018-02-10 15:50:01+00:00</td>\n",
       "      <td>41.657912</td>\n",
       "      <td>-87.603407</td>\n",
       "      <td>(41.65791184, -87.603407012)</td>\n",
       "    </tr>\n",
       "    <tr>\n",
       "      <th>1</th>\n",
       "      <td>10235401</td>\n",
       "      <td>HY423558</td>\n",
       "      <td>2015-09-14 19:20:00+00:00</td>\n",
       "      <td>018XX S WENTWORTH AVE</td>\n",
       "      <td>0420</td>\n",
       "      <td>BATTERY</td>\n",
       "      <td>AGGRAVATED:KNIFE/CUTTING INSTR</td>\n",
       "      <td>OTHER</td>\n",
       "      <td>True</td>\n",
       "      <td>False</td>\n",
       "      <td>...</td>\n",
       "      <td>25</td>\n",
       "      <td>34</td>\n",
       "      <td>04B</td>\n",
       "      <td>1175335.0</td>\n",
       "      <td>1891523.0</td>\n",
       "      <td>2015</td>\n",
       "      <td>2018-02-10 15:50:01+00:00</td>\n",
       "      <td>41.857718</td>\n",
       "      <td>-87.631893</td>\n",
       "      <td>(41.857717887, -87.63189334)</td>\n",
       "    </tr>\n",
       "    <tr>\n",
       "      <th>2</th>\n",
       "      <td>10245964</td>\n",
       "      <td>HY433413</td>\n",
       "      <td>2015-09-22 08:45:00+00:00</td>\n",
       "      <td>092XX S LEAVITT ST</td>\n",
       "      <td>1750</td>\n",
       "      <td>OFFENSE INVOLVING CHILDREN</td>\n",
       "      <td>CHILD ABUSE</td>\n",
       "      <td>SCHOOL, PUBLIC, GROUNDS</td>\n",
       "      <td>False</td>\n",
       "      <td>True</td>\n",
       "      <td>...</td>\n",
       "      <td>19</td>\n",
       "      <td>72</td>\n",
       "      <td>20</td>\n",
       "      <td>1163323.0</td>\n",
       "      <td>1843115.0</td>\n",
       "      <td>2015</td>\n",
       "      <td>2018-02-10 15:50:01+00:00</td>\n",
       "      <td>41.725141</td>\n",
       "      <td>-87.677340</td>\n",
       "      <td>(41.725140977, -87.677340237)</td>\n",
       "    </tr>\n",
       "    <tr>\n",
       "      <th>3</th>\n",
       "      <td>10292528</td>\n",
       "      <td>HY480181</td>\n",
       "      <td>2015-10-28 18:15:00+00:00</td>\n",
       "      <td>081XX S KIMBARK AVE</td>\n",
       "      <td>0520</td>\n",
       "      <td>ASSAULT</td>\n",
       "      <td>AGGRAVATED:KNIFE/CUTTING INSTR</td>\n",
       "      <td>RESIDENCE</td>\n",
       "      <td>False</td>\n",
       "      <td>True</td>\n",
       "      <td>...</td>\n",
       "      <td>8</td>\n",
       "      <td>45</td>\n",
       "      <td>04A</td>\n",
       "      <td>1186291.0</td>\n",
       "      <td>1851290.0</td>\n",
       "      <td>2015</td>\n",
       "      <td>2018-02-10 15:50:01+00:00</td>\n",
       "      <td>41.747063</td>\n",
       "      <td>-87.592951</td>\n",
       "      <td>(41.747062942, -87.592950981)</td>\n",
       "    </tr>\n",
       "    <tr>\n",
       "      <th>4</th>\n",
       "      <td>10194041</td>\n",
       "      <td>HY381242</td>\n",
       "      <td>2015-08-13 17:45:00+00:00</td>\n",
       "      <td>002XX W GARFIELD BLVD</td>\n",
       "      <td>1220</td>\n",
       "      <td>DECEPTIVE PRACTICE</td>\n",
       "      <td>THEFT OF LOST/MISLAID PROP</td>\n",
       "      <td>CTA STATION</td>\n",
       "      <td>True</td>\n",
       "      <td>False</td>\n",
       "      <td>...</td>\n",
       "      <td>3</td>\n",
       "      <td>37</td>\n",
       "      <td>11</td>\n",
       "      <td>1175647.0</td>\n",
       "      <td>1868500.0</td>\n",
       "      <td>2015</td>\n",
       "      <td>2018-02-10 15:50:01+00:00</td>\n",
       "      <td>41.794534</td>\n",
       "      <td>-87.631439</td>\n",
       "      <td>(41.794533814, -87.631438536)</td>\n",
       "    </tr>\n",
       "  </tbody>\n",
       "</table>\n",
       "<p>5 rows × 22 columns</p>\n",
       "</div>"
      ],
      "text/plain": [
       "   unique_key case_number                      date                  block  \\\n",
       "0    10233755    HY422081 2015-09-13 18:35:00+00:00      130XX S EVANS AVE   \n",
       "1    10235401    HY423558 2015-09-14 19:20:00+00:00  018XX S WENTWORTH AVE   \n",
       "2    10245964    HY433413 2015-09-22 08:45:00+00:00     092XX S LEAVITT ST   \n",
       "3    10292528    HY480181 2015-10-28 18:15:00+00:00    081XX S KIMBARK AVE   \n",
       "4    10194041    HY381242 2015-08-13 17:45:00+00:00  002XX W GARFIELD BLVD   \n",
       "\n",
       "   iucr                primary_type                     description  \\\n",
       "0  0470      PUBLIC PEACE VIOLATION                RECKLESS CONDUCT   \n",
       "1  0420                     BATTERY  AGGRAVATED:KNIFE/CUTTING INSTR   \n",
       "2  1750  OFFENSE INVOLVING CHILDREN                     CHILD ABUSE   \n",
       "3  0520                     ASSAULT  AGGRAVATED:KNIFE/CUTTING INSTR   \n",
       "4  1220          DECEPTIVE PRACTICE      THEFT OF LOST/MISLAID PROP   \n",
       "\n",
       "      location_description  arrest  domestic  ...  ward  community_area  \\\n",
       "0                   STREET    True     False  ...     9              54   \n",
       "1                    OTHER    True     False  ...    25              34   \n",
       "2  SCHOOL, PUBLIC, GROUNDS   False      True  ...    19              72   \n",
       "3                RESIDENCE   False      True  ...     8              45   \n",
       "4              CTA STATION    True     False  ...     3              37   \n",
       "\n",
       "   fbi_code  x_coordinate y_coordinate  year                updated_on  \\\n",
       "0        24     1183713.0    1818780.0  2015 2018-02-10 15:50:01+00:00   \n",
       "1       04B     1175335.0    1891523.0  2015 2018-02-10 15:50:01+00:00   \n",
       "2        20     1163323.0    1843115.0  2015 2018-02-10 15:50:01+00:00   \n",
       "3       04A     1186291.0    1851290.0  2015 2018-02-10 15:50:01+00:00   \n",
       "4        11     1175647.0    1868500.0  2015 2018-02-10 15:50:01+00:00   \n",
       "\n",
       "    latitude  longitude                       location  \n",
       "0  41.657912 -87.603407   (41.65791184, -87.603407012)  \n",
       "1  41.857718 -87.631893   (41.857717887, -87.63189334)  \n",
       "2  41.725141 -87.677340  (41.725140977, -87.677340237)  \n",
       "3  41.747063 -87.592951  (41.747062942, -87.592950981)  \n",
       "4  41.794534 -87.631439  (41.794533814, -87.631438536)  \n",
       "\n",
       "[5 rows x 22 columns]"
      ]
     },
     "execution_count": 7,
     "metadata": {},
     "output_type": "execute_result"
    }
   ],
   "source": [
    "# listing top 5 rows of the crimes table\n",
    "client.list_rows(table, max_results=5).to_dataframe()\n",
    "\n"
   ]
  },
  {
   "cell_type": "code",
   "execution_count": 8,
   "id": "fdaef8ec",
   "metadata": {
    "execution": {
     "iopub.execute_input": "2021-10-05T18:04:44.216863Z",
     "iopub.status.busy": "2021-10-05T18:04:44.215987Z",
     "iopub.status.idle": "2021-10-05T18:04:44.220510Z",
     "shell.execute_reply": "2021-10-05T18:04:44.220909Z",
     "shell.execute_reply.started": "2021-10-05T18:03:48.969438Z"
    },
    "papermill": {
     "duration": 0.021235,
     "end_time": "2021-10-05T18:04:44.221067",
     "exception": false,
     "start_time": "2021-10-05T18:04:44.199832",
     "status": "completed"
    },
    "tags": []
   },
   "outputs": [
    {
     "data": {
      "application/javascript": [
       "parent.postMessage({\"jupyterEvent\": \"custom.exercise_interaction\", \"data\": {\"outcomeType\": 1, \"valueTowardsCompletion\": 0.3333333333333333, \"interactionType\": 1, \"questionType\": 2, \"questionId\": \"3_IdentifyFieldsForPlotting\", \"learnToolsVersion\": \"0.3.4\", \"failureMessage\": \"\", \"exceptionClass\": \"\", \"trace\": \"\"}}, \"*\")"
      ],
      "text/plain": [
       "<IPython.core.display.Javascript object>"
      ]
     },
     "metadata": {},
     "output_type": "display_data"
    },
    {
     "data": {
      "text/markdown": [
       "<span style=\"color:#33cc33\">Correct</span>"
      ],
      "text/plain": [
       "Correct"
      ]
     },
     "metadata": {},
     "output_type": "display_data"
    }
   ],
   "source": [
    "fields_for_plotting = ['longitude', 'latitude'] \n",
    "\n",
    "# Check your answer\n",
    "q_3.check()"
   ]
  },
  {
   "cell_type": "markdown",
   "id": "dbf2dd02",
   "metadata": {
    "papermill": {
     "duration": 0.01206,
     "end_time": "2021-10-05T18:04:44.245657",
     "exception": false,
     "start_time": "2021-10-05T18:04:44.233597",
     "status": "completed"
    },
    "tags": []
   },
   "source": [
    "# Keep going\n",
    "\n",
    "You've looked at the schema, but you haven't yet done anything exciting with the data itself. Things get more interesting when you get to the data, so keep going to **[write your first SQL query](https://www.kaggle.com/dansbecker/select-from-where).**"
   ]
  },
  {
   "cell_type": "markdown",
   "id": "8aaed5d7",
   "metadata": {
    "papermill": {
     "duration": 0.01197,
     "end_time": "2021-10-05T18:04:44.269931",
     "exception": false,
     "start_time": "2021-10-05T18:04:44.257961",
     "status": "completed"
    },
    "tags": []
   },
   "source": [
    "---\n",
    "**[SQL Home Page](https://www.kaggle.com/learn/intro-to-sql)**\n",
    "\n",
    "\n",
    "\n",
    "\n",
    "\n",
    "*Have questions or comments? Visit the [Learn Discussion forum](https://www.kaggle.com/learn-forum/161314) to chat with other Learners.*"
   ]
  }
 ],
 "metadata": {
  "kernelspec": {
   "display_name": "Python 3",
   "language": "python",
   "name": "python3"
  },
  "language_info": {
   "codemirror_mode": {
    "name": "ipython",
    "version": 3
   },
   "file_extension": ".py",
   "mimetype": "text/x-python",
   "name": "python",
   "nbconvert_exporter": "python",
   "pygments_lexer": "ipython3",
   "version": "3.7.10"
  },
  "papermill": {
   "default_parameters": {},
   "duration": 11.695693,
   "end_time": "2021-10-05T18:04:45.629202",
   "environment_variables": {},
   "exception": null,
   "input_path": "__notebook__.ipynb",
   "output_path": "__notebook__.ipynb",
   "parameters": {},
   "start_time": "2021-10-05T18:04:33.933509",
   "version": "2.3.3"
  }
 },
 "nbformat": 4,
 "nbformat_minor": 5
}
