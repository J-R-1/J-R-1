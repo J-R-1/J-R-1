{
 "cells": [
  {
   "cell_type": "markdown",
   "id": "fbd7c90e",
   "metadata": {
    "papermill": {
     "duration": 0.01123,
     "end_time": "2021-10-06T14:03:59.243988",
     "exception": false,
     "start_time": "2021-10-06T14:03:59.232758",
     "status": "completed"
    },
    "tags": []
   },
   "source": [
    "**[SQL Home Page](https://www.kaggle.com/learn/intro-to-sql)**\n",
    "\n",
    "---\n"
   ]
  },
  {
   "cell_type": "markdown",
   "id": "fa7f467e",
   "metadata": {
    "papermill": {
     "duration": 0.009699,
     "end_time": "2021-10-06T14:03:59.265928",
     "exception": false,
     "start_time": "2021-10-06T14:03:59.256229",
     "status": "completed"
    },
    "tags": []
   },
   "source": [
    "# Introduction\n",
    "\n",
    "You've built up your SQL skills enough that the remaining hands-on exercises will use different datasets than you see in the explanations. If you need to get to know a new dataset, you can run a couple of **SELECT** queries to extract and review the data you need. \n",
    "\n",
    "The next exercises are also more challenging than what you've done so far. Don't worry, you are ready for it!\n",
    "\n",
    "Run the code in the following cell to get everything set up:"
   ]
  },
  {
   "cell_type": "code",
   "execution_count": 1,
   "id": "fffe8ee6",
   "metadata": {
    "execution": {
     "iopub.execute_input": "2021-10-06T14:03:59.290331Z",
     "iopub.status.busy": "2021-10-06T14:03:59.289189Z",
     "iopub.status.idle": "2021-10-06T14:04:01.534889Z",
     "shell.execute_reply": "2021-10-06T14:04:01.535434Z",
     "shell.execute_reply.started": "2021-10-06T13:56:21.942087Z"
    },
    "papermill": {
     "duration": 2.259594,
     "end_time": "2021-10-06T14:04:01.535812",
     "exception": false,
     "start_time": "2021-10-06T14:03:59.276218",
     "status": "completed"
    },
    "tags": []
   },
   "outputs": [
    {
     "name": "stdout",
     "output_type": "stream",
     "text": [
      "Using Kaggle's public dataset BigQuery integration.\n"
     ]
    },
    {
     "name": "stderr",
     "output_type": "stream",
     "text": [
      "/opt/conda/lib/python3.7/site-packages/google/cloud/bigquery/client.py:440: UserWarning: Cannot create BigQuery Storage client, the dependency google-cloud-bigquery-storage is not installed.\n",
      "  \"Cannot create BigQuery Storage client, the dependency \"\n"
     ]
    },
    {
     "name": "stdout",
     "output_type": "stream",
     "text": [
      "Setup Complete\n"
     ]
    }
   ],
   "source": [
    "# Set up feedback system\n",
    "from learntools.core import binder\n",
    "binder.bind(globals())\n",
    "from learntools.sql.ex4 import *\n",
    "print(\"Setup Complete\")"
   ]
  },
  {
   "cell_type": "markdown",
   "id": "41d0def4",
   "metadata": {
    "papermill": {
     "duration": 0.010946,
     "end_time": "2021-10-06T14:04:01.558975",
     "exception": false,
     "start_time": "2021-10-06T14:04:01.548029",
     "status": "completed"
    },
    "tags": []
   },
   "source": [
    "The World Bank has made tons of interesting education data available through BigQuery. Run the following cell to see the first few rows of the `international_education` table from the `world_bank_intl_education` dataset."
   ]
  },
  {
   "cell_type": "code",
   "execution_count": 2,
   "id": "8691ec0e",
   "metadata": {
    "execution": {
     "iopub.execute_input": "2021-10-06T14:04:01.585319Z",
     "iopub.status.busy": "2021-10-06T14:04:01.584302Z",
     "iopub.status.idle": "2021-10-06T14:04:02.398224Z",
     "shell.execute_reply": "2021-10-06T14:04:02.397762Z",
     "shell.execute_reply.started": "2021-10-06T13:57:18.772106Z"
    },
    "papermill": {
     "duration": 0.828163,
     "end_time": "2021-10-06T14:04:02.398351",
     "exception": false,
     "start_time": "2021-10-06T14:04:01.570188",
     "status": "completed"
    },
    "tags": []
   },
   "outputs": [
    {
     "name": "stdout",
     "output_type": "stream",
     "text": [
      "Using Kaggle's public dataset BigQuery integration.\n"
     ]
    },
    {
     "name": "stderr",
     "output_type": "stream",
     "text": [
      "/opt/conda/lib/python3.7/site-packages/ipykernel_launcher.py:19: UserWarning: Cannot use bqstorage_client if max_results is set, reverting to fetching data with the tabledata.list endpoint.\n"
     ]
    },
    {
     "data": {
      "text/html": [
       "<div>\n",
       "<style scoped>\n",
       "    .dataframe tbody tr th:only-of-type {\n",
       "        vertical-align: middle;\n",
       "    }\n",
       "\n",
       "    .dataframe tbody tr th {\n",
       "        vertical-align: top;\n",
       "    }\n",
       "\n",
       "    .dataframe thead th {\n",
       "        text-align: right;\n",
       "    }\n",
       "</style>\n",
       "<table border=\"1\" class=\"dataframe\">\n",
       "  <thead>\n",
       "    <tr style=\"text-align: right;\">\n",
       "      <th></th>\n",
       "      <th>country_name</th>\n",
       "      <th>country_code</th>\n",
       "      <th>indicator_name</th>\n",
       "      <th>indicator_code</th>\n",
       "      <th>value</th>\n",
       "      <th>year</th>\n",
       "    </tr>\n",
       "  </thead>\n",
       "  <tbody>\n",
       "    <tr>\n",
       "      <th>0</th>\n",
       "      <td>Gabon</td>\n",
       "      <td>GAB</td>\n",
       "      <td>Population of the official age for post-second...</td>\n",
       "      <td>UIS.SAP.4.F</td>\n",
       "      <td>34212.0</td>\n",
       "      <td>2016</td>\n",
       "    </tr>\n",
       "    <tr>\n",
       "      <th>1</th>\n",
       "      <td>Gabon</td>\n",
       "      <td>GAB</td>\n",
       "      <td>Population of the official age for secondary e...</td>\n",
       "      <td>SP.SEC.TOTL.MA.IN</td>\n",
       "      <td>129765.0</td>\n",
       "      <td>2016</td>\n",
       "    </tr>\n",
       "    <tr>\n",
       "      <th>2</th>\n",
       "      <td>Georgia</td>\n",
       "      <td>GEO</td>\n",
       "      <td>Population of the official age for pre-primary...</td>\n",
       "      <td>SP.PRE.TOTL.FE.IN</td>\n",
       "      <td>74840.0</td>\n",
       "      <td>2016</td>\n",
       "    </tr>\n",
       "    <tr>\n",
       "      <th>3</th>\n",
       "      <td>Grenada</td>\n",
       "      <td>GRD</td>\n",
       "      <td>Population of the official age for lower secon...</td>\n",
       "      <td>SP.SEC.LTOT.MA.IN</td>\n",
       "      <td>2737.0</td>\n",
       "      <td>2016</td>\n",
       "    </tr>\n",
       "    <tr>\n",
       "      <th>4</th>\n",
       "      <td>Guam</td>\n",
       "      <td>GUM</td>\n",
       "      <td>Population, ages 0-14, female</td>\n",
       "      <td>SP.POP.0014.FE.IN</td>\n",
       "      <td>19882.0</td>\n",
       "      <td>2016</td>\n",
       "    </tr>\n",
       "  </tbody>\n",
       "</table>\n",
       "</div>"
      ],
      "text/plain": [
       "  country_name country_code  \\\n",
       "0        Gabon          GAB   \n",
       "1        Gabon          GAB   \n",
       "2      Georgia          GEO   \n",
       "3      Grenada          GRD   \n",
       "4         Guam          GUM   \n",
       "\n",
       "                                      indicator_name     indicator_code  \\\n",
       "0  Population of the official age for post-second...        UIS.SAP.4.F   \n",
       "1  Population of the official age for secondary e...  SP.SEC.TOTL.MA.IN   \n",
       "2  Population of the official age for pre-primary...  SP.PRE.TOTL.FE.IN   \n",
       "3  Population of the official age for lower secon...  SP.SEC.LTOT.MA.IN   \n",
       "4                      Population, ages 0-14, female  SP.POP.0014.FE.IN   \n",
       "\n",
       "      value  year  \n",
       "0   34212.0  2016  \n",
       "1  129765.0  2016  \n",
       "2   74840.0  2016  \n",
       "3    2737.0  2016  \n",
       "4   19882.0  2016  "
      ]
     },
     "execution_count": 2,
     "metadata": {},
     "output_type": "execute_result"
    }
   ],
   "source": [
    "from google.cloud import bigquery\n",
    "\n",
    "# Create a \"Client\" object\n",
    "client = bigquery.Client()\n",
    "\n",
    "# Construct a reference to the \"world_bank_intl_education\" dataset\n",
    "dataset_ref = client.dataset(\"world_bank_intl_education\", project=\"bigquery-public-data\")\n",
    "\n",
    "# API request - fetch the dataset\n",
    "dataset = client.get_dataset(dataset_ref)\n",
    "\n",
    "# Construct a reference to the \"international_education\" table\n",
    "table_ref = dataset_ref.table(\"international_education\")\n",
    "\n",
    "# API request - fetch the table\n",
    "table = client.get_table(table_ref)\n",
    "\n",
    "# Preview the first five lines of the \"international_education\" table\n",
    "client.list_rows(table, max_results=5).to_dataframe()"
   ]
  },
  {
   "cell_type": "markdown",
   "id": "619690e4",
   "metadata": {
    "papermill": {
     "duration": 0.011962,
     "end_time": "2021-10-06T14:04:02.422698",
     "exception": false,
     "start_time": "2021-10-06T14:04:02.410736",
     "status": "completed"
    },
    "tags": []
   },
   "source": [
    "# Exercises\n",
    "\n",
    "The value in the `indicator_code` column describes what type of data is shown in a given row.  \n",
    "\n",
    "One interesting indicator code is `SE.XPD.TOTL.GD.ZS`, which corresponds to \"Government expenditure on education as % of GDP (%)\".\n",
    "\n",
    "### 1) Government expenditure on education\n",
    "\n",
    "Which countries spend the largest fraction of GDP on education?  \n",
    "\n",
    "To answer this question, consider only the rows in the dataset corresponding to indicator code `SE.XPD.TOTL.GD.ZS`, and write a query that returns the average value in the `value` column for each country in the dataset between the years 2010-2017 (including 2010 and 2017 in the average). \n",
    "\n",
    "Requirements:\n",
    "- Your results should have the country name rather than the country code. You will have one row for each country.\n",
    "- The aggregate function for average is **AVG()**.  Use the name `avg_ed_spending_pct` for the column created by this aggregation.\n",
    "- Order the results so the countries that spend the largest fraction of GDP on education show up first.\n",
    "\n",
    "In case it's useful to see a sample query, here's a query you saw in the tutorial (using a different dataset):\n",
    "```\n",
    "# Query to find out the number of accidents for each day of the week\n",
    "query = \"\"\"\n",
    "        SELECT COUNT(consecutive_number) AS num_accidents, \n",
    "               EXTRACT(DAYOFWEEK FROM timestamp_of_crash) AS day_of_week\n",
    "        FROM `bigquery-public-data.nhtsa_traffic_fatalities.accident_2015`\n",
    "        GROUP BY day_of_week\n",
    "        ORDER BY num_accidents DESC\n",
    "        \"\"\"\n",
    "```"
   ]
  },
  {
   "cell_type": "code",
   "execution_count": 3,
   "id": "dd3afb0e",
   "metadata": {
    "execution": {
     "iopub.execute_input": "2021-10-06T14:04:02.456701Z",
     "iopub.status.busy": "2021-10-06T14:04:02.450550Z",
     "iopub.status.idle": "2021-10-06T14:04:03.360955Z",
     "shell.execute_reply": "2021-10-06T14:04:03.361444Z",
     "shell.execute_reply.started": "2021-10-06T14:00:08.588739Z"
    },
    "papermill": {
     "duration": 0.926694,
     "end_time": "2021-10-06T14:04:03.361609",
     "exception": false,
     "start_time": "2021-10-06T14:04:02.434915",
     "status": "completed"
    },
    "tags": []
   },
   "outputs": [
    {
     "name": "stderr",
     "output_type": "stream",
     "text": [
      "/opt/conda/lib/python3.7/site-packages/google/cloud/bigquery/client.py:440: UserWarning: Cannot create BigQuery Storage client, the dependency google-cloud-bigquery-storage is not installed.\n",
      "  \"Cannot create BigQuery Storage client, the dependency \"\n"
     ]
    },
    {
     "name": "stdout",
     "output_type": "stream",
     "text": [
      "            country_name  avg_ed_spending_pct\n",
      "0                   Cuba            12.837270\n",
      "1  Micronesia, Fed. Sts.            12.467750\n",
      "2        Solomon Islands            10.001080\n",
      "3                Moldova             8.372153\n",
      "4                Namibia             8.349610\n"
     ]
    },
    {
     "data": {
      "application/javascript": [
       "parent.postMessage({\"jupyterEvent\": \"custom.exercise_interaction\", \"data\": {\"outcomeType\": 1, \"valueTowardsCompletion\": 0.5, \"interactionType\": 1, \"questionType\": 2, \"questionId\": \"1_EducationSpending\", \"learnToolsVersion\": \"0.3.4\", \"failureMessage\": \"\", \"exceptionClass\": \"\", \"trace\": \"\"}}, \"*\")"
      ],
      "text/plain": [
       "<IPython.core.display.Javascript object>"
      ]
     },
     "metadata": {},
     "output_type": "display_data"
    },
    {
     "data": {
      "text/markdown": [
       "<span style=\"color:#33cc33\">Correct</span>"
      ],
      "text/plain": [
       "Correct"
      ]
     },
     "metadata": {},
     "output_type": "display_data"
    }
   ],
   "source": [
    "# Your code goes here\n",
    "country_spend_pct_query = \"\"\"\n",
    "                          SELECT country_name, AVG(value) AS avg_ed_spending_pct  \n",
    "                          FROM `bigquery-public-data.world_bank_intl_education.international_education`\n",
    "                          WHERE indicator_code = 'SE.XPD.TOTL.GD.ZS' AND (year >=2010 AND year<=2017)\n",
    "                          GROUP BY country_name\n",
    "                          ORDER BY avg_ed_spending_pct DESC\n",
    "                          \"\"\"\n",
    "\n",
    "# Set up the query (cancel the query if it would use too much of \n",
    "# your quota, with the limit set to 1 GB)\n",
    "safe_config = bigquery.QueryJobConfig(maximum_bytes_billed=10**10)\n",
    "country_spend_pct_query_job = client.query(country_spend_pct_query, job_config=safe_config)\n",
    "\n",
    "# API request - run the query, and return a pandas DataFrame\n",
    "country_spending_results = country_spend_pct_query_job.to_dataframe()\n",
    "\n",
    "# View top few rows of results\n",
    "print(country_spending_results.head())\n",
    "\n",
    "# Check your answer\n",
    "q_1.check()"
   ]
  },
  {
   "cell_type": "markdown",
   "id": "f71b5656",
   "metadata": {
    "papermill": {
     "duration": 0.013559,
     "end_time": "2021-10-06T14:04:03.388993",
     "exception": false,
     "start_time": "2021-10-06T14:04:03.375434",
     "status": "completed"
    },
    "tags": []
   },
   "source": [
    "For a hint or the solution, uncomment the appropriate line below."
   ]
  },
  {
   "cell_type": "code",
   "execution_count": 4,
   "id": "b85c13a3",
   "metadata": {
    "execution": {
     "iopub.execute_input": "2021-10-06T14:04:03.421357Z",
     "iopub.status.busy": "2021-10-06T14:04:03.420748Z",
     "iopub.status.idle": "2021-10-06T14:04:03.429590Z",
     "shell.execute_reply": "2021-10-06T14:04:03.428975Z"
    },
    "papermill": {
     "duration": 0.026857,
     "end_time": "2021-10-06T14:04:03.429768",
     "exception": false,
     "start_time": "2021-10-06T14:04:03.402911",
     "status": "completed"
    },
    "tags": []
   },
   "outputs": [
    {
     "data": {
      "application/javascript": [
       "parent.postMessage({\"jupyterEvent\": \"custom.exercise_interaction\", \"data\": {\"interactionType\": 2, \"questionType\": 2, \"questionId\": \"1_EducationSpending\", \"learnToolsVersion\": \"0.3.4\", \"valueTowardsCompletion\": 0.0, \"failureMessage\": \"\", \"exceptionClass\": \"\", \"trace\": \"\", \"outcomeType\": 4}}, \"*\")"
      ],
      "text/plain": [
       "<IPython.core.display.Javascript object>"
      ]
     },
     "metadata": {},
     "output_type": "display_data"
    },
    {
     "data": {
      "text/markdown": [
       "<span style=\"color:#3366cc\">Hint:</span> The part before `FROM` should be `SELECT country_name, AVG(value) AS avg_ed_spending_pct`."
      ],
      "text/plain": [
       "Hint: The part before `FROM` should be `SELECT country_name, AVG(value) AS avg_ed_spending_pct`."
      ]
     },
     "metadata": {},
     "output_type": "display_data"
    },
    {
     "data": {
      "application/javascript": [
       "parent.postMessage({\"jupyterEvent\": \"custom.exercise_interaction\", \"data\": {\"interactionType\": 3, \"questionType\": 2, \"questionId\": \"1_EducationSpending\", \"learnToolsVersion\": \"0.3.4\", \"valueTowardsCompletion\": 0.0, \"failureMessage\": \"\", \"exceptionClass\": \"\", \"trace\": \"\", \"outcomeType\": 4}}, \"*\")"
      ],
      "text/plain": [
       "<IPython.core.display.Javascript object>"
      ]
     },
     "metadata": {},
     "output_type": "display_data"
    },
    {
     "data": {
      "text/markdown": [
       "<span style=\"color:#33cc99\">Solution:</span> \n",
       "```python\n",
       "\n",
       "country_spend_pct_query = \"\"\"\n",
       "                          SELECT country_name, AVG(value) AS avg_ed_spending_pct\n",
       "                          FROM `bigquery-public-data.world_bank_intl_education.international_education`\n",
       "                          WHERE indicator_code = 'SE.XPD.TOTL.GD.ZS' and year >= 2010 and year <= 2017\n",
       "                          GROUP BY country_name\n",
       "                          ORDER BY avg_ed_spending_pct DESC\n",
       "                          \"\"\"\n",
       "\n",
       "\n",
       "```"
      ],
      "text/plain": [
       "Solution: \n",
       "```python\n",
       "\n",
       "country_spend_pct_query = \"\"\"\n",
       "                          SELECT country_name, AVG(value) AS avg_ed_spending_pct\n",
       "                          FROM `bigquery-public-data.world_bank_intl_education.international_education`\n",
       "                          WHERE indicator_code = 'SE.XPD.TOTL.GD.ZS' and year >= 2010 and year <= 2017\n",
       "                          GROUP BY country_name\n",
       "                          ORDER BY avg_ed_spending_pct DESC\n",
       "                          \"\"\"\n",
       "\n",
       "\n",
       "```"
      ]
     },
     "metadata": {},
     "output_type": "display_data"
    }
   ],
   "source": [
    "q_1.hint()\n",
    "q_1.solution()"
   ]
  },
  {
   "cell_type": "markdown",
   "id": "096cbb42",
   "metadata": {
    "papermill": {
     "duration": 0.015841,
     "end_time": "2021-10-06T14:04:03.462105",
     "exception": false,
     "start_time": "2021-10-06T14:04:03.446264",
     "status": "completed"
    },
    "tags": []
   },
   "source": [
    "### 2) Identify interesting codes to explore\n",
    "\n",
    "The last question started by telling you to focus on rows with the code `SE.XPD.TOTL.GD.ZS`. But how would you find more interesting indicator codes to explore?\n",
    "\n",
    "There are 1000s of codes in the dataset, so it would be time consuming to review them all. But many codes are available for only a few countries. When browsing the options for different codes, you might restrict yourself to codes that are reported by many countries.\n",
    "\n",
    "Write a query below that selects the indicator code and indicator name for all codes with at least 175 rows in the year 2016.\n",
    "\n",
    "Requirements:\n",
    "- You should have one row for each indicator code.\n",
    "- The columns in your results should be called `indicator_code`, `indicator_name`, and `num_rows`.\n",
    "- Only select codes with 175 or more rows in the raw database (exactly 175 rows would be included).\n",
    "- To get both the `indicator_code` and `indicator_name` in your resulting DataFrame, you need to include both in your **SELECT** statement (in addition to a **COUNT()** aggregation). This requires you to include both in your **GROUP BY** clause.\n",
    "- Order from results most frequent to least frequent."
   ]
  },
  {
   "cell_type": "code",
   "execution_count": 5,
   "id": "ff51146b",
   "metadata": {
    "execution": {
     "iopub.execute_input": "2021-10-06T14:04:03.502498Z",
     "iopub.status.busy": "2021-10-06T14:04:03.501824Z",
     "iopub.status.idle": "2021-10-06T14:04:04.390533Z",
     "shell.execute_reply": "2021-10-06T14:04:04.391065Z",
     "shell.execute_reply.started": "2021-10-06T14:03:17.594544Z"
    },
    "papermill": {
     "duration": 0.912881,
     "end_time": "2021-10-06T14:04:04.391225",
     "exception": false,
     "start_time": "2021-10-06T14:04:03.478344",
     "status": "completed"
    },
    "tags": []
   },
   "outputs": [
    {
     "name": "stderr",
     "output_type": "stream",
     "text": [
      "/opt/conda/lib/python3.7/site-packages/google/cloud/bigquery/client.py:440: UserWarning: Cannot create BigQuery Storage client, the dependency google-cloud-bigquery-storage is not installed.\n",
      "  \"Cannot create BigQuery Storage client, the dependency \"\n"
     ]
    },
    {
     "name": "stdout",
     "output_type": "stream",
     "text": [
      "      indicator_code                   indicator_name  num_rows\n",
      "0        SP.POP.TOTL                Population, total       232\n",
      "1        SP.POP.GROW     Population growth (annual %)       232\n",
      "2     IT.NET.USER.P2  Internet users (per 100 people)       223\n",
      "3  SP.POP.0014.FE.IN    Population, ages 0-14, female       213\n",
      "4     SP.POP.0014.TO     Population, ages 0-14, total       213\n"
     ]
    },
    {
     "data": {
      "application/javascript": [
       "parent.postMessage({\"jupyterEvent\": \"custom.exercise_interaction\", \"data\": {\"outcomeType\": 1, \"valueTowardsCompletion\": 0.5, \"interactionType\": 1, \"questionType\": 2, \"questionId\": \"2_FindInterestingCodes\", \"learnToolsVersion\": \"0.3.4\", \"failureMessage\": \"\", \"exceptionClass\": \"\", \"trace\": \"\"}}, \"*\")"
      ],
      "text/plain": [
       "<IPython.core.display.Javascript object>"
      ]
     },
     "metadata": {},
     "output_type": "display_data"
    },
    {
     "data": {
      "text/markdown": [
       "<span style=\"color:#33cc33\">Correct</span>"
      ],
      "text/plain": [
       "Correct"
      ]
     },
     "metadata": {},
     "output_type": "display_data"
    }
   ],
   "source": [
    "# Your code goes here\n",
    "code_count_query = \"\"\"\n",
    "                    SELECT indicator_code,indicator_name, COUNT(1) AS num_rows\n",
    "                    FROM `bigquery-public-data.world_bank_intl_education.international_education`\n",
    "                    WHERE year = 2016 \n",
    "                    GROUP BY indicator_code,indicator_name\n",
    "                    HAVING num_rows >= 175\n",
    "                    ORDER BY num_rows DESC \n",
    "                    \"\"\"\n",
    "\n",
    "# Set up the query\n",
    "safe_config = bigquery.QueryJobConfig(maximum_bytes_billed=10**10)\n",
    "code_count_query_job = client.query(code_count_query, job_config=safe_config)\n",
    "\n",
    "# API request - run the query, and return a pandas DataFrame\n",
    "code_count_results = code_count_query_job.to_dataframe()\n",
    "\n",
    "# View top few rows of results\n",
    "print(code_count_results.head())\n",
    "\n",
    "# Check your answer\n",
    "q_2.check()"
   ]
  },
  {
   "cell_type": "markdown",
   "id": "d3e270a6",
   "metadata": {
    "papermill": {
     "duration": 0.018238,
     "end_time": "2021-10-06T14:04:04.428013",
     "exception": false,
     "start_time": "2021-10-06T14:04:04.409775",
     "status": "completed"
    },
    "tags": []
   },
   "source": [
    "For a hint or the solution, uncomment the appropriate line below."
   ]
  },
  {
   "cell_type": "code",
   "execution_count": 6,
   "id": "282918bf",
   "metadata": {
    "execution": {
     "iopub.execute_input": "2021-10-06T14:04:04.467876Z",
     "iopub.status.busy": "2021-10-06T14:04:04.467280Z",
     "iopub.status.idle": "2021-10-06T14:04:04.475015Z",
     "shell.execute_reply": "2021-10-06T14:04:04.474500Z"
    },
    "papermill": {
     "duration": 0.029597,
     "end_time": "2021-10-06T14:04:04.475150",
     "exception": false,
     "start_time": "2021-10-06T14:04:04.445553",
     "status": "completed"
    },
    "tags": []
   },
   "outputs": [
    {
     "data": {
      "application/javascript": [
       "parent.postMessage({\"jupyterEvent\": \"custom.exercise_interaction\", \"data\": {\"interactionType\": 2, \"questionType\": 2, \"questionId\": \"2_FindInterestingCodes\", \"learnToolsVersion\": \"0.3.4\", \"valueTowardsCompletion\": 0.0, \"failureMessage\": \"\", \"exceptionClass\": \"\", \"trace\": \"\", \"outcomeType\": 4}}, \"*\")"
      ],
      "text/plain": [
       "<IPython.core.display.Javascript object>"
      ]
     },
     "metadata": {},
     "output_type": "display_data"
    },
    {
     "data": {
      "text/markdown": [
       "<span style=\"color:#3366cc\">Hint:</span> The part before `FROM` is `SELECT indicator_code, indicator_name, COUNT(1) AS num_rows`."
      ],
      "text/plain": [
       "Hint: The part before `FROM` is `SELECT indicator_code, indicator_name, COUNT(1) AS num_rows`."
      ]
     },
     "metadata": {},
     "output_type": "display_data"
    },
    {
     "data": {
      "application/javascript": [
       "parent.postMessage({\"jupyterEvent\": \"custom.exercise_interaction\", \"data\": {\"interactionType\": 3, \"questionType\": 2, \"questionId\": \"2_FindInterestingCodes\", \"learnToolsVersion\": \"0.3.4\", \"valueTowardsCompletion\": 0.0, \"failureMessage\": \"\", \"exceptionClass\": \"\", \"trace\": \"\", \"outcomeType\": 4}}, \"*\")"
      ],
      "text/plain": [
       "<IPython.core.display.Javascript object>"
      ]
     },
     "metadata": {},
     "output_type": "display_data"
    },
    {
     "data": {
      "text/markdown": [
       "<span style=\"color:#33cc99\">Solution:</span> \n",
       "```python\n",
       "\n",
       "code_count_query = \"\"\"\n",
       "                   SELECT indicator_code, indicator_name, COUNT(1) AS num_rows\n",
       "                   FROM `bigquery-public-data.world_bank_intl_education.international_education`\n",
       "                   WHERE year = 2016\n",
       "                   GROUP BY indicator_name, indicator_code\n",
       "                   HAVING COUNT(1) >= 175\n",
       "                   ORDER BY COUNT(1) DESC\n",
       "                   \"\"\"\n",
       "\n",
       "```"
      ],
      "text/plain": [
       "Solution: \n",
       "```python\n",
       "\n",
       "code_count_query = \"\"\"\n",
       "                   SELECT indicator_code, indicator_name, COUNT(1) AS num_rows\n",
       "                   FROM `bigquery-public-data.world_bank_intl_education.international_education`\n",
       "                   WHERE year = 2016\n",
       "                   GROUP BY indicator_name, indicator_code\n",
       "                   HAVING COUNT(1) >= 175\n",
       "                   ORDER BY COUNT(1) DESC\n",
       "                   \"\"\"\n",
       "\n",
       "```"
      ]
     },
     "metadata": {},
     "output_type": "display_data"
    }
   ],
   "source": [
    "q_2.hint()\n",
    "q_2.solution()"
   ]
  },
  {
   "cell_type": "markdown",
   "id": "074ed1cf",
   "metadata": {
    "papermill": {
     "duration": 0.018948,
     "end_time": "2021-10-06T14:04:04.513155",
     "exception": false,
     "start_time": "2021-10-06T14:04:04.494207",
     "status": "completed"
    },
    "tags": []
   },
   "source": [
    "# Keep Going\n",
    "**[Click here](https://www.kaggle.com/dansbecker/as-with)** to learn how to use **AS** and **WITH** to clean up your code and help you construct more complex queries."
   ]
  },
  {
   "cell_type": "markdown",
   "id": "4deaa59c",
   "metadata": {
    "papermill": {
     "duration": 0.01907,
     "end_time": "2021-10-06T14:04:04.551250",
     "exception": false,
     "start_time": "2021-10-06T14:04:04.532180",
     "status": "completed"
    },
    "tags": []
   },
   "source": [
    "---\n",
    "**[SQL Home Page](https://www.kaggle.com/learn/intro-to-sql)**\n",
    "\n",
    "\n",
    "\n",
    "\n",
    "\n",
    "*Have questions or comments? Visit the [Learn Discussion forum](https://www.kaggle.com/learn-forum/161314) to chat with other Learners.*"
   ]
  }
 ],
 "metadata": {
  "kernelspec": {
   "display_name": "Python 3",
   "language": "python",
   "name": "python3"
  },
  "language_info": {
   "codemirror_mode": {
    "name": "ipython",
    "version": 3
   },
   "file_extension": ".py",
   "mimetype": "text/x-python",
   "name": "python",
   "nbconvert_exporter": "python",
   "pygments_lexer": "ipython3",
   "version": "3.7.10"
  },
  "papermill": {
   "default_parameters": {},
   "duration": 13.721571,
   "end_time": "2021-10-06T14:04:05.078598",
   "environment_variables": {},
   "exception": null,
   "input_path": "__notebook__.ipynb",
   "output_path": "__notebook__.ipynb",
   "parameters": {},
   "start_time": "2021-10-06T14:03:51.357027",
   "version": "2.3.3"
  }
 },
 "nbformat": 4,
 "nbformat_minor": 5
}
