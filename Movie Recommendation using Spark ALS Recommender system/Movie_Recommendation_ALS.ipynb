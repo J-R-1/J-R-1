{
  "nbformat": 4,
  "nbformat_minor": 0,
  "metadata": {
    "colab": {
      "name": "Movie_Recommendation_ALS.ipynb",
      "provenance": [],
      "collapsed_sections": []
    },
    "kernelspec": {
      "name": "python3",
      "display_name": "Python 3"
    },
    "language_info": {
      "name": "python"
    }
  },
  "cells": [
    {
      "cell_type": "markdown",
      "metadata": {
        "id": "EqXT7gc0kl4c"
      },
      "source": [
        "# **Movie Recommendation using Spark ALS Recommender system**"
      ]
    },
    {
      "cell_type": "code",
      "metadata": {
        "id": "xJ99FOzQA7OV"
      },
      "source": [
        "!apt-get install openjdk-8-jdk-headless -qq > /dev/null\n",
        "#!wget -q https://www-us.apache.org/dist/spark/spark-3.1.2/spark-3.1.2-bin-hadoop3.2.tgz\n",
        "!wget -q https://archive.apache.org/dist/spark/spark-3.1.2/spark-3.1.2-bin-hadoop3.2.tgz\n",
        "!tar xf spark-3.1.2-bin-hadoop3.2.tgz\n",
        "!pip install -q findspark"
      ],
      "execution_count": null,
      "outputs": []
    },
    {
      "cell_type": "code",
      "metadata": {
        "id": "xceyLL-TBuSF"
      },
      "source": [
        "import os\n",
        "os.environ[\"JAVA_HOME\"] = \"/usr/lib/jvm/java-8-openjdk-amd64\"\n",
        "os.environ[\"SPARK_HOME\"] = \"/content/spark-3.1.2-bin-hadoop3.2\""
      ],
      "execution_count": null,
      "outputs": []
    },
    {
      "cell_type": "code",
      "metadata": {
        "id": "M0eS4t86BuUx"
      },
      "source": [
        "import findspark\n",
        "findspark.init()"
      ],
      "execution_count": null,
      "outputs": []
    },
    {
      "cell_type": "code",
      "metadata": {
        "id": "Q24aKhSFBuYE",
        "colab": {
          "base_uri": "https://localhost:8080/",
          "height": 35
        },
        "outputId": "c53ab1e7-b274-44d4-9462-1bf41dfa86bb"
      },
      "source": [
        "findspark.find()"
      ],
      "execution_count": null,
      "outputs": [
        {
          "output_type": "execute_result",
          "data": {
            "application/vnd.google.colaboratory.intrinsic+json": {
              "type": "string"
            },
            "text/plain": [
              "'/content/spark-3.1.2-bin-hadoop3.2'"
            ]
          },
          "metadata": {},
          "execution_count": 4
        }
      ]
    },
    {
      "cell_type": "code",
      "metadata": {
        "id": "PmzTv_txBu0M"
      },
      "source": [
        "from pyspark.sql import SparkSession\n",
        "from pyspark.sql import functions as func\n",
        "from pyspark.sql.functions import col, avg, explode, lit, split\n",
        "from pyspark.sql.types import StructType, StructField, StringType, IntegerType, LongType\n",
        "from pyspark.ml.recommendation import ALS\n",
        "from pyspark.ml.evaluation import RegressionEvaluator\n",
        "from pyspark.ml.tuning import CrossValidator, ParamGridBuilder\n",
        "\n",
        "import matplotlib.pyplot as plt\n",
        "import pandas as pd"
      ],
      "execution_count": null,
      "outputs": []
    },
    {
      "cell_type": "code",
      "metadata": {
        "id": "UZuLTLuVC6gN",
        "colab": {
          "base_uri": "https://localhost:8080/",
          "height": 216
        },
        "outputId": "a1a6c4a5-7557-43e8-e911-d33e06a82ac8"
      },
      "source": [
        "spark = SparkSession.builder.master(\"local[*]\").getOrCreate()\n",
        "spark"
      ],
      "execution_count": null,
      "outputs": [
        {
          "output_type": "execute_result",
          "data": {
            "text/html": [
              "\n",
              "            <div>\n",
              "                <p><b>SparkSession - in-memory</b></p>\n",
              "                \n",
              "        <div>\n",
              "            <p><b>SparkContext</b></p>\n",
              "\n",
              "            <p><a href=\"http://dd471c5d4f51:4040\">Spark UI</a></p>\n",
              "\n",
              "            <dl>\n",
              "              <dt>Version</dt>\n",
              "                <dd><code>v3.1.2</code></dd>\n",
              "              <dt>Master</dt>\n",
              "                <dd><code>local[*]</code></dd>\n",
              "              <dt>AppName</dt>\n",
              "                <dd><code>pyspark-shell</code></dd>\n",
              "            </dl>\n",
              "        </div>\n",
              "        \n",
              "            </div>\n",
              "        "
            ],
            "text/plain": [
              "<pyspark.sql.session.SparkSession at 0x7ff31bca7bd0>"
            ]
          },
          "metadata": {},
          "execution_count": 6
        }
      ]
    },
    {
      "cell_type": "markdown",
      "metadata": {
        "id": "dCU086j2mX2z"
      },
      "source": [
        "### Downloading One Million Movielens datasets from grouplens.org\n"
      ]
    },
    {
      "cell_type": "code",
      "metadata": {
        "id": "dtUbl3VXC6xW",
        "colab": {
          "base_uri": "https://localhost:8080/"
        },
        "outputId": "121962f2-0e73-4b31-e6d2-37fbd54c9d36"
      },
      "source": [
        "!wget -P /content/drive/MyDrive/Moviedataset https://files.grouplens.org/datasets/movielens/ml-1m.zip"
      ],
      "execution_count": null,
      "outputs": [
        {
          "output_type": "stream",
          "name": "stdout",
          "text": [
            "--2021-09-14 18:22:34--  https://files.grouplens.org/datasets/movielens/ml-1m.zip\n",
            "Resolving files.grouplens.org (files.grouplens.org)... 128.101.65.152\n",
            "Connecting to files.grouplens.org (files.grouplens.org)|128.101.65.152|:443... connected.\n",
            "HTTP request sent, awaiting response... 200 OK\n",
            "Length: 5917549 (5.6M) [application/zip]\n",
            "Saving to: ‘/content/drive/MyDrive/Moviedataset/ml-1m.zip.38’\n",
            "\n",
            "ml-1m.zip.38        100%[===================>]   5.64M  11.6MB/s    in 0.5s    \n",
            "\n",
            "2021-09-14 18:22:35 (11.6 MB/s) - ‘/content/drive/MyDrive/Moviedataset/ml-1m.zip.38’ saved [5917549/5917549]\n",
            "\n"
          ]
        }
      ]
    },
    {
      "cell_type": "code",
      "metadata": {
        "id": "ctAvYPV0OLgS",
        "colab": {
          "base_uri": "https://localhost:8080/"
        },
        "outputId": "9f6e6740-5d1b-4b7f-cfca-0698c8afe898"
      },
      "source": [
        "!unzip /content/drive/MyDrive/Moviedataset/ml-1m.zip"
      ],
      "execution_count": null,
      "outputs": [
        {
          "output_type": "stream",
          "name": "stdout",
          "text": [
            "Archive:  /content/drive/MyDrive/Moviedataset/ml-1m.zip\n",
            "   creating: ml-1m/\n",
            "  inflating: ml-1m/movies.dat        \n",
            "  inflating: ml-1m/ratings.dat       \n",
            "  inflating: ml-1m/README            \n",
            "  inflating: ml-1m/users.dat         \n"
          ]
        }
      ]
    },
    {
      "cell_type": "markdown",
      "metadata": {
        "id": "QSfTYZ5wn9BY"
      },
      "source": [
        "#### Lets take a quick glance at the contens of the 'ratings.dat' file"
      ]
    },
    {
      "cell_type": "code",
      "metadata": {
        "id": "MIFqvhZYJfXg",
        "colab": {
          "base_uri": "https://localhost:8080/"
        },
        "outputId": "843c8172-8f3d-4fe9-9d62-9af886e22b95"
      },
      "source": [
        "## Lets look at the contents of the 'ratings' file\n",
        "\n",
        "sc = spark.sparkContext\n",
        "raw_ratings = sc.textFile('/content/ml-1m/ratings.dat')\n",
        "lines_ratings = raw_ratings.takeSample(False, 10, 0)\n",
        "\n",
        "for line in lines_ratings:\n",
        "  print(line)"
      ],
      "execution_count": null,
      "outputs": [
        {
          "output_type": "stream",
          "name": "stdout",
          "text": [
            "5485::912::5::959833835\n",
            "2190::2700::4::974606999\n",
            "5193::1959::3::961701959\n",
            "42::2140::3::978040305\n",
            "5580::419::3::996164651\n",
            "3367::926::5::970080990\n",
            "2539::1036::4::974045750\n",
            "1422::3368::3::976139738\n",
            "3232::2607::4::968384802\n",
            "3389::1732::3::967513393\n"
          ]
        }
      ]
    },
    {
      "cell_type": "markdown",
      "metadata": {
        "id": "VIdCDMMro4LS"
      },
      "source": [
        "####  The 'ratings' file follows the 'userId::movieId::ratings::timeStamp' format. Lets convert the 'ratings' file into a DataFrame using Spark DataFrame API."
      ]
    },
    {
      "cell_type": "code",
      "metadata": {
        "id": "SYo1kLpKJfbD"
      },
      "source": [
        "ratingSchema = StructType([\\\n",
        "                           StructField('userId', IntegerType(), True), \\\n",
        "                           StructField('movieId', IntegerType(), True), \\\n",
        "                           StructField('ratings', IntegerType(), True), \\\n",
        "                           StructField('timeStamp', LongType(), True)])                      \n",
        "                           \n",
        "ratings = spark.read.option('sep','::').schema(ratingSchema).csv('/content/ml-1m/ratings.dat')               \n"
      ],
      "execution_count": null,
      "outputs": []
    },
    {
      "cell_type": "code",
      "metadata": {
        "id": "u3gjLXg6g5my",
        "colab": {
          "base_uri": "https://localhost:8080/"
        },
        "outputId": "2f4fe134-1c89-4109-85bc-2f3e620bf174"
      },
      "source": [
        "##lets create the 'ratings' DataFrame by choosing only 'userId', 'movieId', 'ratings' columns.\n",
        "\n",
        "ratingsDF = ratings.select('userId', 'movieId', 'ratings').cache()\n",
        "ratingsDF.sample(False, 0.0001, 0).show(10)"
      ],
      "execution_count": null,
      "outputs": [
        {
          "output_type": "stream",
          "name": "stdout",
          "text": [
            "+------+-------+-------+\n",
            "|userId|movieId|ratings|\n",
            "+------+-------+-------+\n",
            "|    58|   2580|      4|\n",
            "|   136|    235|      5|\n",
            "|   187|    246|      5|\n",
            "|   329|    832|      2|\n",
            "|   368|   1370|      3|\n",
            "|   629|   1013|      4|\n",
            "|   660|   2409|      2|\n",
            "|   662|     19|      3|\n",
            "|   690|   1370|      5|\n",
            "|   852|    480|      3|\n",
            "+------+-------+-------+\n",
            "only showing top 10 rows\n",
            "\n"
          ]
        }
      ]
    },
    {
      "cell_type": "code",
      "metadata": {
        "id": "UjT7F3jvh3V7",
        "colab": {
          "base_uri": "https://localhost:8080/"
        },
        "outputId": "fde944b3-a9fd-4df6-846a-b3f7a415b5c8"
      },
      "source": [
        "## lets also check the schema that we created for the ratingsDF\n",
        "\n",
        "ratingsDF.printSchema()"
      ],
      "execution_count": null,
      "outputs": [
        {
          "output_type": "stream",
          "name": "stdout",
          "text": [
            "root\n",
            " |-- userId: integer (nullable = true)\n",
            " |-- movieId: integer (nullable = true)\n",
            " |-- ratings: integer (nullable = true)\n",
            "\n"
          ]
        }
      ]
    },
    {
      "cell_type": "markdown",
      "metadata": {
        "id": "j52NZn9JqSob"
      },
      "source": [
        "#### Lets quickly go through the 'ratingsDF' dataFrame"
      ]
    },
    {
      "cell_type": "code",
      "metadata": {
        "id": "x9mxOnlAh3YL",
        "colab": {
          "base_uri": "https://localhost:8080/"
        },
        "outputId": "67d94661-8933-4f5d-c3c0-2afdcf27a89f"
      },
      "source": [
        "## Number of rows in the ratingsDF dataframe\n",
        "\n",
        "total_rows = ratingsDF.count()\n",
        "\n",
        "print(\"Number of rows in the ratingsDF: \", total_rows)"
      ],
      "execution_count": null,
      "outputs": [
        {
          "output_type": "stream",
          "name": "stdout",
          "text": [
            "Number of rows in the ratingsDF:  1000209\n"
          ]
        }
      ]
    },
    {
      "cell_type": "code",
      "metadata": {
        "colab": {
          "base_uri": "https://localhost:8080/"
        },
        "id": "WsnTn60WmS78",
        "outputId": "5a97c86d-c0e0-403c-f200-0baff8130c30"
      },
      "source": [
        "## Basic statistics like count, min, max, etc.. from the ratings dataset by running the describe() method..\n",
        "\n",
        "ratingsDF.describe().show()"
      ],
      "execution_count": null,
      "outputs": [
        {
          "output_type": "stream",
          "name": "stdout",
          "text": [
            "+-------+------------------+------------------+------------------+\n",
            "|summary|            userId|           movieId|           ratings|\n",
            "+-------+------------------+------------------+------------------+\n",
            "|  count|           1000209|           1000209|           1000209|\n",
            "|   mean| 3024.512347919285|1865.5398981612843| 3.581564453029317|\n",
            "| stddev|1728.4126948999626|1096.0406894572563|1.1171018453732653|\n",
            "|    min|                 1|                 1|                 1|\n",
            "|    max|              6040|              3952|                 5|\n",
            "+-------+------------------+------------------+------------------+\n",
            "\n"
          ]
        }
      ]
    },
    {
      "cell_type": "code",
      "metadata": {
        "colab": {
          "base_uri": "https://localhost:8080/"
        },
        "id": "R9zO5gEbnFDJ",
        "outputId": "f4fee5a8-3013-4e12-ae14-cb17c2eb0740"
      },
      "source": [
        "## Number of distinct users and movies from the ratings dataframe..\n",
        "\n",
        "distinct_users = ratingsDF.select(\"userId\").distinct().count()\n",
        "distinct_movies = ratingsDF.select(\"movieId\").distinct().count()\n",
        "\n",
        "print(\"Number of distinct users from the ratings dataset : \", distinct_users)\n",
        "print(\"Number of distinct movies from the ratings dataset : \", distinct_movies)"
      ],
      "execution_count": null,
      "outputs": [
        {
          "output_type": "stream",
          "name": "stdout",
          "text": [
            "Number of distinct users from the ratings dataset :  6040\n",
            "Number of distinct movies from the ratings dataset :  3706\n"
          ]
        }
      ]
    },
    {
      "cell_type": "code",
      "metadata": {
        "id": "VIsysO-9h3bV",
        "colab": {
          "base_uri": "https://localhost:8080/"
        },
        "outputId": "3c0615c1-5a2b-4b3c-a18a-050aae12f27a"
      },
      "source": [
        "## sample of the Number of ratings per user\n",
        "\n",
        "user_ratings = ratingsDF.groupBy(\"userId\").count().withColumnRenamed('count', 'Total number of ratings')\n",
        "user_ratings.show(10)"
      ],
      "execution_count": null,
      "outputs": [
        {
          "output_type": "stream",
          "name": "stdout",
          "text": [
            "+------+-----------------------+\n",
            "|userId|Total number of ratings|\n",
            "+------+-----------------------+\n",
            "|   148|                    624|\n",
            "|   463|                    123|\n",
            "|   471|                    105|\n",
            "|   496|                    119|\n",
            "|   833|                     21|\n",
            "|  1088|                   1176|\n",
            "|  1238|                     45|\n",
            "|  1342|                     92|\n",
            "|  1580|                     37|\n",
            "|  1591|                    314|\n",
            "+------+-----------------------+\n",
            "only showing top 10 rows\n",
            "\n"
          ]
        }
      ]
    },
    {
      "cell_type": "code",
      "metadata": {
        "id": "qT9SGlP2vZRO"
      },
      "source": [
        "## function to calculate Sparsity of the ratingsDF \n",
        "\n",
        "def get_sparsity(ratingsDF):\n",
        "  entries_ratingsDF = distinct_users * distinct_movies\n",
        "\n",
        "  # to get sparsity, divide the Total number of rows by actual entries in the ratingsDf\n",
        "  sparsity = (1.0 - (total_rows*1.0) / entries_ratingsDF) * 100.0\n",
        "  \n",
        "  print(\"The ratingsDF is %.2f \" %sparsity+\"% empty\")\n"
      ],
      "execution_count": null,
      "outputs": []
    },
    {
      "cell_type": "code",
      "metadata": {
        "id": "l20KMfuM0d1a",
        "colab": {
          "base_uri": "https://localhost:8080/"
        },
        "outputId": "daeb58f7-cee5-43c5-abf9-084513829105"
      },
      "source": [
        "## Lets check the Sparsity of the ratings dataframe\n",
        "\n",
        "get_sparsity(ratingsDF)"
      ],
      "execution_count": null,
      "outputs": [
        {
          "output_type": "stream",
          "name": "stdout",
          "text": [
            "The ratingsDF is 95.53 % empty\n"
          ]
        }
      ]
    },
    {
      "cell_type": "markdown",
      "metadata": {
        "id": "fmvpA2w0uEdR"
      },
      "source": [
        "#### lets load the 'Movies' data file and look at its contents(sample)"
      ]
    },
    {
      "cell_type": "code",
      "metadata": {
        "id": "vuqt4_Y6PSgn",
        "colab": {
          "base_uri": "https://localhost:8080/"
        },
        "outputId": "3aafc311-fae3-4da2-9991-cda39b7a5dbe"
      },
      "source": [
        "movies_raw = sc.textFile('/content/ml-1m/movies.dat')\n",
        "lines_movies = movies_raw.takeSample(False, 10, 0)\n",
        "\n",
        "for line in lines_movies:\n",
        "  print(line)"
      ],
      "execution_count": null,
      "outputs": [
        {
          "output_type": "stream",
          "name": "stdout",
          "text": [
            "258::Kid in King Arthur's Court, A (1995)::Adventure|Children's|Comedy|Fantasy|Romance\n",
            "576::Fausto (1993)::Comedy\n",
            "2914::Molly (1999)::Comedy|Drama\n",
            "1579::For Ever Mozart (1996)::Drama\n",
            "1571::When the Cats Away (Chacun cherche son chat) (1996)::Comedy|Romance\n",
            "395::Desert Winds (1995)::Drama\n",
            "30::Shanghai Triad (Yao a yao yao dao waipo qiao) (1995)::Drama\n",
            "721::Halfmoon (Paul Bowles - Halbmond) (1995)::Drama\n",
            "1099::Christmas Carol, A (1938)::Drama\n",
            "2796::Funny Farm (1988)::Comedy\n"
          ]
        }
      ]
    },
    {
      "cell_type": "markdown",
      "metadata": {
        "id": "QVj2xvbxu_wx"
      },
      "source": [
        "#### Movies datafile follows the 'movieId', 'movieName', 'Genres' format. lets construct a schema to convert this movies datafile into a Spark dataFrame. \n",
        " "
      ]
    },
    {
      "cell_type": "code",
      "metadata": {
        "id": "-8JJcFJBPSjQ",
        "colab": {
          "base_uri": "https://localhost:8080/"
        },
        "outputId": "4f76ec5b-d1fb-4363-d8c7-46c9c98c3db0"
      },
      "source": [
        "movieNameSchema = StructType([\\\n",
        "                              StructField(\"movieId\", IntegerType(), True),\\\n",
        "                              StructField('movieName', StringType(), True), \\\n",
        "                              StructField(\"genres\", StringType(), True)])\n",
        "                          \n",
        "movieNames = spark.read.option('sep', '::').schema(movieNameSchema).csv('/content/ml-1m/movies.dat')\n",
        "\n",
        "movieNamesDF = movieNames.cache()\n",
        "\n",
        "## showing the sample of 10 movies from the 'movieNames' DataFrame\n",
        "movieNamesDF.sample(False, 0.01, 0).show(truncate=False)\n"
      ],
      "execution_count": null,
      "outputs": [
        {
          "output_type": "stream",
          "name": "stdout",
          "text": [
            "+-------+--------------------------------------+-------------------------------+\n",
            "|movieId|movieName                             |genres                         |\n",
            "+-------+--------------------------------------+-------------------------------+\n",
            "|10     |GoldenEye (1995)                      |Action|Adventure|Thriller      |\n",
            "|172    |Johnny Mnemonic (1995)                |Action|Sci-Fi|Thriller         |\n",
            "|254    |Jefferson in Paris (1995)             |Drama                          |\n",
            "|413    |Airheads (1994)                       |Comedy                         |\n",
            "|425    |Blue Sky (1994)                       |Drama|Romance                  |\n",
            "|505    |North (1994)                          |Comedy                         |\n",
            "|730    |Low Life, The (1994)                  |Drama                          |\n",
            "|759    |Maya Lin: A Strong Clear Vision (1994)|Documentary                    |\n",
            "|781    |Stealing Beauty (1996)                |Drama                          |\n",
            "|839    |Crow: City of Angels, The (1996)      |Action|Thriller                |\n",
            "|1197   |Princess Bride, The (1987)            |Action|Adventure|Comedy|Romance|\n",
            "|1269   |Arsenic and Old Lace (1944)           |Comedy|Mystery|Thriller        |\n",
            "|1524   |Turning, The (1992)                   |Drama                          |\n",
            "|1622   |Kicked in the Head (1997)             |Comedy|Drama                   |\n",
            "|1626   |Fire Down Below (1997)                |Action|Drama|Thriller          |\n",
            "|1670   |Welcome To Sarajevo (1997)            |Drama|War                      |\n",
            "|1762   |Deep Rising (1998)                    |Action|Horror|Sci-Fi           |\n",
            "|1913   |Picnic at Hanging Rock (1975)         |Drama|Mystery                  |\n",
            "|2331   |Living Out Loud (1998)                |Comedy|Romance                 |\n",
            "|2654   |Wolf Man, The (1941)                  |Horror                         |\n",
            "+-------+--------------------------------------+-------------------------------+\n",
            "only showing top 20 rows\n",
            "\n"
          ]
        }
      ]
    },
    {
      "cell_type": "code",
      "metadata": {
        "id": "bAvZUQhoPSlB",
        "colab": {
          "base_uri": "https://localhost:8080/"
        },
        "outputId": "ee996f7f-8f26-4cad-a441-66da2de85bab"
      },
      "source": [
        "## Number of entries in the movies dataframe..\n",
        "\n",
        "print(\"Number of movies in the movieNamesDF: \", movieNamesDF.count())"
      ],
      "execution_count": null,
      "outputs": [
        {
          "output_type": "stream",
          "name": "stdout",
          "text": [
            "Number of movies in the movieNamesDF:  3883\n"
          ]
        }
      ]
    },
    {
      "cell_type": "markdown",
      "metadata": {
        "id": "0NH3rKACwyGr"
      },
      "source": [
        "#### lets take a look at the 'Users' data file and sample its contents"
      ]
    },
    {
      "cell_type": "code",
      "metadata": {
        "colab": {
          "base_uri": "https://localhost:8080/"
        },
        "id": "leQauVbUib7P",
        "outputId": "f48b11d5-ee3b-4e9b-f660-0dfc7591233e"
      },
      "source": [
        "raw_users = sc.textFile('/content/ml-1m/users.dat')\n",
        "lines_users = raw_users.takeSample(False, 10, 0)\n",
        "\n",
        "for line in lines_users:\n",
        "  print(line)"
      ],
      "execution_count": null,
      "outputs": [
        {
          "output_type": "stream",
          "name": "stdout",
          "text": [
            "392::M::18::7::20037\n",
            "1368::F::25::3::50266\n",
            "2313::F::50::6::48103-4711\n",
            "2163::M::18::0::87122\n",
            "713::M::35::7::79912\n",
            "30::F::35::7::19143\n",
            "983::F::25::16::99224\n",
            "6027::M::18::4::20742\n",
            "3940::M::35::20::32708\n",
            "1590::M::35::1::95003\n"
          ]
        }
      ]
    },
    {
      "cell_type": "markdown",
      "metadata": {
        "id": "5YQnI_klxPgG"
      },
      "source": [
        "#### User data file is in UserID::Gender::Age::Occupation::Zip-code format according to the README.txt provided by the 'grouplens.org'.\n",
        "#### Lets create a schema to change the Users file to a spark dataFrame."
      ]
    },
    {
      "cell_type": "code",
      "metadata": {
        "colab": {
          "base_uri": "https://localhost:8080/"
        },
        "id": "799SDdNRib-G",
        "outputId": "6de65f75-15f7-4492-f8af-9be3fefba32a"
      },
      "source": [
        "UserSchema = StructType([\\\n",
        "                         StructField('userId', IntegerType(), True),\\\n",
        "                         StructField('gender', StringType(), True), \\\n",
        "                         StructField('age', IntegerType(), True), \\\n",
        "                         StructField('Occupation', IntegerType(), True), \\\n",
        "                         StructField('Zipcode', StringType(), True)                        \n",
        "                        ])\n",
        "\n",
        "userdata = spark.read.option('sep', '::').schema(UserSchema).csv('/content/ml-1m/users.dat')\n",
        "\n",
        "#lets select userId, gender, age columns omitting Occupation and Zipcode for simplicity  \n",
        "userDF = userdata.select('userId', 'gender', 'age').cache()\n",
        "\n",
        "userDF.sample(False, 0.01, 0).show(10, truncate=False)"
      ],
      "execution_count": null,
      "outputs": [
        {
          "output_type": "stream",
          "name": "stdout",
          "text": [
            "+------+------+---+\n",
            "|userId|gender|age|\n",
            "+------+------+---+\n",
            "|10    |F     |35 |\n",
            "|171   |F     |50 |\n",
            "|252   |M     |25 |\n",
            "|410   |F     |25 |\n",
            "|422   |M     |56 |\n",
            "|502   |M     |35 |\n",
            "|722   |M     |25 |\n",
            "|750   |F     |35 |\n",
            "|772   |M     |18 |\n",
            "|829   |M     |1  |\n",
            "+------+------+---+\n",
            "only showing top 10 rows\n",
            "\n"
          ]
        }
      ]
    },
    {
      "cell_type": "code",
      "metadata": {
        "colab": {
          "base_uri": "https://localhost:8080/"
        },
        "id": "GjHXyDdHicBE",
        "outputId": "48b01e46-293d-4b50-a39d-8dc6ced7b707"
      },
      "source": [
        "## Basic statistics of User dataFrame..\n",
        "\n",
        "userDF.describe().show()"
      ],
      "execution_count": null,
      "outputs": [
        {
          "output_type": "stream",
          "name": "stdout",
          "text": [
            "+-------+------------------+------+------------------+\n",
            "|summary|            userId|gender|               age|\n",
            "+-------+------------------+------+------------------+\n",
            "|  count|              6040|  6040|              6040|\n",
            "|   mean|            3020.5|  null|30.639238410596025|\n",
            "| stddev|1743.7421445462246|  null|12.895961726906837|\n",
            "|    min|                 1|     F|                 1|\n",
            "|    max|              6040|     M|                56|\n",
            "+-------+------------------+------+------------------+\n",
            "\n"
          ]
        }
      ]
    },
    {
      "cell_type": "code",
      "metadata": {
        "colab": {
          "base_uri": "https://localhost:8080/"
        },
        "id": "THObQwiVicOs",
        "outputId": "5b0aaa4e-067c-45c9-d98f-488a4f216085"
      },
      "source": [
        "## lets quickly go through the userDF dataFrame\n",
        "\n",
        "#Number of distinct users in the users dataFrame\n",
        "print('Number of users : {0}' . format(userDF.select('userId').distinct().count()))\n",
        "\n",
        "#Number of Female users in the users dataFrame\n",
        "userFemale = userDF.select('gender').where(userDF.gender == 'F').count()\n",
        "print('Number of Females in the users dataFrame : {0}'. format(userFemale))\n",
        "\n",
        "#Number of male users in the users dataFrame\n",
        "userMale = userDF.select('gender').where(userDF.gender == 'M').count()\n",
        "print('Number of males in the users dataFarme : {0}' . format(userMale))\n",
        "\n",
        "#Number of users who are 18 yrs or more old\n",
        "print('Number of users who are 18 yrs or older : {0}' . format(userDF.select('age').where(userDF.age >= 18).count()))\n",
        "\n",
        "#Number of users who are less than 18 yrs \n",
        "print('Number of users who are less than 18 yrs : {0}' . format(userDF.select('age').where(userDF.age < 18).count()))\n",
        "\n"
      ],
      "execution_count": null,
      "outputs": [
        {
          "output_type": "stream",
          "name": "stdout",
          "text": [
            "Number of users : 6040\n",
            "Number of Females in the users dataFrame : 1709\n",
            "Number of males in the users dataFarme : 4331\n",
            "Number of users who are 18 yrs or older : 5818\n",
            "Number of users who are less than 18 yrs : 222\n"
          ]
        }
      ]
    },
    {
      "cell_type": "markdown",
      "metadata": {
        "id": "3dIdLAWZqvvO"
      },
      "source": [
        "## Exploratory Data Analysis of the MovieLens datasets\n",
        " "
      ]
    },
    {
      "cell_type": "code",
      "metadata": {
        "id": "xbCc4jO5icvV",
        "colab": {
          "base_uri": "https://localhost:8080/"
        },
        "outputId": "2b187cdc-7df4-4a7c-fd88-da032dc26477"
      },
      "source": [
        "## lets Join all Three dataframes(userDF, ratingsDF, movieNamesDF).. so we can do analysis on them.\n",
        "\n",
        "fullDF = userDF.join(ratingsDF, userDF.userId == ratingsDF.userId, 'left')\\\n",
        "              .select(userDF.userId, userDF.gender, userDF.age, ratingsDF.movieId, ratingsDF.ratings)\n",
        "\n",
        "\n",
        "fullDF = fullDF.join(movieNamesDF, fullDF.movieId == movieNamesDF.movieId, 'left') \\\n",
        "               .select(fullDF.userId, fullDF.gender, fullDF.age, fullDF.movieId, fullDF.ratings, movieNamesDF.movieName, movieNamesDF.genres)\n",
        "\n",
        "fullDF.show(10, truncate=False)\n",
        "               "
      ],
      "execution_count": null,
      "outputs": [
        {
          "output_type": "stream",
          "name": "stdout",
          "text": [
            "+------+------+---+-------+-------+------------------------------------------+-----------------------------+\n",
            "|userId|gender|age|movieId|ratings|movieName                                 |genres                       |\n",
            "+------+------+---+-------+-------+------------------------------------------+-----------------------------+\n",
            "|148   |M     |50 |2987   |5      |Who Framed Roger Rabbit? (1988)           |Adventure|Animation|Film-Noir|\n",
            "|148   |M     |50 |2989   |4      |For Your Eyes Only (1981)                 |Action                       |\n",
            "|148   |M     |50 |647    |3      |Courage Under Fire (1996)                 |Drama|War                    |\n",
            "|148   |M     |50 |648    |2      |Mission: Impossible (1996)                |Action|Adventure|Mystery     |\n",
            "|148   |M     |50 |575    |4      |Little Rascals, The (1994)                |Children's|Comedy            |\n",
            "|148   |M     |50 |577    |4      |Andre (1994)                              |Adventure|Children's         |\n",
            "|148   |M     |50 |3930   |3      |Creature From the Black Lagoon, The (1954)|Horror                       |\n",
            "|148   |M     |50 |2122   |4      |Children of the Corn (1984)               |Horror|Thriller              |\n",
            "|148   |M     |50 |1320   |5      |Alien� (1992)                             |Action|Horror|Sci-Fi|Thriller|\n",
            "|148   |M     |50 |2123   |4      |All Dogs Go to Heaven (1989)              |Animation|Children's         |\n",
            "+------+------+---+-------+-------+------------------------------------------+-----------------------------+\n",
            "only showing top 10 rows\n",
            "\n"
          ]
        }
      ]
    },
    {
      "cell_type": "code",
      "metadata": {
        "id": "lXVsKHOBvFRP",
        "colab": {
          "base_uri": "https://localhost:8080/"
        },
        "outputId": "92ab22e8-3390-4dfc-b479-8bcf786feba5"
      },
      "source": [
        "##lets do a quick check on the fullDF dataFrame!.\n",
        "\n",
        "print('Number of distinct users in fullDF : {0}' . format(fullDF.select('userId').distinct().count()))\n",
        "\n",
        "print('Number of distinct movies in fullDF : {0}' . format(fullDF.select('movieId').distinct().count()))\n",
        "\n",
        "print('Number of ratings in fullDF : {0}' . format(fullDF.count()))\n"
      ],
      "execution_count": null,
      "outputs": [
        {
          "output_type": "stream",
          "name": "stdout",
          "text": [
            "Number of distinct users in fullDF : 6040\n",
            "Number of distinct movies in fullDF : 3706\n",
            "Number of ratings in fullDF : 1000209\n"
          ]
        }
      ]
    },
    {
      "cell_type": "code",
      "metadata": {
        "id": "xJTu0amvvFUG",
        "colab": {
          "base_uri": "https://localhost:8080/"
        },
        "outputId": "7295c19e-4cf4-4d51-d90d-c260fb4af22e"
      },
      "source": [
        "## Genre column has various genres associated with a particular movie,. We will split each genre using the 'explode' method\n",
        "## so that every distinct genre will be in their own row.\n",
        "\n",
        "fullDF_with_genres = fullDF.withColumn('genres', explode(split('genres', '[|]')))\n",
        "fullDF_with_genres.show(10, truncate=False)"
      ],
      "execution_count": null,
      "outputs": [
        {
          "output_type": "stream",
          "name": "stdout",
          "text": [
            "+------+------+---+-------+-------+-------------------------------+----------+\n",
            "|userId|gender|age|movieId|ratings|movieName                      |genres    |\n",
            "+------+------+---+-------+-------+-------------------------------+----------+\n",
            "|148   |M     |50 |2987   |5      |Who Framed Roger Rabbit? (1988)|Adventure |\n",
            "|148   |M     |50 |2987   |5      |Who Framed Roger Rabbit? (1988)|Animation |\n",
            "|148   |M     |50 |2987   |5      |Who Framed Roger Rabbit? (1988)|Film-Noir |\n",
            "|148   |M     |50 |2989   |4      |For Your Eyes Only (1981)      |Action    |\n",
            "|148   |M     |50 |647    |3      |Courage Under Fire (1996)      |Drama     |\n",
            "|148   |M     |50 |647    |3      |Courage Under Fire (1996)      |War       |\n",
            "|148   |M     |50 |648    |2      |Mission: Impossible (1996)     |Action    |\n",
            "|148   |M     |50 |648    |2      |Mission: Impossible (1996)     |Adventure |\n",
            "|148   |M     |50 |648    |2      |Mission: Impossible (1996)     |Mystery   |\n",
            "|148   |M     |50 |575    |4      |Little Rascals, The (1994)     |Children's|\n",
            "+------+------+---+-------+-------+-------------------------------+----------+\n",
            "only showing top 10 rows\n",
            "\n"
          ]
        }
      ]
    },
    {
      "cell_type": "code",
      "metadata": {
        "id": "Y0Pt0bBqvFuA",
        "colab": {
          "base_uri": "https://localhost:8080/"
        },
        "outputId": "e8d924e4-443f-4830-caf8-ad1462b9c26f"
      },
      "source": [
        "## Total count of each genre \n",
        "\n",
        "count_genres = fullDF_with_genres.groupBy('genres').count()\n",
        "count_genres.show()"
      ],
      "execution_count": null,
      "outputs": [
        {
          "output_type": "stream",
          "name": "stdout",
          "text": [
            "+-----------+------+\n",
            "|     genres| count|\n",
            "+-----------+------+\n",
            "|      Crime| 79541|\n",
            "|    Romance|147523|\n",
            "|   Thriller|189680|\n",
            "|  Adventure|133953|\n",
            "|      Drama|354529|\n",
            "| Children's| 72186|\n",
            "|        War| 68527|\n",
            "|Documentary|  7910|\n",
            "|    Fantasy| 36301|\n",
            "|    Mystery| 40178|\n",
            "|    Musical| 41533|\n",
            "|  Animation| 43293|\n",
            "|  Film-Noir| 18261|\n",
            "|     Horror| 76386|\n",
            "|    Western| 20683|\n",
            "|     Comedy|356580|\n",
            "|     Action|257457|\n",
            "|     Sci-Fi|157294|\n",
            "+-----------+------+\n",
            "\n"
          ]
        }
      ]
    },
    {
      "cell_type": "code",
      "metadata": {
        "colab": {
          "base_uri": "https://localhost:8080/",
          "height": 394
        },
        "id": "Hs2S1mGzkgte",
        "outputId": "f0b50f40-9cc3-464a-8ba6-db8e2dc17111"
      },
      "source": [
        "## lets visualize the above result using Matplotlib library for clear understanding\n",
        "\n",
        "plot_genres = count_genres.toPandas()\n",
        "plot_genres.set_index('genres', inplace=True)\n",
        "\n",
        "plot_genres.plot(kind= 'barh',figsize = (13,6),fontsize=12,colormap='tab20c')\n"
      ],
      "execution_count": null,
      "outputs": [
        {
          "output_type": "execute_result",
          "data": {
            "text/plain": [
              "<matplotlib.axes._subplots.AxesSubplot at 0x7ff31bb8e390>"
            ]
          },
          "metadata": {},
          "execution_count": 30
        },
        {
          "output_type": "display_data",
          "data": {
            "image/png": "[encoded data removed]",
            "text/plain": [
              "<Figure size 936x432 with 1 Axes>"
            ]
          },
          "metadata": {
            "needs_background": "light"
          }
        }
      ]
    },
    {
      "cell_type": "code",
      "metadata": {
        "id": "-M8Hyqoskgwd",
        "colab": {
          "base_uri": "https://localhost:8080/"
        },
        "outputId": "f0de3705-4de5-4f85-8f37-a7425b13657a"
      },
      "source": [
        "## lets find out top 10 most rated movies..\n",
        "\n",
        "top10Rated_fullDF = fullDF.groupBy('movieName')\\\n",
        "                     .agg(func.count('movieName').alias('NUmber_of_ratings')) \\\n",
        "                     .sort(func.col('NUmber_of_ratings').desc())\n",
        "                                           \n",
        "\n",
        "top10Rated_fullDF.show(10, truncate=False)"
      ],
      "execution_count": null,
      "outputs": [
        {
          "output_type": "stream",
          "name": "stdout",
          "text": [
            "+-----------------------------------------------------+-----------------+\n",
            "|movieName                                            |NUmber_of_ratings|\n",
            "+-----------------------------------------------------+-----------------+\n",
            "|American Beauty (1999)                               |3428             |\n",
            "|Star Wars: Episode IV - A New Hope (1977)            |2991             |\n",
            "|Star Wars: Episode V - The Empire Strikes Back (1980)|2990             |\n",
            "|Star Wars: Episode VI - Return of the Jedi (1983)    |2883             |\n",
            "|Jurassic Park (1993)                                 |2672             |\n",
            "|Saving Private Ryan (1998)                           |2653             |\n",
            "|Terminator 2: Judgment Day (1991)                    |2649             |\n",
            "|Matrix, The (1999)                                   |2590             |\n",
            "|Back to the Future (1985)                            |2583             |\n",
            "|Silence of the Lambs, The (1991)                     |2578             |\n",
            "+-----------------------------------------------------+-----------------+\n",
            "only showing top 10 rows\n",
            "\n"
          ]
        }
      ]
    },
    {
      "cell_type": "code",
      "metadata": {
        "id": "KeAR9ciCkg3f",
        "colab": {
          "base_uri": "https://localhost:8080/",
          "height": 394
        },
        "outputId": "6053feba-fe0b-4521-b68b-84c4576110a3"
      },
      "source": [
        "plot_top10_fullDF = top10Rated_fullDF.limit(10).toPandas()\n",
        "plot_top10_fullDF.set_index('movieName', inplace=True)\n",
        "\n",
        "plot_top10_fullDF.plot(kind='barh', figsize = (13,6), fontsize=12, colormap='tab20c')"
      ],
      "execution_count": null,
      "outputs": [
        {
          "output_type": "execute_result",
          "data": {
            "text/plain": [
              "<matplotlib.axes._subplots.AxesSubplot at 0x7ff31b99e090>"
            ]
          },
          "metadata": {},
          "execution_count": 32
        },
        {
          "output_type": "display_data",
          "data": {
            "image/png": "[encoded data removed]",
            "text/plain": [
              "<Figure size 936x432 with 1 Axes>"
            ]
          },
          "metadata": {
            "needs_background": "light"
          }
        }
      ]
    },
    {
      "cell_type": "code",
      "metadata": {
        "colab": {
          "base_uri": "https://localhost:8080/"
        },
        "id": "nP0o8V-i1Etu",
        "outputId": "3e33b046-f501-4d98-a587-3c6505499dae"
      },
      "source": [
        "# lets find out the most rated movie 'American Beauty (1999)' belong to which genre\n",
        "\n",
        "fullDF_with_genres.filter(fullDF_with_genres.movieName == 'American Beauty (1999)') \\\n",
        "                            .groupBy('movieName', 'genres') \\\n",
        "                            .agg(func.count('genres')) \\\n",
        "                            .select('movieName', 'genres') \\\n",
        "                            .show(truncate=False)"
      ],
      "execution_count": null,
      "outputs": [
        {
          "output_type": "stream",
          "name": "stdout",
          "text": [
            "+----------------------+------+\n",
            "|movieName             |genres|\n",
            "+----------------------+------+\n",
            "|American Beauty (1999)|Drama |\n",
            "|American Beauty (1999)|Comedy|\n",
            "+----------------------+------+\n",
            "\n"
          ]
        }
      ]
    },
    {
      "cell_type": "code",
      "metadata": {
        "id": "JNwfsggB-7Gv",
        "colab": {
          "base_uri": "https://localhost:8080/"
        },
        "outputId": "5fae4862-3bcf-47d3-c1d9-007a6675f1af"
      },
      "source": [
        "## Minimum and Maximum number of movies rated by One user.\n",
        "\n",
        "moviesRated_by_oneUser = fullDF \\\n",
        "                         .groupBy('userId') \\\n",
        "                         .agg(func.count('ratings').alias('Total_number_of_ratings')) \\\n",
        "                         .select('userId', 'Total_number_of_ratings') \\\n",
        "                         .sort(func.col('Total_number_of_ratings').desc())\n",
        "                         \n",
        "moviesRated_by_oneUser.show(5)\n",
        "\n",
        "print('Maximum Number of ratings given by one user : {0}'.format(moviesRated_by_oneUser.agg({'Total_number_of_ratings' : 'max'}).collect()[0][0]))\n",
        "\n",
        "print('Minimum Number of ratings given by one user : {0}'.format(moviesRated_by_oneUser.agg({'Total_number_of_ratings' : 'min'}).collect()[0][0]))"
      ],
      "execution_count": null,
      "outputs": [
        {
          "output_type": "stream",
          "name": "stdout",
          "text": [
            "+------+-----------------------+\n",
            "|userId|Total_number_of_ratings|\n",
            "+------+-----------------------+\n",
            "|  4169|                   2314|\n",
            "|  1680|                   1850|\n",
            "|  4277|                   1743|\n",
            "|  1941|                   1595|\n",
            "|  1181|                   1521|\n",
            "+------+-----------------------+\n",
            "only showing top 5 rows\n",
            "\n",
            "Maximum Number of ratings given by one user : 2314\n",
            "Minimum Number of ratings given by one user : 20\n"
          ]
        }
      ]
    },
    {
      "cell_type": "code",
      "metadata": {
        "colab": {
          "base_uri": "https://localhost:8080/"
        },
        "id": "4t9Kdj63AS9g",
        "outputId": "199a6b0e-ec78-43c9-c16c-d7a7d7c0d62b"
      },
      "source": [
        "popularGenres_by_genderDF = fullDF_with_genres.filter(fullDF_with_genres.ratings >= 4) \\\n",
        "                                              .groupBy(['gender', 'genres'])\\\n",
        "                                              .agg(func.count('genres').alias('NUmber_of_ratings'))\\\n",
        "                                              .orderBy('genres') \\\n",
        "                                              .select('genres', 'gender', 'NUmber_of_ratings')\n",
        "popularGenres_by_genderDF.show(40,truncate=False)"
      ],
      "execution_count": null,
      "outputs": [
        {
          "output_type": "stream",
          "name": "stdout",
          "text": [
            "+-----------+------+-----------------+\n",
            "|genres     |gender|NUmber_of_ratings|\n",
            "+-----------+------+-----------------+\n",
            "|Action     |F     |24705            |\n",
            "|Action     |M     |114061           |\n",
            "|Adventure  |M     |56085            |\n",
            "|Adventure  |F     |14866            |\n",
            "|Animation  |M     |18863            |\n",
            "|Animation  |F     |7773             |\n",
            "|Children's |M     |25172            |\n",
            "|Children's |F     |12106            |\n",
            "|Comedy     |F     |54931            |\n",
            "|Comedy     |M     |142014           |\n",
            "|Crime      |M     |39234            |\n",
            "|Crime      |F     |10113            |\n",
            "|Documentary|M     |4309             |\n",
            "|Documentary|F     |1407             |\n",
            "|Drama      |F     |63381            |\n",
            "|Drama      |M     |165059           |\n",
            "|Fantasy    |M     |14000            |\n",
            "|Fantasy    |F     |4714             |\n",
            "|Film-Noir  |F     |3093             |\n",
            "|Film-Noir  |M     |10849            |\n",
            "|Horror     |M     |27555            |\n",
            "|Horror     |F     |6533             |\n",
            "|Musical    |F     |8874             |\n",
            "|Musical    |M     |16237            |\n",
            "|Mystery    |F     |6158             |\n",
            "|Mystery    |M     |18142            |\n",
            "|Romance    |M     |55047            |\n",
            "|Romance    |F     |30452            |\n",
            "|Sci-Fi     |M     |68754            |\n",
            "|Sci-Fi     |F     |14443            |\n",
            "|Thriller   |M     |85045            |\n",
            "|Thriller   |F     |23171            |\n",
            "|War        |F     |9796             |\n",
            "|War        |M     |37746            |\n",
            "|Western    |M     |10379            |\n",
            "|Western    |F     |1932             |\n",
            "+-----------+------+-----------------+\n",
            "\n"
          ]
        }
      ]
    },
    {
      "cell_type": "code",
      "metadata": {
        "id": "jYZbUsZmjCtP",
        "colab": {
          "base_uri": "https://localhost:8080/"
        },
        "outputId": "8d452533-3c30-4ee8-a43b-5d3d12cf3f08"
      },
      "source": [
        "## Popular genres among men..\n",
        "\n",
        "top10genres_men = popularGenres_by_genderDF.filter(popularGenres_by_genderDF.gender == 'M')\\\n",
        "                                          .sort(func.col('NUmber_of_ratings').desc())\n",
        "\n",
        "top10genres_men.show(10, truncate=False)"
      ],
      "execution_count": null,
      "outputs": [
        {
          "output_type": "stream",
          "name": "stdout",
          "text": [
            "+---------+------+-----------------+\n",
            "|genres   |gender|NUmber_of_ratings|\n",
            "+---------+------+-----------------+\n",
            "|Drama    |M     |165059           |\n",
            "|Comedy   |M     |142014           |\n",
            "|Action   |M     |114061           |\n",
            "|Thriller |M     |85045            |\n",
            "|Sci-Fi   |M     |68754            |\n",
            "|Adventure|M     |56085            |\n",
            "|Romance  |M     |55047            |\n",
            "|Crime    |M     |39234            |\n",
            "|War      |M     |37746            |\n",
            "|Horror   |M     |27555            |\n",
            "+---------+------+-----------------+\n",
            "only showing top 10 rows\n",
            "\n"
          ]
        }
      ]
    },
    {
      "cell_type": "code",
      "metadata": {
        "id": "Lm_3E-nHjCxa",
        "colab": {
          "base_uri": "https://localhost:8080/"
        },
        "outputId": "1ef6d78f-f4cc-425a-f658-288bc7bdaa2c"
      },
      "source": [
        "## Popular genres among females..\n",
        "\n",
        "top10genres_female = popularGenres_by_genderDF.filter(popularGenres_by_genderDF.gender == 'F')\\\n",
        "                                          .sort(func.col('NUmber_of_ratings').desc())\n",
        "\n",
        "top10genres_female.show(10, truncate=False)"
      ],
      "execution_count": null,
      "outputs": [
        {
          "output_type": "stream",
          "name": "stdout",
          "text": [
            "+----------+------+-----------------+\n",
            "|genres    |gender|NUmber_of_ratings|\n",
            "+----------+------+-----------------+\n",
            "|Drama     |F     |63381            |\n",
            "|Comedy    |F     |54931            |\n",
            "|Romance   |F     |30452            |\n",
            "|Action    |F     |24705            |\n",
            "|Thriller  |F     |23171            |\n",
            "|Adventure |F     |14866            |\n",
            "|Sci-Fi    |F     |14443            |\n",
            "|Children's|F     |12106            |\n",
            "|Crime     |F     |10113            |\n",
            "|War       |F     |9796             |\n",
            "+----------+------+-----------------+\n",
            "only showing top 10 rows\n",
            "\n"
          ]
        }
      ]
    },
    {
      "cell_type": "markdown",
      "metadata": {
        "id": "FygcWxnrCx_I"
      },
      "source": [
        "#### It's surprising to see the Most Popular genres among Male and Female users are Comedy and Drama. These genres are also associated with most of the movies. No wonder the Most rated movie 'American Beauty (1999)' belongs to Comedy/Drama category. Stopping at this point was difficult because there is so much more insights we can extract from this data. But its a good indicator that we have sufficient understanding of the data to begin to build an effective baseline model."
      ]
    },
    {
      "cell_type": "markdown",
      "metadata": {
        "id": "6-4zJz9C03N2"
      },
      "source": [
        "## **Basic Recommendations:**"
      ]
    },
    {
      "cell_type": "markdown",
      "metadata": {
        "id": "I4al96wn1OBr"
      },
      "source": [
        "#### One way to recommend movies is to always recommend the movies with the highest average rating. In this part, we will use Spark to find the name, number of ratings, and the average rating of the 20 movies with the highest average rating and at least 500 reviews because movies with few reviews may not have broad appeal to everyone.\n",
        "\n",
        "#### From here onwards, we will use ratingsDF and movieNamesDF dataFrames for simplicity reasons."
      ]
    },
    {
      "cell_type": "code",
      "metadata": {
        "colab": {
          "base_uri": "https://localhost:8080/"
        },
        "id": "kEP-CMzt5hpL",
        "outputId": "f124e5ce-1f75-43b0-f980-247931761725"
      },
      "source": [
        "## Average rating per movie using ratingsDF dataFrame\n",
        "\n",
        "movies_with_high_avg = ratingsDF.groupBy('movieId')\\\n",
        "                                .agg(func.count('ratings').alias('Number_of_ratings'), func.round(func.avg('ratings'), 2).alias('Avg_ratings_per_movie')) \\\n",
        "                                .sort(func.col('Avg_ratings_per_movie').desc())\n",
        "\n",
        "movies_with_high_avg.show(10, truncate=False)\n",
        "                                "
      ],
      "execution_count": null,
      "outputs": [
        {
          "output_type": "stream",
          "name": "stdout",
          "text": [
            "+-------+-----------------+---------------------+\n",
            "|movieId|Number_of_ratings|Avg_ratings_per_movie|\n",
            "+-------+-----------------+---------------------+\n",
            "|3881   |1                |5.0                  |\n",
            "|1830   |1                |5.0                  |\n",
            "|3656   |1                |5.0                  |\n",
            "|3280   |1                |5.0                  |\n",
            "|3172   |1                |5.0                  |\n",
            "|787    |3                |5.0                  |\n",
            "|3607   |1                |5.0                  |\n",
            "|3382   |1                |5.0                  |\n",
            "|989    |1                |5.0                  |\n",
            "|3233   |2                |5.0                  |\n",
            "+-------+-----------------+---------------------+\n",
            "only showing top 10 rows\n",
            "\n"
          ]
        }
      ]
    },
    {
      "cell_type": "code",
      "metadata": {
        "colab": {
          "base_uri": "https://localhost:8080/"
        },
        "id": "cWiAQkxUJTkx",
        "outputId": "4d9474c7-30d4-4c9b-a0ef-90a9a6866c42"
      },
      "source": [
        "## Filtering movies with 500 ratings or more\n",
        "\n",
        "movies_highAvg_500ormoreRatings = movies_with_high_avg.filter(movies_with_high_avg.Number_of_ratings >= 500)\n",
        "movies_highAvg_500ormoreRatings.show(10, truncate=False)"
      ],
      "execution_count": null,
      "outputs": [
        {
          "output_type": "stream",
          "name": "stdout",
          "text": [
            "+-------+-----------------+---------------------+\n",
            "|movieId|Number_of_ratings|Avg_ratings_per_movie|\n",
            "+-------+-----------------+---------------------+\n",
            "|2019   |628              |4.56                 |\n",
            "|318    |2227             |4.55                 |\n",
            "|858    |2223             |4.52                 |\n",
            "|50     |1783             |4.52                 |\n",
            "|745    |657              |4.52                 |\n",
            "|527    |2304             |4.51                 |\n",
            "|1148   |882              |4.51                 |\n",
            "|904    |1050             |4.48                 |\n",
            "|1198   |2514             |4.48                 |\n",
            "|750    |1367             |4.45                 |\n",
            "+-------+-----------------+---------------------+\n",
            "only showing top 10 rows\n",
            "\n"
          ]
        }
      ]
    },
    {
      "cell_type": "code",
      "metadata": {
        "colab": {
          "base_uri": "https://localhost:8080/"
        },
        "id": "dj8-ys6V5h7Q",
        "outputId": "e90f7e3c-d28d-455d-ccbe-fdd15dd517a0"
      },
      "source": [
        "## joining the movienamesDF to add movie names to each row..\n",
        "\n",
        "movie_names = movies_highAvg_500ormoreRatings\\\n",
        "              .join(movieNamesDF, movies_highAvg_500ormoreRatings.movieId == movieNamesDF.movieId)\\\n",
        "              .select(movies_highAvg_500ormoreRatings.movieId, movieNamesDF.movieName, movies_highAvg_500ormoreRatings.Number_of_ratings, movies_highAvg_500ormoreRatings.Avg_ratings_per_movie)\\\n",
        "              .sort(func.col('Avg_ratings_per_movie').desc())\n",
        "\n",
        "movie_names.show(10, truncate=False)            "
      ],
      "execution_count": null,
      "outputs": [
        {
          "output_type": "stream",
          "name": "stdout",
          "text": [
            "+-------+-------------------------------------------------------------------+-----------------+---------------------+\n",
            "|movieId|movieName                                                          |Number_of_ratings|Avg_ratings_per_movie|\n",
            "+-------+-------------------------------------------------------------------+-----------------+---------------------+\n",
            "|2019   |Seven Samurai (The Magnificent Seven) (Shichinin no samurai) (1954)|628              |4.56                 |\n",
            "|318    |Shawshank Redemption, The (1994)                                   |2227             |4.55                 |\n",
            "|858    |Godfather, The (1972)                                              |2223             |4.52                 |\n",
            "|50     |Usual Suspects, The (1995)                                         |1783             |4.52                 |\n",
            "|745    |Close Shave, A (1995)                                              |657              |4.52                 |\n",
            "|1148   |Wrong Trousers, The (1993)                                         |882              |4.51                 |\n",
            "|527    |Schindler's List (1993)                                            |2304             |4.51                 |\n",
            "|904    |Rear Window (1954)                                                 |1050             |4.48                 |\n",
            "|1198   |Raiders of the Lost Ark (1981)                                     |2514             |4.48                 |\n",
            "|260    |Star Wars: Episode IV - A New Hope (1977)                          |2991             |4.45                 |\n",
            "+-------+-------------------------------------------------------------------+-----------------+---------------------+\n",
            "only showing top 10 rows\n",
            "\n"
          ]
        }
      ]
    },
    {
      "cell_type": "code",
      "metadata": {
        "colab": {
          "base_uri": "https://localhost:8080/"
        },
        "id": "RoIvZLUO5h-j",
        "outputId": "0de3c4d3-19ef-45de-e019-177f26107a67"
      },
      "source": [
        "## Basic statistics of the above movie_names dataFrame\n",
        "\n",
        "movie_names.describe().show()"
      ],
      "execution_count": null,
      "outputs": [
        {
          "output_type": "stream",
          "name": "stdout",
          "text": [
            "+-------+------------------+--------------------+------------------+---------------------+\n",
            "|summary|           movieId|           movieName| Number_of_ratings|Avg_ratings_per_movie|\n",
            "+-------+------------------+--------------------+------------------+---------------------+\n",
            "|  count|               618|                 618|               618|                  618|\n",
            "|   mean|1832.6699029126214|                null| 962.3171521035599|    3.689255663430419|\n",
            "| stddev| 1068.586352146532|                null|471.92965000236813|   0.4305720773398214|\n",
            "|    min|                 1|10 Things I Hate ...|               500|                 2.16|\n",
            "|    max|              3948|   Young Guns (1988)|              3428|                 4.56|\n",
            "+-------+------------------+--------------------+------------------+---------------------+\n",
            "\n"
          ]
        }
      ]
    },
    {
      "cell_type": "code",
      "metadata": {
        "colab": {
          "base_uri": "https://localhost:8080/"
        },
        "id": "ujjPyeMaMJxc",
        "outputId": "05714a2a-5bfb-4752-c4f5-133cceb407b4"
      },
      "source": [
        "## Recommending 20 movies with average ratings per movie > 4 and with 500 or more ratings count\n",
        "\n",
        "recommendedMovies = movie_names.filter(movie_names.Avg_ratings_per_movie >= 4)\n",
        "                              \n",
        "recommendedMovies.show(20, truncate=False)"
      ],
      "execution_count": null,
      "outputs": [
        {
          "output_type": "stream",
          "name": "stdout",
          "text": [
            "+-------+---------------------------------------------------------------------------+-----------------+---------------------+\n",
            "|movieId|movieName                                                                  |Number_of_ratings|Avg_ratings_per_movie|\n",
            "+-------+---------------------------------------------------------------------------+-----------------+---------------------+\n",
            "|2019   |Seven Samurai (The Magnificent Seven) (Shichinin no samurai) (1954)        |628              |4.56                 |\n",
            "|318    |Shawshank Redemption, The (1994)                                           |2227             |4.55                 |\n",
            "|745    |Close Shave, A (1995)                                                      |657              |4.52                 |\n",
            "|858    |Godfather, The (1972)                                                      |2223             |4.52                 |\n",
            "|50     |Usual Suspects, The (1995)                                                 |1783             |4.52                 |\n",
            "|527    |Schindler's List (1993)                                                    |2304             |4.51                 |\n",
            "|1148   |Wrong Trousers, The (1993)                                                 |882              |4.51                 |\n",
            "|904    |Rear Window (1954)                                                         |1050             |4.48                 |\n",
            "|1198   |Raiders of the Lost Ark (1981)                                             |2514             |4.48                 |\n",
            "|750    |Dr. Strangelove or: How I Learned to Stop Worrying and Love the Bomb (1963)|1367             |4.45                 |\n",
            "|260    |Star Wars: Episode IV - A New Hope (1977)                                  |2991             |4.45                 |\n",
            "|1207   |To Kill a Mockingbird (1962)                                               |928              |4.43                 |\n",
            "|3435   |Double Indemnity (1944)                                                    |551              |4.42                 |\n",
            "|2762   |Sixth Sense, The (1999)                                                    |2459             |4.41                 |\n",
            "|912    |Casablanca (1942)                                                          |1669             |4.41                 |\n",
            "|913    |Maltese Falcon, The (1941)                                                 |1043             |4.4                  |\n",
            "|1204   |Lawrence of Arabia (1962)                                                  |831              |4.4                  |\n",
            "|923    |Citizen Kane (1941)                                                        |1116             |4.39                 |\n",
            "|1250   |Bridge on the River Kwai, The (1957)                                       |938              |4.39                 |\n",
            "|1193   |One Flew Over the Cuckoo's Nest (1975)                                     |1725             |4.39                 |\n",
            "+-------+---------------------------------------------------------------------------+-----------------+---------------------+\n",
            "only showing top 20 rows\n",
            "\n"
          ]
        }
      ]
    },
    {
      "cell_type": "markdown",
      "metadata": {
        "id": "xc0sWRMJ8OEu"
      },
      "source": [
        "## **Alternating Least Squares (ALS):**\n",
        "\n",
        "#### In this part, we will use the Apache Spark ML Pipeline implementation of Alternating Least Squares algorithm to recommend movies."
      ]
    },
    {
      "cell_type": "code",
      "metadata": {
        "id": "nutQa9iEPSm-",
        "colab": {
          "base_uri": "https://localhost:8080/"
        },
        "outputId": "4ba8f8cb-a967-4970-a78c-6db9a50bff39"
      },
      "source": [
        "## spliting the ratings dataset into train, validation and test sets..\n",
        "\n",
        "seed = 42\n",
        "(split_60_df, split_a_20_df, split_b_20_df) = ratingsDF.randomSplit([0.6, 0.2, 0.2], seed) \n",
        "\n",
        "train_df = split_60_df.cache()\n",
        "val_df = split_a_20_df.cache()\n",
        "test_df = split_b_20_df.cache()\n",
        "\n",
        "trainRatio = train_df.count()/ratingsDF.count()\n",
        "valRatio = val_df.count()/ratingsDF.count()\n",
        "testRatio = test_df.count()/ratingsDF.count()\n",
        "\n",
        "print(\"Total number of ratings : \", ratingsDF.count())\n",
        "print(\"Total number of ratings in train_df : \", str(train_df.count()) + ', %.2f' %trainRatio+\"%\")\n",
        "print(\"Total number of ratings in val_df : \", str(val_df.count()) + \", %.2f\" %valRatio+\"%\")\n",
        "print(\"Total number of ratings in test_df : \", str(test_df.count()) + \", %.2f\" %testRatio+\"%\")\n"
      ],
      "execution_count": null,
      "outputs": [
        {
          "output_type": "stream",
          "name": "stdout",
          "text": [
            "Total number of ratings :  1000209\n",
            "Total number of ratings in train_df :  600453, 0.60%\n",
            "Total number of ratings in val_df :  199724, 0.20%\n",
            "Total number of ratings in test_df :  200032, 0.20%\n"
          ]
        }
      ]
    },
    {
      "cell_type": "code",
      "metadata": {
        "id": "q62MfGOkPSpG"
      },
      "source": [
        "## Build the recommendation model using ALS on the training data\n",
        "## we set cold start strategy to 'drop' to ensure we don't get NaN evaluation metrics\n",
        "\n",
        "als = ALS(maxIter=10, regParam=0.1, rank=5, userCol='userId', itemCol='movieId', ratingCol='ratings', coldStartStrategy='drop')\n",
        "model_als = als.fit(train_df)"
      ],
      "execution_count": null,
      "outputs": []
    },
    {
      "cell_type": "code",
      "metadata": {
        "id": "XPQ3a9MWPSuT",
        "colab": {
          "base_uri": "https://localhost:8080/"
        },
        "outputId": "09daa83e-ebf9-4538-bb5e-5a882a87cfe9"
      },
      "source": [
        "## Run the transform() method on the validation data and output a DataFrame with an additional prediction column that shows the sample of predicted rating\n",
        "\n",
        "val_pred = model_als.transform(val_df)\n",
        "\n",
        "val_pred.show(10)"
      ],
      "execution_count": null,
      "outputs": [
        {
          "output_type": "stream",
          "name": "stdout",
          "text": [
            "+------+-------+-------+----------+\n",
            "|userId|movieId|ratings|prediction|\n",
            "+------+-------+-------+----------+\n",
            "|  4227|    148|      2| 2.1637135|\n",
            "|  3829|    148|      2| 2.6677127|\n",
            "|  2456|    148|      2|   2.76397|\n",
            "|  3841|    463|      3| 2.3814561|\n",
            "|  3650|    463|      2|  2.763534|\n",
            "|    26|    463|      3| 2.5573711|\n",
            "|  3328|    463|      4|   3.04088|\n",
            "|  5047|    463|      3| 2.3884087|\n",
            "|  3032|    463|      4|  3.732343|\n",
            "|  3709|    463|      3|  2.594493|\n",
            "+------+-------+-------+----------+\n",
            "only showing top 10 rows\n",
            "\n"
          ]
        }
      ]
    },
    {
      "cell_type": "markdown",
      "metadata": {
        "id": "6ICFohIWRmxK"
      },
      "source": [
        "#### Eventhough many of the predictions are close to the actual ratings the model can use some performance tuning."
      ]
    },
    {
      "cell_type": "code",
      "metadata": {
        "id": "m0s3ocn7khJ8",
        "colab": {
          "base_uri": "https://localhost:8080/"
        },
        "outputId": "63475f52-9aa7-4c9d-d5e9-e25b35ec562f"
      },
      "source": [
        "## We will use RegressionEvaluator from SparkMl evaluation metrics to calculate the RMSE of the model\n",
        "\n",
        "evaluator = RegressionEvaluator(metricName='rmse', labelCol='ratings', predictionCol='prediction')\n",
        "\n",
        "rmse_als = evaluator.evaluate(val_pred)\n",
        "\n",
        "print(\"RMSE : \", str(rmse_als))"
      ],
      "execution_count": null,
      "outputs": [
        {
          "output_type": "stream",
          "name": "stdout",
          "text": [
            "RMSE :  0.8842416514584979\n"
          ]
        }
      ]
    },
    {
      "cell_type": "markdown",
      "metadata": {
        "id": "nGa9P2zZW8_d"
      },
      "source": [
        "## **Improve the Performance of the model using k -fold cross validation**."
      ]
    },
    {
      "cell_type": "code",
      "metadata": {
        "id": "0OGyKhIeBVl1"
      },
      "source": [
        "## Create a kfoldALS() function that also trains, runs, and evaluates the model.\n",
        "## The original data set is split into k data sets.\n",
        "## Each of the k iterations of the function uses a different data set for testing and the other data sets for training.\n",
        "\n",
        "def kfoldALS(data, k=3, userCol='userId', itemCol='movieId', ratingCol='ratings', metricName='rmse'):\n",
        "    evaluations = []        \n",
        "    weights = [1.0] * k\n",
        "    splits = ratingsDF.randomSplit(weights)\n",
        "    for i in range(0, k):      \n",
        "        testingSet = splits[i]\n",
        "        trainingSet = spark.createDataFrame(sc.emptyRDD(), ratingsDF.schema)\n",
        "        for j in range(0, k):\n",
        "            if i == j:\n",
        "                continue\n",
        "            else:\n",
        "                trainingSet = trainingSet.union(splits[j])\n",
        "        als = ALS(userCol=userCol, itemCol=itemCol, ratingCol=ratingCol, coldStartStrategy='drop')\n",
        "        model = als.fit(trainingSet)\n",
        "        predictions = model.transform(testingSet)\n",
        "        evaluator = RegressionEvaluator(metricName=metricName, labelCol='ratings', predictionCol='prediction')\n",
        "        evaluation = evaluator.evaluate(predictions)\n",
        "        #print('Loop {}: {} = {}'.format(i + 1, metricName, evaluation))\n",
        "        evaluations.append(evaluation)      \n",
        "    return sum(evaluations) / float(len(evaluations))"
      ],
      "execution_count": null,
      "outputs": []
    },
    {
      "cell_type": "code",
      "metadata": {
        "id": "8aR78rsxBVo7",
        "colab": {
          "base_uri": "https://localhost:8080/"
        },
        "outputId": "2d4b3eb2-0843-4089-a71f-e8ca715173c5"
      },
      "source": [
        "## lets set the folds range from 4 to 10 and run the kfoldALS() function to determine the best value for k.\n",
        "\n",
        "folds = range(4,11)\n",
        "rmse_val = []\n",
        "for i in folds:\n",
        "  rmse = kfoldALS(ratingsDF, k=i) \n",
        "  print(\"for k = \", str(i) + ', RMSE = {}' .format(rmse))\n",
        "  rmse_val.append(rmse)"
      ],
      "execution_count": null,
      "outputs": [
        {
          "output_type": "stream",
          "name": "stdout",
          "text": [
            "for k =  4, RMSE = 0.8715503930284132\n",
            "for k =  5, RMSE = 0.8703667486302058\n",
            "for k =  6, RMSE = 0.8700132464803568\n",
            "for k =  7, RMSE = 0.8694875818924046\n",
            "for k =  8, RMSE = 0.8692650521536701\n",
            "for k =  9, RMSE = 0.8691069717625415\n",
            "for k =  10, RMSE = 0.8689893453440061\n"
          ]
        }
      ]
    },
    {
      "cell_type": "code",
      "metadata": {
        "id": "3bCJb0jUBV8I",
        "colab": {
          "base_uri": "https://localhost:8080/",
          "height": 296
        },
        "outputId": "4069a467-8da2-4ff9-e712-8207fe0828c1"
      },
      "source": [
        "## plotting the RMSE of all the K values\n",
        "\n",
        "import matplotlib.pyplot as plt\n",
        "%matplotlib inline\n",
        "\n",
        "plt.plot(folds, rmse_val, 'o-')\n",
        "plt.xlabel(\"K values\")\n",
        "plt.ylabel(\"RMSE\")"
      ],
      "execution_count": null,
      "outputs": [
        {
          "output_type": "execute_result",
          "data": {
            "text/plain": [
              "Text(0, 0.5, 'RMSE')"
            ]
          },
          "metadata": {},
          "execution_count": 56
        },
        {
          "output_type": "display_data",
          "data": {
            "image/png": "[encoded data removed]",
            "text/plain": [
              "<Figure size 432x288 with 1 Axes>"
            ]
          },
          "metadata": {
            "needs_background": "light"
          }
        }
      ]
    },
    {
      "cell_type": "markdown",
      "metadata": {
        "id": "OMkglFl-apqx"
      },
      "source": [
        "#### 10 folds means a training set of 90% of the data, while 4 folds means a training training set of 75% of the data. If we choose a value too small for  k , we will run into the selection bias issue. On the other hand, too big value for  k  means overfitting - high variance and low bias.\n",
        "#### We will choose K=10, a popular default for Cross Validating our model. The reason for this is studies were performed and k=10  was found to provide good trade-off of low computational cost and low bias in an estimate of model performance."
      ]
    },
    {
      "cell_type": "markdown",
      "metadata": {
        "id": "xNkeBmkbiOQF"
      },
      "source": [
        "## **Tuning the ALS Model**"
      ]
    },
    {
      "cell_type": "code",
      "metadata": {
        "id": "ST_ByKfW2HkH"
      },
      "source": [
        "##The Spark CrossValidator function performs a grid search as well as k-fold cross validation.\n",
        "## Run the CrossValidator function with multiple values for rank, regParam and maxIter\n",
        "## we set the coldStartStrategy parameter to “drop” in order to drop any rows in the DataFrame of predictions that contain NaN values. \n",
        "## The evaluation metric will then be computed over the non-NaN data and will be valid.\n",
        "\n",
        "als_cv = ALS(userCol='userId', itemCol='movieId', ratingCol='ratings', coldStartStrategy='drop')\n",
        "\n",
        "evaluator = RegressionEvaluator(metricName='rmse', labelCol='ratings', predictionCol='prediction')\n",
        "\n",
        "paramGrid = ParamGridBuilder().addGrid(als_cv.rank, [4, 8, 12]).addGrid(als_cv.maxIter, [20]).addGrid(als_cv.regParam, [0.05, 0.1, 0.5]).build()\n",
        "\n",
        "cv = CrossValidator(estimator=als_cv,\n",
        "                    estimatorParamMaps=paramGrid,\n",
        "                    evaluator=evaluator,\n",
        "                    numFolds=10)\n",
        "\n",
        "cvModel = cv.fit(train_df)\n"
      ],
      "execution_count": null,
      "outputs": []
    },
    {
      "cell_type": "code",
      "metadata": {
        "id": "bdICKnkPAZvt"
      },
      "source": [
        "## extract the best model from the cvModel\n",
        "best_model = cvModel.bestModel"
      ],
      "execution_count": null,
      "outputs": []
    },
    {
      "cell_type": "markdown",
      "metadata": {
        "id": "lY-Rtl7yij0n"
      },
      "source": [
        "#### Best Model and its parameters"
      ]
    },
    {
      "cell_type": "code",
      "metadata": {
        "colab": {
          "base_uri": "https://localhost:8080/"
        },
        "id": "nvy-A-dM3Rkt",
        "outputId": "979b7f1e-2792-4fb1-f08a-4915101f20d5"
      },
      "source": [
        "## checking the best parameters from the bestModel\n",
        "\n",
        "print(type(best_model))\n",
        "\n",
        "print(\"Best Rank : \", best_model._java_obj.parent().getRank())\n",
        "print(\"Max Iteration : \", best_model._java_obj.parent().getMaxIter())\n",
        "print(\"Best RegParam : \", best_model._java_obj.parent().getRegParam())"
      ],
      "execution_count": null,
      "outputs": [
        {
          "output_type": "stream",
          "name": "stdout",
          "text": [
            "<class 'pyspark.ml.recommendation.ALSModel'>\n",
            "Best Rank :  12\n",
            "Max Iteration :  20\n",
            "Best RegParam :  0.1\n"
          ]
        }
      ]
    },
    {
      "cell_type": "code",
      "metadata": {
        "colab": {
          "base_uri": "https://localhost:8080/"
        },
        "id": "0asl_4BcNH6_",
        "outputId": "a7fbac71-5675-48aa-f409-a346dfd74752"
      },
      "source": [
        "# Run the tuned model to create a prediction against the validation_df\n",
        "\n",
        "val_pred_cv = best_model.transform(val_df)\n",
        "\n",
        "print('The root mean squared error for Validation dataset after tuning is: {}'.format(evaluator.evaluate(val_pred_cv)))"
      ],
      "execution_count": null,
      "outputs": [
        {
          "output_type": "stream",
          "name": "stdout",
          "text": [
            "The root mean squared error for Validation dataset after tuning is: 0.8668694032896457\n"
          ]
        }
      ]
    },
    {
      "cell_type": "markdown",
      "metadata": {
        "id": "uRrC7sJdkJPq"
      },
      "source": [
        "#### Prediction against the Test dataset"
      ]
    },
    {
      "cell_type": "code",
      "metadata": {
        "colab": {
          "base_uri": "https://localhost:8080/"
        },
        "id": "nzpRmXO33Rnw",
        "outputId": "b6e0370e-73b6-47dd-8b8c-eca180b7443b"
      },
      "source": [
        "## Finally, lets make a prediction on the test dataset using our tuned model\n",
        "\n",
        "test_Pred = best_model.transform(test_df)\n",
        "\n",
        "test_RMSE = evaluator.evaluate(test_Pred)\n",
        "\n",
        "print(\"RMSE of Test dataset : {} \" . format(test_RMSE))"
      ],
      "execution_count": null,
      "outputs": [
        {
          "output_type": "stream",
          "name": "stdout",
          "text": [
            "RMSE of Test dataset : 0.867139156535232 \n"
          ]
        }
      ]
    },
    {
      "cell_type": "code",
      "metadata": {
        "colab": {
          "base_uri": "https://localhost:8080/"
        },
        "id": "zmv81JLVD3GH",
        "outputId": "61edbd44-49bf-4b2f-812d-572127707c5b"
      },
      "source": [
        "## lets check sample of the prediction against the actual value\n",
        "\n",
        "test_Pred.show(10)"
      ],
      "execution_count": null,
      "outputs": [
        {
          "output_type": "stream",
          "name": "stdout",
          "text": [
            "+------+-------+-------+----------+\n",
            "|userId|movieId|ratings|prediction|\n",
            "+------+-------+-------+----------+\n",
            "|  4169|    148|      3| 2.8003232|\n",
            "|  3539|    148|      3| 3.1331558|\n",
            "|   216|    148|      2| 2.2855732|\n",
            "|   482|    148|      2| 2.6051052|\n",
            "|  4040|    463|      1|  2.229152|\n",
            "|  2051|    463|      1|  2.377112|\n",
            "|   721|    463|      4| 3.1592262|\n",
            "|  4252|    463|      3| 2.2916107|\n",
            "|  3808|    463|      3|   2.46524|\n",
            "|  5831|    463|      4| 2.9461637|\n",
            "+------+-------+-------+----------+\n",
            "only showing top 10 rows\n",
            "\n"
          ]
        }
      ]
    },
    {
      "cell_type": "markdown",
      "metadata": {
        "id": "DIEgL9aFlzLa"
      },
      "source": [
        "#### Looking at the RMSE for the results predicted by the model versus the values in the test set is one way to evalute the quality of our model. Another way to evaluate the model is to evaluate the error from a test set where every rating is the average rating for the training set."
      ]
    },
    {
      "cell_type": "code",
      "metadata": {
        "id": "BiH57Lq1QKwQ",
        "colab": {
          "base_uri": "https://localhost:8080/"
        },
        "outputId": "8493a9f9-9bcf-4ad8-91a6-8c085039c2ff"
      },
      "source": [
        "train_avg = train_df.agg(func.avg('ratings')).withColumnRenamed(\"avg('ratings')\", 'avg_train')\n",
        "\n",
        "avg_train_rating = train_avg.collect()[0][0]\n",
        "\n",
        "print(\"Average ratings of the Train dataset is {0}. \" .format(avg_train_rating))\n",
        "\n",
        "test_avg_column = test_df.withColumn('prediction', lit(avg_train_rating))\n",
        "\n",
        "test_avg_RMSE = evaluator.evaluate(test_avg_column)\n",
        "\n",
        "print(\"Test data RMSE value with Train data Average ratings as prediction is {0}. \" .format(test_avg_RMSE))\n",
        "\n"
      ],
      "execution_count": null,
      "outputs": [
        {
          "output_type": "stream",
          "name": "stdout",
          "text": [
            "Average ratings of the Train dataset is 3.5819323077742973. \n",
            "Test data RMSE value with Train data Average ratings as prediction is 1.118281813691452. \n"
          ]
        }
      ]
    },
    {
      "cell_type": "markdown",
      "metadata": {
        "id": "E0DMOsF_ohAM"
      },
      "source": [
        "## **Checking the recommendation for a particular user with ID 1500 using our tuned ALS model** "
      ]
    },
    {
      "cell_type": "code",
      "metadata": {
        "id": "Exz0pnE1qHZD",
        "colab": {
          "base_uri": "https://localhost:8080/"
        },
        "outputId": "fb121d5f-39e2-45a4-d34d-809b19ebe3b7"
      },
      "source": [
        "user_id = 1500\n",
        "\n",
        "## lets sample the movies watched by the user 1500\n",
        "moviesWatched_user1500 = ratingsDF.filter(ratingsDF.userId == 1500)\n",
        "moviesWatched_user1500.show(10)"
      ],
      "execution_count": null,
      "outputs": [
        {
          "output_type": "stream",
          "name": "stdout",
          "text": [
            "+------+-------+-------+\n",
            "|userId|movieId|ratings|\n",
            "+------+-------+-------+\n",
            "|  1500|   3791|      1|\n",
            "|  1500|   3793|      3|\n",
            "|  1500|   2054|      3|\n",
            "|  1500|   1257|      3|\n",
            "|  1500|   2997|      5|\n",
            "|  1500|   1259|      4|\n",
            "|  1500|   3948|      5|\n",
            "|  1500|   3949|      5|\n",
            "|  1500|   1265|      5|\n",
            "|  1500|    593|      4|\n",
            "+------+-------+-------+\n",
            "only showing top 10 rows\n",
            "\n"
          ]
        }
      ]
    },
    {
      "cell_type": "code",
      "metadata": {
        "colab": {
          "base_uri": "https://localhost:8080/"
        },
        "id": "-Nn1wzz4sr4-",
        "outputId": "bd3697aa-4caf-465b-ae0b-cb7a59fe0f8c"
      },
      "source": [
        "## lets check the Minimum, Maximum and the Average ratings given by the user\n",
        "\n",
        "moviesWatched_user1500.agg(func.min('ratings'), func.max('ratings'), func.round(func.avg('ratings'),2).alias(\"avg(ratings)\")).show(truncate=False)\n"
      ],
      "execution_count": null,
      "outputs": [
        {
          "output_type": "stream",
          "name": "stdout",
          "text": [
            "+------------+------------+------------+\n",
            "|min(ratings)|max(ratings)|avg(ratings)|\n",
            "+------------+------------+------------+\n",
            "|1           |5           |3.9         |\n",
            "+------------+------------+------------+\n",
            "\n"
          ]
        }
      ]
    },
    {
      "cell_type": "code",
      "metadata": {
        "colab": {
          "base_uri": "https://localhost:8080/"
        },
        "id": "w-FxXwC0ssAV",
        "outputId": "acf12516-82d9-4c80-c220-266759d061d3"
      },
      "source": [
        "## lets find out the top10 rated movies by the userId 1500.. for that we need to combine the movies dataframe along with ratings dataframe \n",
        "## in order to find out the movieNames and the genres\n",
        "\n",
        "top10RatedMovies_user1500 = ratingsDF.filter(ratingsDF.userId == 1500)\\\n",
        "                            .join(movieNamesDF, ratingsDF.movieId == movieNamesDF.movieId)\\\n",
        "                            .select(ratingsDF.userId, ratingsDF.movieId, movieNamesDF.movieName, movieNamesDF.genres, ratingsDF.ratings)\\\n",
        "                            .sort(func.col('ratings').desc())                          \n",
        "\n",
        "\n",
        "top10RatedMovies_user1500.show(10, truncate=False)                           \n",
        "\n"
      ],
      "execution_count": null,
      "outputs": [
        {
          "output_type": "stream",
          "name": "stdout",
          "text": [
            "+------+-------+--------------------------------------------+------------+-------+\n",
            "|userId|movieId|movieName                                   |genres      |ratings|\n",
            "+------+-------+--------------------------------------------+------------+-------+\n",
            "|1500  |3253   |Wayne's World (1992)                        |Comedy      |5      |\n",
            "|1500  |3897   |Almost Famous (2000)                        |Comedy|Drama|5      |\n",
            "|1500  |223    |Clerks (1994)                               |Comedy      |5      |\n",
            "|1500  |2997   |Being John Malkovich (1999)                 |Comedy      |5      |\n",
            "|1500  |231    |Dumb & Dumber (1994)                        |Comedy      |5      |\n",
            "|1500  |3949   |Requiem for a Dream (2000)                  |Drama       |5      |\n",
            "|1500  |3608   |Pee-wee's Big Adventure (1985)              |Comedy      |5      |\n",
            "|1500  |1292   |Being There (1979)                          |Comedy      |5      |\n",
            "|1500  |2683   |Austin Powers: The Spy Who Shagged Me (1999)|Comedy      |5      |\n",
            "|1500  |785    |Kingpin (1996)                              |Comedy      |5      |\n",
            "+------+-------+--------------------------------------------+------------+-------+\n",
            "only showing top 10 rows\n",
            "\n"
          ]
        }
      ]
    },
    {
      "cell_type": "code",
      "metadata": {
        "colab": {
          "base_uri": "https://localhost:8080/"
        },
        "id": "YL_nqao1iNrj",
        "outputId": "80f6da97-ee3e-45b0-b063-5f5fd90247eb"
      },
      "source": [
        "## lets check sample of the ratings dataframe for the Number of movies NOT rated by the user 1500 \n",
        "\n",
        "movies_notWatchedorRated_user1500 = ratingsDF.filter(ratingsDF.userId != 1500)\n",
        "movies_notWatchedorRated_user1500.sample(False, 0.01, 0).show(10)\n",
        "\n",
        "print('Number of movies Not Rated/Watched by the user 1500 : ', movies_notWatchedorRated_user1500.count())"
      ],
      "execution_count": null,
      "outputs": [
        {
          "output_type": "stream",
          "name": "stdout",
          "text": [
            "+------+-------+-------+\n",
            "|userId|movieId|ratings|\n",
            "+------+-------+-------+\n",
            "|     1|    919|      4|\n",
            "|     2|   2943|      4|\n",
            "|     4|   2692|      5|\n",
            "|     5|   3267|      4|\n",
            "|     5|     24|      1|\n",
            "|     6|     17|      4|\n",
            "|     9|    590|      5|\n",
            "|     9|   1356|      3|\n",
            "|     9|   2890|      5|\n",
            "|    10|   3438|      3|\n",
            "+------+-------+-------+\n",
            "only showing top 10 rows\n",
            "\n",
            "Number of movies Not Rated/Watched by the user 1500 :  1000094\n"
          ]
        }
      ]
    },
    {
      "cell_type": "code",
      "metadata": {
        "id": "3_kZIRwbMHLw",
        "colab": {
          "base_uri": "https://localhost:8080/"
        },
        "outputId": "231021ec-6c21-41ba-dda4-6915387c78e4"
      },
      "source": [
        "## To make a better Recommendations, we need to list of all movies in the movies dataset that user 1500 has not rated so that we can make new movie recommendations \n",
        "## based on these movies which user 1500 has not yet watched. We don't want to recommend movies that the user has already rated.\n",
        "## In order to do this, we will again need to join the ratings and movies datasets. However, unlike the the previous join we did, which was an inner join, \n",
        "## this join needs to be an outer join as we want all the movies in the movies dataset that the user has not rated in the ratings dataset. \n",
        "\n",
        "movies_notWatched_user1500 = ratingsDF.filter(ratingsDF.userId == 1500)\\\n",
        "                             .join(movieNamesDF, ratingsDF.movieId == movieNamesDF.movieId, 'right')\\\n",
        "                             .filter(ratingsDF.movieId.isNull())\\\n",
        "                             .select(movieNamesDF.movieId, movieNamesDF.movieName, movieNamesDF.genres)\\\n",
        "                             .sort(func.col(\"movieId\"))\n",
        "\n",
        "movies_notWatched_user1500.show(10, truncate=False)\n",
        "\n"
      ],
      "execution_count": null,
      "outputs": [
        {
          "output_type": "stream",
          "name": "stdout",
          "text": [
            "+-------+----------------------------------+----------------------------+\n",
            "|movieId|movieName                         |genres                      |\n",
            "+-------+----------------------------------+----------------------------+\n",
            "|1      |Toy Story (1995)                  |Animation|Children's|Comedy |\n",
            "|2      |Jumanji (1995)                    |Adventure|Children's|Fantasy|\n",
            "|3      |Grumpier Old Men (1995)           |Comedy|Romance              |\n",
            "|4      |Waiting to Exhale (1995)          |Comedy|Drama                |\n",
            "|5      |Father of the Bride Part II (1995)|Comedy                      |\n",
            "|6      |Heat (1995)                       |Action|Crime|Thriller       |\n",
            "|7      |Sabrina (1995)                    |Comedy|Romance              |\n",
            "|8      |Tom and Huck (1995)               |Adventure|Children's        |\n",
            "|9      |Sudden Death (1995)               |Action                      |\n",
            "|10     |GoldenEye (1995)                  |Action|Adventure|Thriller   |\n",
            "+-------+----------------------------------+----------------------------+\n",
            "only showing top 10 rows\n",
            "\n"
          ]
        }
      ]
    },
    {
      "cell_type": "code",
      "metadata": {
        "id": "4H020-AhMHON",
        "colab": {
          "base_uri": "https://localhost:8080/"
        },
        "outputId": "f7659c66-9143-4a45-aab2-53479e58299f"
      },
      "source": [
        "## lets do a check on the resulting data frame.. The Number of movies not watched by the user (the result of the above dataframe) plus\n",
        "## the Number of movies rated by the user in the ratings dataframe must be equal to the Total number of movies in the movies dataframe\n",
        "\n",
        "print('Total number of movies in the Movies dataframe: ', movieNamesDF.count())\n",
        "print('NUmber of movies Not watched by the user: ', movies_notWatched_user1500.count())\n",
        "print('Number of movies rated by the user: ', ratingsDF.filter(ratingsDF.userId == 1500).count())"
      ],
      "execution_count": null,
      "outputs": [
        {
          "output_type": "stream",
          "name": "stdout",
          "text": [
            "Total number of movies in the Movies dataframe:  3883\n",
            "NUmber of movies Not watched by the user:  3768\n",
            "Number of movies rated by the user:  115\n"
          ]
        }
      ]
    },
    {
      "cell_type": "code",
      "metadata": {
        "id": "Q4gNWIf6MHUb",
        "colab": {
          "base_uri": "https://localhost:8080/"
        },
        "outputId": "7ed3eec5-3d19-42d9-8803-4c7c625e7683"
      },
      "source": [
        "## Now, we have the new dataframe ready (as a result of the Right Outer join) as a input to the model so the Predictions can be made based on it.\n",
        "## but first we need to add the UserId 1500 for every movie as the model requires UserId ad MovieId to make predictions\n",
        "\n",
        "\n",
        "movies_df_for_user1500 = movies_notWatched_user1500.withColumn('userId', lit(user_id))\n",
        "movies_df_for_user1500.show(10, truncate=False)\n"
      ],
      "execution_count": null,
      "outputs": [
        {
          "output_type": "stream",
          "name": "stdout",
          "text": [
            "+-------+----------------------------------+----------------------------+------+\n",
            "|movieId|movieName                         |genres                      |userId|\n",
            "+-------+----------------------------------+----------------------------+------+\n",
            "|1      |Toy Story (1995)                  |Animation|Children's|Comedy |1500  |\n",
            "|2      |Jumanji (1995)                    |Adventure|Children's|Fantasy|1500  |\n",
            "|3      |Grumpier Old Men (1995)           |Comedy|Romance              |1500  |\n",
            "|4      |Waiting to Exhale (1995)          |Comedy|Drama                |1500  |\n",
            "|5      |Father of the Bride Part II (1995)|Comedy                      |1500  |\n",
            "|6      |Heat (1995)                       |Action|Crime|Thriller       |1500  |\n",
            "|7      |Sabrina (1995)                    |Comedy|Romance              |1500  |\n",
            "|8      |Tom and Huck (1995)               |Adventure|Children's        |1500  |\n",
            "|9      |Sudden Death (1995)               |Action                      |1500  |\n",
            "|10     |GoldenEye (1995)                  |Action|Adventure|Thriller   |1500  |\n",
            "+-------+----------------------------------+----------------------------+------+\n",
            "only showing top 10 rows\n",
            "\n"
          ]
        }
      ]
    },
    {
      "cell_type": "code",
      "metadata": {
        "colab": {
          "base_uri": "https://localhost:8080/"
        },
        "id": "jrKO3ywjVwwo",
        "outputId": "b4d8da12-ee86-46c9-d3ce-c5c41bc5de16"
      },
      "source": [
        "## Lets feed this dataframe to our Best ALS model to get Top 10 recommendations for our User 1500\n",
        "\n",
        "pred_movies_for_user1500 = best_model.transform(movies_df_for_user1500)\n",
        "\n",
        "als_top10Rec_for_user1500 = pred_movies_for_user1500.select('userId', 'movieId', 'movieName', 'genres', 'prediction')\\\n",
        "                                                    .sort(func.col(\"prediction\").desc())\\\n",
        "                                                    .show(10, truncate=False)\n",
        "\n"
      ],
      "execution_count": null,
      "outputs": [
        {
          "output_type": "stream",
          "name": "stdout",
          "text": [
            "+------+-------+---------------------------------------------------------------------------+------------------+----------+\n",
            "|userId|movieId|movieName                                                                  |genres            |prediction|\n",
            "+------+-------+---------------------------------------------------------------------------+------------------+----------+\n",
            "|1500  |3338   |For All Mankind (1989)                                                     |Documentary       |5.0227456 |\n",
            "|1500  |858    |Godfather, The (1972)                                                      |Action|Crime|Drama|4.9256268 |\n",
            "|1500  |1423   |Hearts and Minds (1996)                                                    |Drama             |4.921913  |\n",
            "|1500  |787    |Gate of Heavenly Peace, The (1995)                                         |Documentary       |4.835946  |\n",
            "|1500  |2905   |Sanjuro (1962)                                                             |Action|Adventure  |4.8133917 |\n",
            "|1500  |572    |Foreign Student (1994)                                                     |Drama             |4.7918367 |\n",
            "|1500  |1213   |GoodFellas (1990)                                                          |Crime|Drama       |4.7681584 |\n",
            "|1500  |750    |Dr. Strangelove or: How I Learned to Stop Worrying and Love the Bomb (1963)|Sci-Fi|War        |4.7421856 |\n",
            "|1500  |1221   |Godfather: Part II, The (1974)                                             |Action|Crime|Drama|4.7358694 |\n",
            "|1500  |1193   |One Flew Over the Cuckoo's Nest (1975)                                     |Drama             |4.731287  |\n",
            "+------+-------+---------------------------------------------------------------------------+------------------+----------+\n",
            "only showing top 10 rows\n",
            "\n"
          ]
        }
      ]
    },
    {
      "cell_type": "code",
      "metadata": {
        "colab": {
          "base_uri": "https://localhost:8080/"
        },
        "id": "_-HwkVtgsdYY",
        "outputId": "bd0e1efc-8a41-4101-a8ee-eadf6edc96c0"
      },
      "source": [
        "## checking the userId = 1500 from the users dataFrame\n",
        "\n",
        "userDF.filter(userDF.userId == 1500).show()"
      ],
      "execution_count": null,
      "outputs": [
        {
          "output_type": "stream",
          "name": "stdout",
          "text": [
            "+------+------+---+\n",
            "|userId|gender|age|\n",
            "+------+------+---+\n",
            "|  1500|     M| 25|\n",
            "+------+------+---+\n",
            "\n"
          ]
        }
      ]
    },
    {
      "cell_type": "markdown",
      "metadata": {
        "id": "pCihMbyctw6w"
      },
      "source": [
        "#### Based on the EDA performed on the User's dataFrame, the Top 10 perferences for a male user are 'Comedy', 'Drama', 'Action', 'Adventure', 'Crime', 'Sci-Fi', 'War' etc., By looking at the Model's recommendation, it's clear that the model captures most of the perferences leaving plenty of room for improvement.\n",
        "\n"
      ]
    },
    {
      "cell_type": "markdown",
      "metadata": {
        "id": "zxzSPturaZfV"
      },
      "source": [
        "## **Prediction for Myself**"
      ]
    },
    {
      "cell_type": "markdown",
      "metadata": {
        "id": "ZER3_DjZa1Ui"
      },
      "source": [
        "#### In this section I want to predict what movies I can recommend to myself. I'll start with 'RecommendedMovies' dataFrame from the Basic Recommendation section to find movies that I am familier with and provide my own ratings for those movies."
      ]
    },
    {
      "cell_type": "code",
      "metadata": {
        "id": "yhgpEH8YVw-s",
        "colab": {
          "base_uri": "https://localhost:8080/"
        },
        "outputId": "847f450b-52ca-4b70-90d9-1d8265bd0c80"
      },
      "source": [
        "recommendedMovies.show(50, truncate=False)"
      ],
      "execution_count": null,
      "outputs": [
        {
          "output_type": "stream",
          "name": "stdout",
          "text": [
            "+-------+---------------------------------------------------------------------------+-----------------+---------------------+\n",
            "|movieId|movieName                                                                  |Number_of_ratings|Avg_ratings_per_movie|\n",
            "+-------+---------------------------------------------------------------------------+-----------------+---------------------+\n",
            "|2019   |Seven Samurai (The Magnificent Seven) (Shichinin no samurai) (1954)        |628              |4.56                 |\n",
            "|318    |Shawshank Redemption, The (1994)                                           |2227             |4.55                 |\n",
            "|858    |Godfather, The (1972)                                                      |2223             |4.52                 |\n",
            "|50     |Usual Suspects, The (1995)                                                 |1783             |4.52                 |\n",
            "|745    |Close Shave, A (1995)                                                      |657              |4.52                 |\n",
            "|527    |Schindler's List (1993)                                                    |2304             |4.51                 |\n",
            "|1148   |Wrong Trousers, The (1993)                                                 |882              |4.51                 |\n",
            "|1198   |Raiders of the Lost Ark (1981)                                             |2514             |4.48                 |\n",
            "|904    |Rear Window (1954)                                                         |1050             |4.48                 |\n",
            "|260    |Star Wars: Episode IV - A New Hope (1977)                                  |2991             |4.45                 |\n",
            "|750    |Dr. Strangelove or: How I Learned to Stop Worrying and Love the Bomb (1963)|1367             |4.45                 |\n",
            "|1207   |To Kill a Mockingbird (1962)                                               |928              |4.43                 |\n",
            "|3435   |Double Indemnity (1944)                                                    |551              |4.42                 |\n",
            "|2762   |Sixth Sense, The (1999)                                                    |2459             |4.41                 |\n",
            "|912    |Casablanca (1942)                                                          |1669             |4.41                 |\n",
            "|1204   |Lawrence of Arabia (1962)                                                  |831              |4.4                  |\n",
            "|913    |Maltese Falcon, The (1941)                                                 |1043             |4.4                  |\n",
            "|1193   |One Flew Over the Cuckoo's Nest (1975)                                     |1725             |4.39                 |\n",
            "|1250   |Bridge on the River Kwai, The (1957)                                       |938              |4.39                 |\n",
            "|923    |Citizen Kane (1941)                                                        |1116             |4.39                 |\n",
            "|908    |North by Northwest (1959)                                                  |1315             |4.38                 |\n",
            "|1262   |Great Escape, The (1963)                                                   |696              |4.38                 |\n",
            "|1221   |Godfather: Part II, The (1974)                                             |1692             |4.36                 |\n",
            "|593    |Silence of the Lambs, The (1991)                                           |2578             |4.35                 |\n",
            "|1136   |Monty Python and the Holy Grail (1974)                                     |1599             |4.34                 |\n",
            "|2028   |Saving Private Ryan (1998)                                                 |2653             |4.34                 |\n",
            "|1252   |Chinatown (1974)                                                           |1185             |4.34                 |\n",
            "|2324   |Life Is Beautiful (La Vita � bella) (1997)                                 |1152             |4.33                 |\n",
            "|1267   |Manchurian Candidate, The (1962)                                           |765              |4.33                 |\n",
            "|2858   |American Beauty (1999)                                                     |3428             |4.32                 |\n",
            "|1234   |Sting, The (1973)                                                          |1049             |4.32                 |\n",
            "|2571   |Matrix, The (1999)                                                         |2590             |4.32                 |\n",
            "|1284   |Big Sleep, The (1946)                                                      |541              |4.31                 |\n",
            "|1197   |Princess Bride, The (1987)                                                 |2318             |4.3                  |\n",
            "|1203   |12 Angry Men (1957)                                                        |616              |4.3                  |\n",
            "|1233   |Boat, The (Das Boot) (1981)                                                |1001             |4.3                  |\n",
            "|910    |Some Like It Hot (1959)                                                    |832              |4.3                  |\n",
            "|898    |Philadelphia Story, The (1940)                                             |582              |4.3                  |\n",
            "|953    |It's a Wonderful Life (1946)                                               |729              |4.3                  |\n",
            "|1172   |Cinema Paradiso (1988)                                                     |615              |4.29                 |\n",
            "|1196   |Star Wars: Episode V - The Empire Strikes Back (1980)                      |2990             |4.29                 |\n",
            "|1213   |GoodFellas (1990)                                                          |1657             |4.28                 |\n",
            "|296    |Pulp Fiction (1994)                                                        |2171             |4.28                 |\n",
            "|899    |Singin' in the Rain (1952)                                                 |751              |4.28                 |\n",
            "|903    |Vertigo (1958)                                                             |905              |4.27                 |\n",
            "|541    |Blade Runner (1982)                                                        |1800             |4.27                 |\n",
            "|1945   |On the Waterfront (1954)                                                   |519              |4.27                 |\n",
            "|1272   |Patton (1970)                                                              |645              |4.27                 |\n",
            "|608    |Fargo (1996)                                                               |2513             |4.25                 |\n",
            "|1299   |Killing Fields, The (1984)                                                 |732              |4.25                 |\n",
            "+-------+---------------------------------------------------------------------------+-----------------+---------------------+\n",
            "only showing top 50 rows\n",
            "\n"
          ]
        }
      ]
    },
    {
      "cell_type": "code",
      "metadata": {
        "colab": {
          "base_uri": "https://localhost:8080/"
        },
        "id": "NO1drzL4E0Ia",
        "outputId": "b9306d12-42dd-4922-b4cb-a6bf36c43e1a"
      },
      "source": [
        "#lets check the minimum userId from the ratings dataFrame\n",
        "\n",
        "check_id = ratingsDF.agg(func.min('userId')).show()"
      ],
      "execution_count": null,
      "outputs": [
        {
          "output_type": "stream",
          "name": "stdout",
          "text": [
            "+-----------+\n",
            "|min(userId)|\n",
            "+-----------+\n",
            "|          1|\n",
            "+-----------+\n",
            "\n"
          ]
        }
      ]
    },
    {
      "cell_type": "code",
      "metadata": {
        "colab": {
          "base_uri": "https://localhost:8080/"
        },
        "id": "PaO_4Sl4E0QK",
        "outputId": "cdb8d31d-d3fb-4644-ddde-aae9a629b578"
      },
      "source": [
        "## Since the UserId from the ratings dataFrame starts with 1, I'll use userId = 0 for myself and create a dataFrame with a userId, the movieId(the movies I picked)\n",
        "## and my own ratings for those movies\n",
        "\n",
        "my_userId = 0\n",
        "\n",
        "my_rated_movies = [\n",
        "                   (my_userId, 2019, 5),\n",
        "                   (my_userId, 858, 5),\n",
        "                   (my_userId, 527, 4),\n",
        "                   (my_userId, 1198, 5),\n",
        "                   (my_userId, 260, 3),\n",
        "                   (my_userId, 2762, 4),\n",
        "                   (my_userId, 1204, 5),\n",
        "                   (my_userId, 1262, 5),\n",
        "                   (my_userId, 1221, 4),\n",
        "                   (my_userId, 2028, 5),\n",
        "                   (my_userId, 1136, 2),\n",
        "                   (my_userId, 2324, 4),\n",
        "                   (my_userId, 2571, 3),\n",
        "                   (my_userId, 1197, 2),\n",
        "                   (my_userId, 541, 4)\n",
        "                ]\n",
        "\n",
        "my_ratings_df = spark.createDataFrame(my_rated_movies, ratingsDF.schema)\n",
        "\n",
        "my_ratings_df.show(10)\n"
      ],
      "execution_count": null,
      "outputs": [
        {
          "output_type": "stream",
          "name": "stdout",
          "text": [
            "+------+-------+-------+\n",
            "|userId|movieId|ratings|\n",
            "+------+-------+-------+\n",
            "|     0|   2019|      5|\n",
            "|     0|    858|      5|\n",
            "|     0|    527|      4|\n",
            "|     0|   1198|      5|\n",
            "|     0|    260|      3|\n",
            "|     0|   2762|      4|\n",
            "|     0|   1204|      5|\n",
            "|     0|   1262|      5|\n",
            "|     0|   1221|      4|\n",
            "|     0|   2028|      5|\n",
            "+------+-------+-------+\n",
            "only showing top 10 rows\n",
            "\n"
          ]
        }
      ]
    },
    {
      "cell_type": "code",
      "metadata": {
        "colab": {
          "base_uri": "https://localhost:8080/"
        },
        "id": "2f9Bpwy2E0S-",
        "outputId": "b22ac415-373b-4d49-9c72-4289d98f86c0"
      },
      "source": [
        "my_ratings_df.printSchema()"
      ],
      "execution_count": null,
      "outputs": [
        {
          "output_type": "stream",
          "name": "stdout",
          "text": [
            "root\n",
            " |-- userId: integer (nullable = true)\n",
            " |-- movieId: integer (nullable = true)\n",
            " |-- ratings: integer (nullable = true)\n",
            "\n"
          ]
        }
      ]
    },
    {
      "cell_type": "code",
      "metadata": {
        "id": "UKQzlpzmE0V3",
        "colab": {
          "base_uri": "https://localhost:8080/"
        },
        "outputId": "4852f938-dbdf-4d4b-8627-4c73539b776c"
      },
      "source": [
        "## lets combine my_ratings_df dataFrame to the originl train_df..\n",
        "\n",
        "train_my_ratings_df = train_df.unionAll(my_ratings_df)\n",
        "train_my_ratings_df.sort(func.col('userId')).show()"
      ],
      "execution_count": null,
      "outputs": [
        {
          "output_type": "stream",
          "name": "stdout",
          "text": [
            "+------+-------+-------+\n",
            "|userId|movieId|ratings|\n",
            "+------+-------+-------+\n",
            "|     0|   2324|      4|\n",
            "|     0|   1204|      5|\n",
            "|     0|   1136|      2|\n",
            "|     0|    527|      4|\n",
            "|     0|   2762|      4|\n",
            "|     0|   1221|      4|\n",
            "|     0|   2028|      5|\n",
            "|     0|   2571|      3|\n",
            "|     0|   1197|      2|\n",
            "|     0|   2019|      5|\n",
            "|     0|    858|      5|\n",
            "|     0|   1198|      5|\n",
            "|     0|    260|      3|\n",
            "|     0|   1262|      5|\n",
            "|     0|    541|      4|\n",
            "|     1|   1961|      5|\n",
            "|     1|   1287|      5|\n",
            "|     1|   1836|      5|\n",
            "|     1|   2321|      3|\n",
            "|     1|   2028|      5|\n",
            "+------+-------+-------+\n",
            "only showing top 20 rows\n",
            "\n"
          ]
        }
      ]
    },
    {
      "cell_type": "code",
      "metadata": {
        "id": "eyLyic0mE0Yg",
        "colab": {
          "base_uri": "https://localhost:8080/"
        },
        "outputId": "41e71b87-9a54-4bed-ed7b-8135e6b115f7"
      },
      "source": [
        "## checkpoints to see whether the dataFrames merged correctly.\n",
        "\n",
        "check_user = train_my_ratings_df.filter(train_my_ratings_df.userId == 0)\n",
        "check_user.show(5)\n",
        "\n",
        "print(\"Count of userId = 0 is {0}\".format(check_user.count()))\n",
        "\n",
        "print('The train_my_ratings_df dataFrame has {0} many ratings than the original train_df. ' .format(train_my_ratings_df.count() - train_df.count()))"
      ],
      "execution_count": null,
      "outputs": [
        {
          "output_type": "stream",
          "name": "stdout",
          "text": [
            "+------+-------+-------+\n",
            "|userId|movieId|ratings|\n",
            "+------+-------+-------+\n",
            "|     0|   2019|      5|\n",
            "|     0|    858|      5|\n",
            "|     0|    527|      4|\n",
            "|     0|   1198|      5|\n",
            "|     0|    260|      3|\n",
            "+------+-------+-------+\n",
            "only showing top 5 rows\n",
            "\n",
            "Count of userId = 0 is 15\n",
            "The train_my_ratings_df dataFrame has 15 many ratings than the original train_df. \n"
          ]
        }
      ]
    },
    {
      "cell_type": "code",
      "metadata": {
        "colab": {
          "base_uri": "https://localhost:8080/"
        },
        "id": "hr0hClmAIIBB",
        "outputId": "6d58f551-316b-4063-d2ed-e6c08300633e"
      },
      "source": [
        "## Prediction for movies that I've not watched/rated\n",
        "\n",
        "movies_Notwatched_user0 = train_my_ratings_df.filter(train_my_ratings_df.userId == 0) \\\n",
        "                                             .join(movieNamesDF, train_my_ratings_df.movieId == movieNamesDF.movieId, 'right') \\\n",
        "                                             .filter(train_my_ratings_df.movieId.isNull())\\\n",
        "                                             .select(movieNamesDF.movieId, movieNamesDF.movieName, movieNamesDF.genres)\\\n",
        "                                             .sort(func.col('movieId'))\n",
        "\n",
        "movies_Notwatched_user0.show(10, truncate=False)"
      ],
      "execution_count": null,
      "outputs": [
        {
          "output_type": "stream",
          "name": "stdout",
          "text": [
            "+-------+----------------------------------+----------------------------+\n",
            "|movieId|movieName                         |genres                      |\n",
            "+-------+----------------------------------+----------------------------+\n",
            "|1      |Toy Story (1995)                  |Animation|Children's|Comedy |\n",
            "|2      |Jumanji (1995)                    |Adventure|Children's|Fantasy|\n",
            "|3      |Grumpier Old Men (1995)           |Comedy|Romance              |\n",
            "|4      |Waiting to Exhale (1995)          |Comedy|Drama                |\n",
            "|5      |Father of the Bride Part II (1995)|Comedy                      |\n",
            "|6      |Heat (1995)                       |Action|Crime|Thriller       |\n",
            "|7      |Sabrina (1995)                    |Comedy|Romance              |\n",
            "|8      |Tom and Huck (1995)               |Adventure|Children's        |\n",
            "|9      |Sudden Death (1995)               |Action                      |\n",
            "|10     |GoldenEye (1995)                  |Action|Adventure|Thriller   |\n",
            "+-------+----------------------------------+----------------------------+\n",
            "only showing top 10 rows\n",
            "\n"
          ]
        }
      ]
    },
    {
      "cell_type": "code",
      "metadata": {
        "colab": {
          "base_uri": "https://localhost:8080/"
        },
        "id": "pqhHJCqhIIVX",
        "outputId": "9ff0f328-d45a-49cb-93e5-6a081249c5f7"
      },
      "source": [
        "## checkpoint..\n",
        "print(\"NUmber of movies in movieNamesDF {0}.\" .format(movieNamesDF.count())) \n",
        "print('Movies Not watched by user 0 {0}' . format(movies_Notwatched_user0.count()))\n",
        "print('movies rated by user 0 {0}' . format(train_my_ratings_df.filter(train_my_ratings_df.userId == 0).count()))"
      ],
      "execution_count": null,
      "outputs": [
        {
          "output_type": "stream",
          "name": "stdout",
          "text": [
            "NUmber of movies in movieNamesDF 3883.\n",
            "Movies Not watched by user 0 3868\n",
            "movies rated by user 0 15\n"
          ]
        }
      ]
    },
    {
      "cell_type": "code",
      "metadata": {
        "id": "ASX5Z1FcRXjB"
      },
      "source": [
        "## Train the ALS model again with my ratings added dataFrame and the parameters we got from tuned ALS model\n",
        "\n",
        "my_alsModel = ALS(rank=12, maxIter=20, regParam=0.1, userCol='userId', itemCol='movieId', seed=42, ratingCol='ratings', coldStartStrategy='drop')"
      ],
      "execution_count": null,
      "outputs": []
    },
    {
      "cell_type": "code",
      "metadata": {
        "id": "lniNmXbApWC7"
      },
      "source": [
        "my_ratings_Model = my_alsModel.fit(train_my_ratings_df)"
      ],
      "execution_count": null,
      "outputs": []
    },
    {
      "cell_type": "code",
      "metadata": {
        "id": "Ti15aHcXpWFr"
      },
      "source": [
        "## Run the model against the test_df\n",
        "\n",
        "my_ratings_test_pred = my_ratings_Model.transform(test_df)"
      ],
      "execution_count": null,
      "outputs": []
    },
    {
      "cell_type": "code",
      "metadata": {
        "colab": {
          "base_uri": "https://localhost:8080/"
        },
        "id": "6FUNvgZYpWIU",
        "outputId": "6d485f4d-fb32-4d66-97d2-19a63b5328c7"
      },
      "source": [
        "print('RMSE of my_ratings_test_pred dataFrame is {0} ' . format(evaluator.evaluate(my_ratings_test_pred)))"
      ],
      "execution_count": null,
      "outputs": [
        {
          "output_type": "stream",
          "name": "stdout",
          "text": [
            "RMSE of my_ratings_test_pred dataFrame is 0.8674488472335011 \n"
          ]
        }
      ]
    },
    {
      "cell_type": "code",
      "metadata": {
        "colab": {
          "base_uri": "https://localhost:8080/"
        },
        "id": "MZwVO-yBmWSZ",
        "outputId": "70af511c-b82e-4414-de6e-54637d13a6d5"
      },
      "source": [
        "my_rated_movieIds = [x[1] for x in my_rated_movies]\n",
        "my_rated_movieIds"
      ],
      "execution_count": null,
      "outputs": [
        {
          "output_type": "execute_result",
          "data": {
            "text/plain": [
              "[2019,\n",
              " 858,\n",
              " 527,\n",
              " 1198,\n",
              " 260,\n",
              " 2762,\n",
              " 1204,\n",
              " 1262,\n",
              " 1221,\n",
              " 2028,\n",
              " 1136,\n",
              " 2324,\n",
              " 2571,\n",
              " 1197,\n",
              " 541]"
            ]
          },
          "metadata": {},
          "execution_count": 85
        }
      ]
    },
    {
      "cell_type": "code",
      "metadata": {
        "colab": {
          "base_uri": "https://localhost:8080/"
        },
        "id": "pFNdaV6mmWVD",
        "outputId": "a00c3514-f0c2-4322-e4cd-ebc5b0667d42"
      },
      "source": [
        "my_Notrated_movies_df = movieNamesDF.filter(~ movieNamesDF.movieId.isin(my_rated_movieIds))\n",
        "my_Notrated_movies_df.show(10, truncate=False)"
      ],
      "execution_count": null,
      "outputs": [
        {
          "output_type": "stream",
          "name": "stdout",
          "text": [
            "+-------+----------------------------------+----------------------------+\n",
            "|movieId|movieName                         |genres                      |\n",
            "+-------+----------------------------------+----------------------------+\n",
            "|1      |Toy Story (1995)                  |Animation|Children's|Comedy |\n",
            "|2      |Jumanji (1995)                    |Adventure|Children's|Fantasy|\n",
            "|3      |Grumpier Old Men (1995)           |Comedy|Romance              |\n",
            "|4      |Waiting to Exhale (1995)          |Comedy|Drama                |\n",
            "|5      |Father of the Bride Part II (1995)|Comedy                      |\n",
            "|6      |Heat (1995)                       |Action|Crime|Thriller       |\n",
            "|7      |Sabrina (1995)                    |Comedy|Romance              |\n",
            "|8      |Tom and Huck (1995)               |Adventure|Children's        |\n",
            "|9      |Sudden Death (1995)               |Action                      |\n",
            "|10     |GoldenEye (1995)                  |Action|Adventure|Thriller   |\n",
            "+-------+----------------------------------+----------------------------+\n",
            "only showing top 10 rows\n",
            "\n"
          ]
        }
      ]
    },
    {
      "cell_type": "code",
      "metadata": {
        "colab": {
          "base_uri": "https://localhost:8080/"
        },
        "id": "CAGz9xcamWYL",
        "outputId": "9b3c9916-2f72-4021-c6f6-23054970daa2"
      },
      "source": [
        "print(my_Notrated_movies_df.count())"
      ],
      "execution_count": null,
      "outputs": [
        {
          "output_type": "stream",
          "name": "stdout",
          "text": [
            "3868\n"
          ]
        }
      ]
    },
    {
      "cell_type": "code",
      "metadata": {
        "colab": {
          "base_uri": "https://localhost:8080/"
        },
        "id": "5eUdGfmpmWnS",
        "outputId": "59a68b0c-7334-4eee-e57d-3a1d9f96f139"
      },
      "source": [
        "my_unrated_movies_df = my_Notrated_movies_df.withColumn('userId', lit(my_userId))\n",
        "my_unrated_movies_df.show(5, truncate=False)"
      ],
      "execution_count": null,
      "outputs": [
        {
          "output_type": "stream",
          "name": "stdout",
          "text": [
            "+-------+----------------------------------+----------------------------+------+\n",
            "|movieId|movieName                         |genres                      |userId|\n",
            "+-------+----------------------------------+----------------------------+------+\n",
            "|1      |Toy Story (1995)                  |Animation|Children's|Comedy |0     |\n",
            "|2      |Jumanji (1995)                    |Adventure|Children's|Fantasy|0     |\n",
            "|3      |Grumpier Old Men (1995)           |Comedy|Romance              |0     |\n",
            "|4      |Waiting to Exhale (1995)          |Comedy|Drama                |0     |\n",
            "|5      |Father of the Bride Part II (1995)|Comedy                      |0     |\n",
            "+-------+----------------------------------+----------------------------+------+\n",
            "only showing top 5 rows\n",
            "\n"
          ]
        }
      ]
    },
    {
      "cell_type": "code",
      "metadata": {
        "colab": {
          "base_uri": "https://localhost:8080/"
        },
        "id": "U6AzS_6Lo68L",
        "outputId": "358ba6ea-4409-4f94-f099-29259014357b"
      },
      "source": [
        "pred_for_my_unrated_movies = my_ratings_Model.transform(my_unrated_movies_df)\n",
        "pred_for_my_unrated_movies.show(10, truncate=False)"
      ],
      "execution_count": null,
      "outputs": [
        {
          "output_type": "stream",
          "name": "stdout",
          "text": [
            "+-------+--------------------------------+--------------------------------+------+----------+\n",
            "|movieId|movieName                       |genres                          |userId|prediction|\n",
            "+-------+--------------------------------+--------------------------------+------+----------+\n",
            "|148    |Awfully Big Adventure, An (1995)|Drama                           |0     |2.4413009 |\n",
            "|463    |Guilty as Sin (1993)            |Crime|Drama|Thriller            |0     |2.548442  |\n",
            "|471    |Hudsucker Proxy, The (1994)     |Comedy|Romance                  |0     |2.5042772 |\n",
            "|496    |What Happened Was... (1994)     |Comedy|Drama|Romance            |0     |3.290371  |\n",
            "|833    |High School High (1996)         |Comedy                          |0     |1.3843108 |\n",
            "|1088   |Dirty Dancing (1987)            |Musical|Romance                 |0     |3.0252626 |\n",
            "|1238   |Local Hero (1983)               |Comedy                          |0     |3.7233143 |\n",
            "|1342   |Candyman (1992)                 |Horror                          |0     |2.126842  |\n",
            "|1580   |Men in Black (1997)             |Action|Adventure|Comedy|Sci-Fi  |0     |2.9492002 |\n",
            "|1591   |Spawn (1997)                    |Action|Adventure|Sci-Fi|Thriller|0     |1.4817135 |\n",
            "+-------+--------------------------------+--------------------------------+------+----------+\n",
            "only showing top 10 rows\n",
            "\n"
          ]
        }
      ]
    },
    {
      "cell_type": "code",
      "metadata": {
        "id": "pdWQqkdsmWqd",
        "colab": {
          "base_uri": "https://localhost:8080/"
        },
        "outputId": "28888ecb-9a49-4661-d29c-f88dff8f3c41"
      },
      "source": [
        "## My movie prediction for Myself with 500 or more ratings per movie\n",
        "myPredMoviesDF = pred_for_my_unrated_movies\\\n",
        "                                          .join(movie_names, pred_for_my_unrated_movies.movieId == movie_names.movieId) \\\n",
        "                                          .select('userId', pred_for_my_unrated_movies.movieId, pred_for_my_unrated_movies.movieName, pred_for_my_unrated_movies.genres, movie_names.Number_of_ratings, movie_names.Avg_ratings_per_movie) \\\n",
        "                                          .sort(func.col('Avg_ratings_per_movie').desc())\n",
        "\n",
        "myPredMoviesDF.show(10, truncate=False)"
      ],
      "execution_count": null,
      "outputs": [
        {
          "output_type": "stream",
          "name": "stdout",
          "text": [
            "+------+-------+---------------------------------------------------------------------------+-------------------------+-----------------+---------------------+\n",
            "|userId|movieId|movieName                                                                  |genres                   |Number_of_ratings|Avg_ratings_per_movie|\n",
            "+------+-------+---------------------------------------------------------------------------+-------------------------+-----------------+---------------------+\n",
            "|0     |318    |Shawshank Redemption, The (1994)                                           |Drama                    |2227             |4.55                 |\n",
            "|0     |50     |Usual Suspects, The (1995)                                                 |Crime|Thriller           |1783             |4.52                 |\n",
            "|0     |745    |Close Shave, A (1995)                                                      |Animation|Comedy|Thriller|657              |4.52                 |\n",
            "|0     |1148   |Wrong Trousers, The (1993)                                                 |Animation|Comedy         |882              |4.51                 |\n",
            "|0     |904    |Rear Window (1954)                                                         |Mystery|Thriller         |1050             |4.48                 |\n",
            "|0     |750    |Dr. Strangelove or: How I Learned to Stop Worrying and Love the Bomb (1963)|Sci-Fi|War               |1367             |4.45                 |\n",
            "|0     |1207   |To Kill a Mockingbird (1962)                                               |Drama                    |928              |4.43                 |\n",
            "|0     |3435   |Double Indemnity (1944)                                                    |Crime|Film-Noir          |551              |4.42                 |\n",
            "|0     |912    |Casablanca (1942)                                                          |Drama|Romance|War        |1669             |4.41                 |\n",
            "|0     |913    |Maltese Falcon, The (1941)                                                 |Film-Noir|Mystery        |1043             |4.4                  |\n",
            "+------+-------+---------------------------------------------------------------------------+-------------------------+-----------------+---------------------+\n",
            "only showing top 10 rows\n",
            "\n"
          ]
        }
      ]
    },
    {
      "cell_type": "markdown",
      "metadata": {
        "id": "aC5GH501BqqK"
      },
      "source": [
        "## **Recommending Movies using ALS built-in functions**"
      ]
    },
    {
      "cell_type": "code",
      "metadata": {
        "id": "V7bSMuuIsvGK",
        "colab": {
          "base_uri": "https://localhost:8080/"
        },
        "outputId": "f85b3d42-1b10-4cbf-f273-bfd0a69e5a22"
      },
      "source": [
        "## Generate Top 5 movie recommendation for each user using best ALS model.. Here, we sample for 10 users\n",
        "\n",
        "als_user_recommendation = best_model.recommendForAllUsers(5)\n",
        "als_user_recommendation.sample(False,0.01,0).show(10)"
      ],
      "execution_count": null,
      "outputs": [
        {
          "output_type": "stream",
          "name": "stdout",
          "text": [
            "+------+--------------------+\n",
            "|userId|     recommendations|\n",
            "+------+--------------------+\n",
            "|   463|[{858, 4.1277027}...|\n",
            "|  2488|[{572, 5.6006413}...|\n",
            "|  2622|[{572, 5.53809}, ...|\n",
            "|  1157|[{572, 5.466335},...|\n",
            "|  4612|[{572, 4.67222}, ...|\n",
            "|   918|[{572, 4.5451818}...|\n",
            "|  1417|[{572, 5.0271783}...|\n",
            "|  4181|[{572, 5.146816},...|\n",
            "|  5452|[{787, 4.4129868}...|\n",
            "|  2047|[{572, 4.9133263}...|\n",
            "+------+--------------------+\n",
            "only showing top 10 rows\n",
            "\n"
          ]
        }
      ]
    },
    {
      "cell_type": "code",
      "metadata": {
        "id": "_g6Owwe5svJi",
        "colab": {
          "base_uri": "https://localhost:8080/"
        },
        "outputId": "f378a111-cabc-4884-d733-2e23d3aef576"
      },
      "source": [
        "## In the above dataFrame the recommendations are stored in the array format with (movieId, ratings). \n",
        "## lets explode the array to check the sample of recommendations for each user..\n",
        "\n",
        "als_user_recommendation = als_user_recommendation.withColumn('recExplode', explode('recommendations')).select('userId', col('recExplode.movieId'), col('recExplode.rating'))\n",
        "als_user_recommendation.show(10)"
      ],
      "execution_count": null,
      "outputs": [
        {
          "output_type": "stream",
          "name": "stdout",
          "text": [
            "+------+-------+---------+\n",
            "|userId|movieId|   rating|\n",
            "+------+-------+---------+\n",
            "|  1580|    572| 4.407517|\n",
            "|  1580|   2512|4.3248696|\n",
            "|  1580|    759| 4.319742|\n",
            "|  1580|   1423| 4.294054|\n",
            "|  1580|    666| 4.174753|\n",
            "|  4900|    572|6.4347777|\n",
            "|  4900|   2197|5.4246297|\n",
            "|  4900|   3050|5.3616977|\n",
            "|  4900|   3808|5.2970705|\n",
            "|  4900|    213|5.2941337|\n",
            "+------+-------+---------+\n",
            "only showing top 10 rows\n",
            "\n"
          ]
        }
      ]
    },
    {
      "cell_type": "markdown",
      "metadata": {
        "id": "FXeLVIGcCqZq"
      },
      "source": [
        "#### Do these recommendations make sense?. Lets check for userId 1580"
      ]
    },
    {
      "cell_type": "code",
      "metadata": {
        "colab": {
          "base_uri": "https://localhost:8080/"
        },
        "id": "Rvx8Y_06Dabz",
        "outputId": "f9096628-410d-49ed-b759-1444ff81dc34"
      },
      "source": [
        "als_user_recommendation.filter(als_user_recommendation.userId == 1580) \\\n",
        "                       .join(movieNamesDF, als_user_recommendation.movieId == movieNamesDF.movieId)\\\n",
        "                       .select(als_user_recommendation.userId, als_user_recommendation.movieId, movieNamesDF.movieName, movieNamesDF.genres, als_user_recommendation.rating) \\\n",
        "                       .sort(func.col('rating').desc()) \\\n",
        "                       .show(truncate=False)"
      ],
      "execution_count": null,
      "outputs": [
        {
          "output_type": "stream",
          "name": "stdout",
          "text": [
            "+------+-------+-------------------------------------------------+-----------+---------+\n",
            "|userId|movieId|movieName                                        |genres     |rating   |\n",
            "+------+-------+-------------------------------------------------+-----------+---------+\n",
            "|1580  |572    |Foreign Student (1994)                           |Drama      |4.407517 |\n",
            "|1580  |2512   |Ballad of Narayama, The (Narayama Bushiko) (1982)|Drama      |4.3248696|\n",
            "|1580  |759    |Maya Lin: A Strong Clear Vision (1994)           |Documentary|4.319742 |\n",
            "|1580  |1423   |Hearts and Minds (1996)                          |Drama      |4.294054 |\n",
            "|1580  |666    |All Things Fair (1996)                           |Drama      |4.174753 |\n",
            "+------+-------+-------------------------------------------------+-----------+---------+\n",
            "\n"
          ]
        }
      ]
    },
    {
      "cell_type": "code",
      "metadata": {
        "colab": {
          "base_uri": "https://localhost:8080/"
        },
        "id": "4C7G-C7OC7ia",
        "outputId": "31a47e45-5244-4c2a-ff62-919fa816dffe"
      },
      "source": [
        "userDF.filter(userDF.userId == 1580).show()"
      ],
      "execution_count": null,
      "outputs": [
        {
          "output_type": "stream",
          "name": "stdout",
          "text": [
            "+------+------+---+\n",
            "|userId|gender|age|\n",
            "+------+------+---+\n",
            "|  1580|     F| 18|\n",
            "+------+------+---+\n",
            "\n"
          ]
        }
      ]
    },
    {
      "cell_type": "markdown",
      "metadata": {
        "id": "6BDyYyXvGeLY"
      },
      "source": [
        "#### Based on the EDA performed on the User's dataFrame, the Top 10 perferences for a female user are 'Comedy', 'Drama', 'Romance', 'Action' etc., By looking at the Model's recommendation, it's clear that the model captures some of the perferences leaving plenty of room for improvement."
      ]
    },
    {
      "cell_type": "code",
      "metadata": {
        "colab": {
          "base_uri": "https://localhost:8080/"
        },
        "id": "BkZ_zJG8diPN",
        "outputId": "a8a639e3-605e-42c7-b4bc-637b535860ae"
      },
      "source": [
        "## Generate Top 10 user recommendations for each movie\n",
        "\n",
        "movieRec = best_model.recommendForAllItems(10)\n",
        "movieRec.sample(False, 0.01, 0).show(10)\n"
      ],
      "execution_count": null,
      "outputs": [
        {
          "output_type": "stream",
          "name": "stdout",
          "text": [
            "+-------+--------------------+\n",
            "|movieId|     recommendations|\n",
            "+-------+--------------------+\n",
            "|   1645|[{3902, 4.875489}...|\n",
            "|   3913|[{870, 5.3965898}...|\n",
            "|    898|[{1071, 5.2421684...|\n",
            "|   3306|[{5589, 5.6135764...|\n",
            "|   2342|[{2867, 5.8309693...|\n",
            "|    385|[{2869, 5.2642684...|\n",
            "|    319|[{446, 4.855999},...|\n",
            "|   3140|[{1445, 5.4293613...|\n",
            "|   2363|[{2867, 4.988036}...|\n",
            "|   2852|[{3902, 4.7067833...|\n",
            "+-------+--------------------+\n",
            "only showing top 10 rows\n",
            "\n"
          ]
        }
      ]
    },
    {
      "cell_type": "code",
      "metadata": {
        "colab": {
          "base_uri": "https://localhost:8080/"
        },
        "id": "h5bwWACWdiUN",
        "outputId": "de9ba838-c945-4251-aad2-0127595f38d9"
      },
      "source": [
        "## generate top 5 movie recommendations for a specified set of users\n",
        "\n",
        "user_subset = ratingsDF.select(als.getUserCol()).distinct().limit(5)\n",
        "usersubsetRecs = best_model.recommendForUserSubset(user_subset, 5)\n",
        "\n",
        "usersubsetRecs.show()\n",
        "\n",
        "\n"
      ],
      "execution_count": null,
      "outputs": [
        {
          "output_type": "stream",
          "name": "stdout",
          "text": [
            "+------+--------------------+\n",
            "|userId|     recommendations|\n",
            "+------+--------------------+\n",
            "|   471|[{3338, 4.8348346...|\n",
            "|   463|[{858, 4.1277027}...|\n",
            "|   833|[{572, 5.3826056}...|\n",
            "|   496|[{572, 5.519216},...|\n",
            "|   148|[{572, 5.7716823}...|\n",
            "+------+--------------------+\n",
            "\n"
          ]
        }
      ]
    },
    {
      "cell_type": "code",
      "metadata": {
        "colab": {
          "base_uri": "https://localhost:8080/"
        },
        "id": "6pKInumpdilA",
        "outputId": "edd7d0b1-1087-4ea5-d4ef-7e69e7ef032c"
      },
      "source": [
        "## generate top 5 user recommendations for a specified set of movies\n",
        "\n",
        "movie_subset = ratingsDF.select(als.getItemCol()).distinct().limit(5)\n",
        "moviesubsetRecs = best_model.recommendForItemSubset(movie_subset, 5)\n",
        "\n",
        "moviesubsetRecs.show()\n",
        "\n"
      ],
      "execution_count": null,
      "outputs": [
        {
          "output_type": "stream",
          "name": "stdout",
          "text": [
            "+-------+--------------------+\n",
            "|movieId|     recommendations|\n",
            "+-------+--------------------+\n",
            "|   1580|[{2867, 5.445257}...|\n",
            "|   3175|[{2867, 5.3659773...|\n",
            "|   2366|[{2867, 5.0100574...|\n",
            "|   1088|[{4173, 4.947901}...|\n",
            "|   1959|[{2673, 4.9765763...|\n",
            "+-------+--------------------+\n",
            "\n"
          ]
        }
      ]
    }
  ]
}